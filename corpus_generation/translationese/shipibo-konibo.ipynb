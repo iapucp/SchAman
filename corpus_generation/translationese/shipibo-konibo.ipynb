{
 "cells": [
  {
   "cell_type": "code",
   "execution_count": 2,
   "source": [
    "import sacrebleu\n",
    "import pandas as pd\n",
    "from collections import Counter"
   ],
   "outputs": [],
   "metadata": {}
  },
  {
   "cell_type": "code",
   "execution_count": 3,
   "source": [
    "pred_file = open(\"data/amnlp21.es-shp.shp.pred\", \"r\")\n",
    "ref_file = open(\"data/amnlp21.shp\", \"r\")\n",
    "\n",
    "sentences = list(zip(pred_file, ref_file))\n",
    "df = pd.DataFrame(sentences, columns=[\"pred\", \"ref\"])\n",
    "\n",
    "df[\"pred\"] = df[\"pred\"].str.lower()\n",
    "df[\"ref\"] = df[\"ref\"].str.lower()\n",
    "df[\"pred\"] = df[\"pred\"].str.rstrip(\".\\n\")\n",
    "df[\"ref\"] = df[\"ref\"].str.rstrip(\".\\n\")\n",
    "\n",
    "df[\"chrF\"] = df.apply(lambda row: sacrebleu.corpus_chrf([row[\"pred\"]], [[row[\"ref\"]]]).score, axis=1)\n",
    "\n",
    "df.sort_values(by=[\"chrF\"], inplace=True)"
   ],
   "outputs": [],
   "metadata": {}
  },
  {
   "cell_type": "code",
   "execution_count": 4,
   "source": [
    "df.head()"
   ],
   "outputs": [
    {
     "output_type": "execute_result",
     "data": {
      "text/html": [
       "<div>\n",
       "<style scoped>\n",
       "    .dataframe tbody tr th:only-of-type {\n",
       "        vertical-align: middle;\n",
       "    }\n",
       "\n",
       "    .dataframe tbody tr th {\n",
       "        vertical-align: top;\n",
       "    }\n",
       "\n",
       "    .dataframe thead th {\n",
       "        text-align: right;\n",
       "    }\n",
       "</style>\n",
       "<table border=\"1\" class=\"dataframe\">\n",
       "  <thead>\n",
       "    <tr style=\"text-align: right;\">\n",
       "      <th></th>\n",
       "      <th>pred</th>\n",
       "      <th>ref</th>\n",
       "      <th>chrF</th>\n",
       "    </tr>\n",
       "  </thead>\n",
       "  <tbody>\n",
       "    <tr>\n",
       "      <th>45</th>\n",
       "      <td>oa báque oxnánra áni jáque</td>\n",
       "      <td>ja xontako ea akinti keni iitaira kikin ochoir...</td>\n",
       "      <td>6.334979</td>\n",
       "    </tr>\n",
       "    <tr>\n",
       "      <th>285</th>\n",
       "      <td>báquera jáque</td>\n",
       "      <td>ja bakeranonra neno itinke</td>\n",
       "      <td>7.378451</td>\n",
       "    </tr>\n",
       "    <tr>\n",
       "      <th>299</th>\n",
       "      <td>ischónra jóni mahuáque</td>\n",
       "      <td>westiora joniresra mawake accidentenko nato ja...</td>\n",
       "      <td>7.492647</td>\n",
       "    </tr>\n",
       "    <tr>\n",
       "      <th>833</th>\n",
       "      <td>jonínra jahuen ahuínhaxon yatánxon yatáncanque</td>\n",
       "      <td>westiora jonira liberankana ike nato cargamea ...</td>\n",
       "      <td>7.957585</td>\n",
       "    </tr>\n",
       "    <tr>\n",
       "      <th>741</th>\n",
       "      <td>yámiquentira yonáque</td>\n",
       "      <td>janra sugierenke westiora fregona biti</td>\n",
       "      <td>8.136302</td>\n",
       "    </tr>\n",
       "  </tbody>\n",
       "</table>\n",
       "</div>"
      ],
      "text/plain": [
       "                                               pred  \\\n",
       "45                       oa báque oxnánra áni jáque   \n",
       "285                                   báquera jáque   \n",
       "299                          ischónra jóni mahuáque   \n",
       "833  jonínra jahuen ahuínhaxon yatánxon yatáncanque   \n",
       "741                            yámiquentira yonáque   \n",
       "\n",
       "                                                   ref      chrF  \n",
       "45   ja xontako ea akinti keni iitaira kikin ochoir...  6.334979  \n",
       "285                         ja bakeranonra neno itinke  7.378451  \n",
       "299  westiora joniresra mawake accidentenko nato ja...  7.492647  \n",
       "833  westiora jonira liberankana ike nato cargamea ...  7.957585  \n",
       "741             janra sugierenke westiora fregona biti  8.136302  "
      ]
     },
     "metadata": {},
     "execution_count": 4
    }
   ],
   "metadata": {}
  },
  {
   "cell_type": "code",
   "execution_count": 5,
   "source": [
    "df[\"chrF\"].describe()"
   ],
   "outputs": [
    {
     "output_type": "execute_result",
     "data": {
      "text/plain": [
       "count    1003.000000\n",
       "mean       34.535699\n",
       "std        16.251995\n",
       "min         6.334979\n",
       "25%        21.787803\n",
       "50%        33.163253\n",
       "75%        44.173054\n",
       "max       100.000000\n",
       "Name: chrF, dtype: float64"
      ]
     },
     "metadata": {},
     "execution_count": 5
    }
   ],
   "metadata": {}
  },
  {
   "cell_type": "code",
   "execution_count": 6,
   "source": [
    "df = df.loc[df[\"chrF\"] < 100]\n",
    "q2 = df[\"chrF\"].quantile(0.5)\n",
    "df = df.loc[df[\"chrF\"] >= q2]"
   ],
   "outputs": [],
   "metadata": {}
  },
  {
   "cell_type": "code",
   "execution_count": 7,
   "source": [
    "df = df.sample(frac=1).reset_index(drop=True)\n",
    "df"
   ],
   "outputs": [
    {
     "output_type": "execute_result",
     "data": {
      "text/html": [
       "<div>\n",
       "<style scoped>\n",
       "    .dataframe tbody tr th:only-of-type {\n",
       "        vertical-align: middle;\n",
       "    }\n",
       "\n",
       "    .dataframe tbody tr th {\n",
       "        vertical-align: top;\n",
       "    }\n",
       "\n",
       "    .dataframe thead th {\n",
       "        text-align: right;\n",
       "    }\n",
       "</style>\n",
       "<table border=\"1\" class=\"dataframe\">\n",
       "  <thead>\n",
       "    <tr style=\"text-align: right;\">\n",
       "      <th></th>\n",
       "      <th>pred</th>\n",
       "      <th>ref</th>\n",
       "      <th>chrF</th>\n",
       "    </tr>\n",
       "  </thead>\n",
       "  <tbody>\n",
       "    <tr>\n",
       "      <th>0</th>\n",
       "      <td>nato u2ninra ícha película biwanke</td>\n",
       "      <td>nato u2ninra kikin icha película bike</td>\n",
       "      <td>66.952458</td>\n",
       "    </tr>\n",
       "    <tr>\n",
       "      <th>1</th>\n",
       "      <td>jatora yoyo ikashamai tsoarin ja peinko ixon i...</td>\n",
       "      <td>jatora ikastimakana ike acuerdo iki tsoaborin ...</td>\n",
       "      <td>33.637025</td>\n",
       "    </tr>\n",
       "    <tr>\n",
       "      <th>2</th>\n",
       "      <td>jaskara ikax, en shinannara ea ramona betan yo...</td>\n",
       "      <td>jaskara ikaxra, en shinanai ramona betan yoyo ...</td>\n",
       "      <td>68.390161</td>\n",
       "    </tr>\n",
       "    <tr>\n",
       "      <th>3</th>\n",
       "      <td>jaskara oinxonra en oinai, enra oinai jawerano...</td>\n",
       "      <td>jaskara ikentian en bochiki oinai, ramona jain...</td>\n",
       "      <td>36.724132</td>\n",
       "    </tr>\n",
       "    <tr>\n",
       "      <th>4</th>\n",
       "      <td>janra akai jakon tee akin, jakopira nato ofici...</td>\n",
       "      <td>westiora tee de amor keskra akanai, jakopira j...</td>\n",
       "      <td>49.005757</td>\n",
       "    </tr>\n",
       "    <tr>\n",
       "      <th>...</th>\n",
       "      <td>...</td>\n",
       "      <td>...</td>\n",
       "      <td>...</td>\n",
       "    </tr>\n",
       "    <tr>\n",
       "      <th>495</th>\n",
       "      <td>jen jen, jonibora kikin pitioma iki</td>\n",
       "      <td>jen jen, jonibo jaweska ikax jawekiakashamaibo</td>\n",
       "      <td>36.175044</td>\n",
       "    </tr>\n",
       "    <tr>\n",
       "      <th>496</th>\n",
       "      <td>kikin jakon riki campónra mia masa shinantima ...</td>\n",
       "      <td>ja kikin jakon riki nato camponko ixon mia ja ...</td>\n",
       "      <td>44.947066</td>\n",
       "    </tr>\n",
       "    <tr>\n",
       "      <th>497</th>\n",
       "      <td>cuba markanxbichora ike, eh, kaiser, eh, ja im...</td>\n",
       "      <td>ja baja bichora ike nato crisis de cubankonia ...</td>\n",
       "      <td>47.240933</td>\n",
       "    </tr>\n",
       "    <tr>\n",
       "      <th>498</th>\n",
       "      <td>eh, jara ika iki st. louis, jefferson city ita...</td>\n",
       "      <td>eh, st. louis pikotainra jakatiai, jefferson c...</td>\n",
       "      <td>61.825328</td>\n",
       "    </tr>\n",
       "    <tr>\n",
       "      <th>499</th>\n",
       "      <td>jatibi jaton bakeki jakanke</td>\n",
       "      <td>jatibi jan bakebora jirikana iki</td>\n",
       "      <td>39.053087</td>\n",
       "    </tr>\n",
       "  </tbody>\n",
       "</table>\n",
       "<p>500 rows × 3 columns</p>\n",
       "</div>"
      ],
      "text/plain": [
       "                                                  pred  \\\n",
       "0                   nato u2ninra ícha película biwanke   \n",
       "1    jatora yoyo ikashamai tsoarin ja peinko ixon i...   \n",
       "2    jaskara ikax, en shinannara ea ramona betan yo...   \n",
       "3    jaskara oinxonra en oinai, enra oinai jawerano...   \n",
       "4    janra akai jakon tee akin, jakopira nato ofici...   \n",
       "..                                                 ...   \n",
       "495                jen jen, jonibora kikin pitioma iki   \n",
       "496  kikin jakon riki campónra mia masa shinantima ...   \n",
       "497  cuba markanxbichora ike, eh, kaiser, eh, ja im...   \n",
       "498  eh, jara ika iki st. louis, jefferson city ita...   \n",
       "499                        jatibi jaton bakeki jakanke   \n",
       "\n",
       "                                                   ref       chrF  \n",
       "0                nato u2ninra kikin icha película bike  66.952458  \n",
       "1    jatora ikastimakana ike acuerdo iki tsoaborin ...  33.637025  \n",
       "2    jaskara ikaxra, en shinanai ramona betan yoyo ...  68.390161  \n",
       "3    jaskara ikentian en bochiki oinai, ramona jain...  36.724132  \n",
       "4    westiora tee de amor keskra akanai, jakopira j...  49.005757  \n",
       "..                                                 ...        ...  \n",
       "495     jen jen, jonibo jaweska ikax jawekiakashamaibo  36.175044  \n",
       "496  ja kikin jakon riki nato camponko ixon mia ja ...  44.947066  \n",
       "497  ja baja bichora ike nato crisis de cubankonia ...  47.240933  \n",
       "498  eh, st. louis pikotainra jakatiai, jefferson c...  61.825328  \n",
       "499                   jatibi jan bakebora jirikana iki  39.053087  \n",
       "\n",
       "[500 rows x 3 columns]"
      ]
     },
     "metadata": {},
     "execution_count": 7
    }
   ],
   "metadata": {}
  },
  {
   "cell_type": "code",
   "execution_count": 9,
   "source": [
    "sentences = df[\"ref\"].tolist()\n",
    "corpus = ' '.join(sentences)\n",
    "words = [w.strip() for w in corpus.split()]\n",
    "word_count = Counter(words)\n",
    "unique_words = list(word_count.keys())\n",
    "\n",
    "print(\"Número de palabras únicas (oraciones sin errores ortográficos): {}\".format(len(unique_words)))"
   ],
   "outputs": [
    {
     "output_type": "stream",
     "name": "stdout",
     "text": [
      "Número de palabras únicas (oraciones sin errores ortográficos): 1735\n"
     ]
    }
   ],
   "metadata": {}
  },
  {
   "cell_type": "code",
   "execution_count": 8,
   "source": [
    "sentences = df[\"pred\"].tolist()\n",
    "corpus = ' '.join(sentences)\n",
    "words = [w.strip() for w in corpus.split()]\n",
    "word_count = Counter(words)\n",
    "unique_words = list(word_count.keys())\n",
    "\n",
    "print(\"Número de palabras únicas (oraciones con errores ortográficos): {}\".format(len(unique_words)))"
   ],
   "outputs": [
    {
     "output_type": "stream",
     "name": "stdout",
     "text": [
      "Número de palabras únicas (oraciones con errores ortográficos): 1267\n"
     ]
    }
   ],
   "metadata": {}
  },
  {
   "cell_type": "code",
   "execution_count": 7,
   "source": [
    "with open(\"shi.translationese.test.sentences.errors.txt\", \"w\") as f:\n",
    "    f.write(df[\"pred\"].str.cat(sep='\\n'))\n",
    "\n",
    "with open(\"shi.translationese.test.sentences.txt\", \"w\") as f:\n",
    "    f.write(df[\"ref\"].str.cat(sep='\\n'))"
   ],
   "outputs": [],
   "metadata": {}
  },
  {
   "cell_type": "code",
   "execution_count": 8,
   "source": [
    "print(\"test chrF: {}\".format(df[\"chrF\"].mean()))"
   ],
   "outputs": [
    {
     "output_type": "stream",
     "name": "stdout",
     "text": [
      "test chrF: 46.84141931899608\n"
     ]
    }
   ],
   "metadata": {}
  },
  {
   "cell_type": "code",
   "execution_count": null,
   "source": [],
   "outputs": [],
   "metadata": {}
  }
 ],
 "metadata": {
  "kernelspec": {
   "name": "python3",
   "display_name": "Python 3.9.5 64-bit"
  },
  "language_info": {
   "codemirror_mode": {
    "name": "ipython",
    "version": 3
   },
   "file_extension": ".py",
   "mimetype": "text/x-python",
   "name": "python",
   "nbconvert_exporter": "python",
   "pygments_lexer": "ipython3",
   "version": "3.9.5"
  },
  "interpreter": {
   "hash": "397704579725e15f5c7cb49fe5f0341eb7531c82d19f2c29d197e8b64ab5776b"
  }
 },
 "nbformat": 4,
 "nbformat_minor": 5
}