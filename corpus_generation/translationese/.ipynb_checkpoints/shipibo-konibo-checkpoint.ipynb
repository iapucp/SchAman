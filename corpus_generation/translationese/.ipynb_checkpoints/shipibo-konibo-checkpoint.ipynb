{
 "cells": [
  {
   "cell_type": "code",
   "execution_count": 1,
   "id": "39371488",
   "metadata": {},
   "outputs": [],
   "source": [
    "#!jt -t onedork -T -N -kl -ofs 95"
   ]
  },
  {
   "cell_type": "code",
   "execution_count": 2,
   "id": "59faddf4",
   "metadata": {},
   "outputs": [],
   "source": [
    "import sacrebleu\n",
    "import pandas as pd"
   ]
  },
  {
   "cell_type": "code",
   "execution_count": 3,
   "id": "364b7ec9",
   "metadata": {},
   "outputs": [],
   "source": [
    "ref_file = open(\"data/amnlp21.shp\", \"r\")\n",
    "pred_file = open(\"data/amnlp21.es-shp.shp.pred\", \"r\")\n",
    "\n",
    "sentences = list(zip(ref_file, pred_file))\n",
    "df = pd.DataFrame(sentences, columns=[\"ref\", \"pred\"])\n",
    "\n",
    "df[\"chrF\"] = df.apply(lambda row: sacrebleu.corpus_chrf([row[\"pred\"]], [[row[\"ref\"]]]).score, axis=1)\n",
    "df.sort_values(by=[\"chrF\"], inplace=True)"
   ]
  },
  {
   "cell_type": "code",
   "execution_count": 4,
   "id": "640f2161",
   "metadata": {},
   "outputs": [
    {
     "data": {
      "text/html": [
       "<div>\n",
       "<style scoped>\n",
       "    .dataframe tbody tr th:only-of-type {\n",
       "        vertical-align: middle;\n",
       "    }\n",
       "\n",
       "    .dataframe tbody tr th {\n",
       "        vertical-align: top;\n",
       "    }\n",
       "\n",
       "    .dataframe thead th {\n",
       "        text-align: right;\n",
       "    }\n",
       "</style>\n",
       "<table border=\"1\" class=\"dataframe\">\n",
       "  <thead>\n",
       "    <tr style=\"text-align: right;\">\n",
       "      <th></th>\n",
       "      <th>ref</th>\n",
       "      <th>pred</th>\n",
       "      <th>chrF</th>\n",
       "    </tr>\n",
       "  </thead>\n",
       "  <tbody>\n",
       "    <tr>\n",
       "      <th>299</th>\n",
       "      <td>Westiora joniresra mawake accidentenko nato ja...</td>\n",
       "      <td>Ischónra jóni mahuáque.\\n</td>\n",
       "      <td>0.062685</td>\n",
       "    </tr>\n",
       "    <tr>\n",
       "      <th>45</th>\n",
       "      <td>Ja xontako ea akinti keni iitaira kikin ochoir...</td>\n",
       "      <td>Oa báque oxnánra áni jáque.\\n</td>\n",
       "      <td>0.065993</td>\n",
       "    </tr>\n",
       "    <tr>\n",
       "      <th>177</th>\n",
       "      <td>Yoirake jaweti iki tsasikana ja baiyain.\\n</td>\n",
       "      <td>Ja báironqui báiaque.\\n</td>\n",
       "      <td>0.068475</td>\n",
       "    </tr>\n",
       "    <tr>\n",
       "      <th>285</th>\n",
       "      <td>Ja bakeranonra neno itinke.\\n</td>\n",
       "      <td>Báquera jáque.\\n</td>\n",
       "      <td>0.070688</td>\n",
       "    </tr>\n",
       "    <tr>\n",
       "      <th>833</th>\n",
       "      <td>Westiora jonira liberankana ike nato cargamea ...</td>\n",
       "      <td>Jonínra jahuen ahuínhaxon yatánxon yatáncanque.\\n</td>\n",
       "      <td>0.076774</td>\n",
       "    </tr>\n",
       "  </tbody>\n",
       "</table>\n",
       "</div>"
      ],
      "text/plain": [
       "                                                   ref  \\\n",
       "299  Westiora joniresra mawake accidentenko nato ja...   \n",
       "45   Ja xontako ea akinti keni iitaira kikin ochoir...   \n",
       "177         Yoirake jaweti iki tsasikana ja baiyain.\\n   \n",
       "285                      Ja bakeranonra neno itinke.\\n   \n",
       "833  Westiora jonira liberankana ike nato cargamea ...   \n",
       "\n",
       "                                                  pred      chrF  \n",
       "299                          Ischónra jóni mahuáque.\\n  0.062685  \n",
       "45                       Oa báque oxnánra áni jáque.\\n  0.065993  \n",
       "177                            Ja báironqui báiaque.\\n  0.068475  \n",
       "285                                   Báquera jáque.\\n  0.070688  \n",
       "833  Jonínra jahuen ahuínhaxon yatánxon yatáncanque.\\n  0.076774  "
      ]
     },
     "execution_count": 4,
     "metadata": {},
     "output_type": "execute_result"
    }
   ],
   "source": [
    "df.head()"
   ]
  },
  {
   "cell_type": "code",
   "execution_count": 5,
   "id": "17040c3d",
   "metadata": {},
   "outputs": [
    {
     "data": {
      "text/plain": [
       "count    1003.000000\n",
       "mean        0.339153\n",
       "std         0.159569\n",
       "min         0.062685\n",
       "25%         0.216200\n",
       "50%         0.324916\n",
       "75%         0.431150\n",
       "max         1.000000\n",
       "Name: chrF, dtype: float64"
      ]
     },
     "execution_count": 5,
     "metadata": {},
     "output_type": "execute_result"
    }
   ],
   "source": [
    "df[\"chrF\"].describe()"
   ]
  },
  {
   "cell_type": "code",
   "execution_count": 6,
   "id": "bf727da5",
   "metadata": {},
   "outputs": [
    {
     "data": {
      "text/html": [
       "<div>\n",
       "<style scoped>\n",
       "    .dataframe tbody tr th:only-of-type {\n",
       "        vertical-align: middle;\n",
       "    }\n",
       "\n",
       "    .dataframe tbody tr th {\n",
       "        vertical-align: top;\n",
       "    }\n",
       "\n",
       "    .dataframe thead th {\n",
       "        text-align: right;\n",
       "    }\n",
       "</style>\n",
       "<table border=\"1\" class=\"dataframe\">\n",
       "  <thead>\n",
       "    <tr style=\"text-align: right;\">\n",
       "      <th></th>\n",
       "      <th>ref</th>\n",
       "      <th>pred</th>\n",
       "      <th>chrF</th>\n",
       "    </tr>\n",
       "  </thead>\n",
       "  <tbody>\n",
       "    <tr>\n",
       "      <th>29</th>\n",
       "      <td>U2 batanra en tratana iki.\\n</td>\n",
       "      <td>U2 betanra en ike.\\n</td>\n",
       "      <td>0.324916</td>\n",
       "    </tr>\n",
       "    <tr>\n",
       "      <th>468</th>\n",
       "      <td>Itan jara tuberculosiya ikatiai itan enra jawe...</td>\n",
       "      <td>Jara tuberculosisya iki, enribira nato jawekib...</td>\n",
       "      <td>0.325424</td>\n",
       "    </tr>\n",
       "    <tr>\n",
       "      <th>778</th>\n",
       "      <td>Nato joniboanra consideranti jake jaton basura...</td>\n",
       "      <td>Joniboanra kenai jaweti icha itan jawe kopi ba...</td>\n",
       "      <td>0.325975</td>\n",
       "    </tr>\n",
       "    <tr>\n",
       "      <th>443</th>\n",
       "      <td>Janra yoiyosma iki razónya sobre nato pastel d...</td>\n",
       "      <td>Janra yoiyama iki jain pastelin ika.\\n</td>\n",
       "      <td>0.326185</td>\n",
       "    </tr>\n",
       "    <tr>\n",
       "      <th>92</th>\n",
       "      <td>Ikaxbi jaskara ikenbi, ja yoinabora jatibitian...</td>\n",
       "      <td>Ikaxbiribira mesko yoinabo jenetima iki, astaw...</td>\n",
       "      <td>0.326808</td>\n",
       "    </tr>\n",
       "    <tr>\n",
       "      <th>...</th>\n",
       "      <td>...</td>\n",
       "      <td>...</td>\n",
       "      <td>...</td>\n",
       "    </tr>\n",
       "    <tr>\n",
       "      <th>410</th>\n",
       "      <td>Wetiora iPhonenin yoyo iki riki.\\n</td>\n",
       "      <td>Westiora iPhonenin yoyo iki riki.\\n</td>\n",
       "      <td>0.931965</td>\n",
       "    </tr>\n",
       "    <tr>\n",
       "      <th>942</th>\n",
       "      <td>Eara rateyamake.\\n</td>\n",
       "      <td>Eara rateyamake.\\n</td>\n",
       "      <td>1.000000</td>\n",
       "    </tr>\n",
       "    <tr>\n",
       "      <th>873</th>\n",
       "      <td>Enra ninkati atipanyamake.\\n</td>\n",
       "      <td>Enra ninkati atipanyamake.\\n</td>\n",
       "      <td>1.000000</td>\n",
       "    </tr>\n",
       "    <tr>\n",
       "      <th>470</th>\n",
       "      <td>Enra onanyama ike tuberculosisya.\\n</td>\n",
       "      <td>Enra onanyama ike tuberculosisya.\\n</td>\n",
       "      <td>1.000000</td>\n",
       "    </tr>\n",
       "    <tr>\n",
       "      <th>760</th>\n",
       "      <td>¿Jaweti bakeyarin mia?\\n</td>\n",
       "      <td>¿Jaweti bakeyarin mia?\\n</td>\n",
       "      <td>1.000000</td>\n",
       "    </tr>\n",
       "  </tbody>\n",
       "</table>\n",
       "<p>502 rows × 3 columns</p>\n",
       "</div>"
      ],
      "text/plain": [
       "                                                   ref  \\\n",
       "29                        U2 batanra en tratana iki.\\n   \n",
       "468  Itan jara tuberculosiya ikatiai itan enra jawe...   \n",
       "778  Nato joniboanra consideranti jake jaton basura...   \n",
       "443  Janra yoiyosma iki razónya sobre nato pastel d...   \n",
       "92   Ikaxbi jaskara ikenbi, ja yoinabora jatibitian...   \n",
       "..                                                 ...   \n",
       "410                 Wetiora iPhonenin yoyo iki riki.\\n   \n",
       "942                                 Eara rateyamake.\\n   \n",
       "873                       Enra ninkati atipanyamake.\\n   \n",
       "470                Enra onanyama ike tuberculosisya.\\n   \n",
       "760                           ¿Jaweti bakeyarin mia?\\n   \n",
       "\n",
       "                                                  pred      chrF  \n",
       "29                                U2 betanra en ike.\\n  0.324916  \n",
       "468  Jara tuberculosisya iki, enribira nato jawekib...  0.325424  \n",
       "778  Joniboanra kenai jaweti icha itan jawe kopi ba...  0.325975  \n",
       "443             Janra yoiyama iki jain pastelin ika.\\n  0.326185  \n",
       "92   Ikaxbiribira mesko yoinabo jenetima iki, astaw...  0.326808  \n",
       "..                                                 ...       ...  \n",
       "410                Westiora iPhonenin yoyo iki riki.\\n  0.931965  \n",
       "942                                 Eara rateyamake.\\n  1.000000  \n",
       "873                       Enra ninkati atipanyamake.\\n  1.000000  \n",
       "470                Enra onanyama ike tuberculosisya.\\n  1.000000  \n",
       "760                           ¿Jaweti bakeyarin mia?\\n  1.000000  \n",
       "\n",
       "[502 rows x 3 columns]"
      ]
     },
     "execution_count": 6,
     "metadata": {},
     "output_type": "execute_result"
    }
   ],
   "source": [
    "q2 = df[\"chrF\"].quantile(0.5)\n",
    "df.loc[df[\"chrF\"] >= q2]"
   ]
  },
  {
   "cell_type": "code",
   "execution_count": 7,
   "id": "74d03d0d",
   "metadata": {},
   "outputs": [],
   "source": [
    "with open(\"shi.ref.txt\", \"w\") as f:\n",
    "    f.write(df[\"ref\"].str.cat())\n",
    "    \n",
    "with open(\"shi.pred.txt\", \"w\") as f:\n",
    "    f.write(df[\"pred\"].str.cat())"
   ]
  },
  {
   "cell_type": "code",
   "execution_count": null,
   "id": "ffeb352a",
   "metadata": {},
   "outputs": [],
   "source": []
  }
 ],
 "metadata": {
  "kernelspec": {
   "display_name": "Python 3",
   "language": "python",
   "name": "python3"
  },
  "language_info": {
   "codemirror_mode": {
    "name": "ipython",
    "version": 3
   },
   "file_extension": ".py",
   "mimetype": "text/x-python",
   "name": "python",
   "nbconvert_exporter": "python",
   "pygments_lexer": "ipython3",
   "version": "3.8.10"
  }
 },
 "nbformat": 4,
 "nbformat_minor": 5
}
