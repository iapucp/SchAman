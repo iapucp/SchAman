{
 "cells": [
  {
   "cell_type": "code",
   "execution_count": 1,
   "source": [
    "import sacrebleu\n",
    "import pandas as pd\n",
    "from collections import Counter\n"
   ],
   "outputs": [],
   "metadata": {}
  },
  {
   "cell_type": "code",
   "execution_count": 2,
   "source": [
    "pred_file = open(\"data/amnlp21.es-cni.cni.pred\", \"r\")\n",
    "ref_file = open(\"data/amnlp21.cni\", \"r\")\n",
    "\n",
    "sentences = list(zip(pred_file, ref_file))\n",
    "df = pd.DataFrame(sentences, columns=[\"pred\", \"ref\"])\n",
    "\n",
    "df[\"pred\"] = df[\"pred\"].str.lower()\n",
    "df[\"ref\"] = df[\"ref\"].str.lower()\n",
    "df[\"pred\"] = df[\"pred\"].str.rstrip(\".\\n\")\n",
    "df[\"ref\"] = df[\"ref\"].str.rstrip(\".\\n\")\n",
    "\n",
    "df[\"chrF\"] = df.apply(lambda row: sacrebleu.corpus_chrf([row[\"pred\"]], [[row[\"ref\"]]]).score, axis=1)\n",
    "\n",
    "df.sort_values(by=[\"chrF\"], inplace=True)"
   ],
   "outputs": [],
   "metadata": {}
  },
  {
   "cell_type": "code",
   "execution_count": 3,
   "source": [
    "df.head()"
   ],
   "outputs": [
    {
     "output_type": "execute_result",
     "data": {
      "text/html": [
       "<div>\n",
       "<style scoped>\n",
       "    .dataframe tbody tr th:only-of-type {\n",
       "        vertical-align: middle;\n",
       "    }\n",
       "\n",
       "    .dataframe tbody tr th {\n",
       "        vertical-align: top;\n",
       "    }\n",
       "\n",
       "    .dataframe thead th {\n",
       "        text-align: right;\n",
       "    }\n",
       "</style>\n",
       "<table border=\"1\" class=\"dataframe\">\n",
       "  <thead>\n",
       "    <tr style=\"text-align: right;\">\n",
       "      <th></th>\n",
       "      <th>pred</th>\n",
       "      <th>ref</th>\n",
       "      <th>chrF</th>\n",
       "    </tr>\n",
       "  </thead>\n",
       "  <tbody>\n",
       "    <tr>\n",
       "      <th>880</th>\n",
       "      <td>te okameetsateji</td>\n",
       "      <td>kaari oni añapinire</td>\n",
       "      <td>7.092482</td>\n",
       "    </tr>\n",
       "    <tr>\n",
       "      <th>289</th>\n",
       "      <td>tekatsi tv</td>\n",
       "      <td>tee otimimojeiteni television</td>\n",
       "      <td>7.218585</td>\n",
       "    </tr>\n",
       "    <tr>\n",
       "      <th>233</th>\n",
       "      <td>ari otsonkapakari</td>\n",
       "      <td>iroobetanchame nojokanajero</td>\n",
       "      <td>9.058020</td>\n",
       "    </tr>\n",
       "    <tr>\n",
       "      <th>678</th>\n",
       "      <td>kapichatiri iroakerari irirori</td>\n",
       "      <td>yapanirotanteari ashi amitakotantsi, ashi añaa...</td>\n",
       "      <td>9.458552</td>\n",
       "    </tr>\n",
       "    <tr>\n",
       "      <th>536</th>\n",
       "      <td>kaari okisanoitake</td>\n",
       "      <td>ojimetsori ini ibotsore konijari</td>\n",
       "      <td>9.498641</td>\n",
       "    </tr>\n",
       "  </tbody>\n",
       "</table>\n",
       "</div>"
      ],
      "text/plain": [
       "                               pred  \\\n",
       "880                te okameetsateji   \n",
       "289                      tekatsi tv   \n",
       "233               ari otsonkapakari   \n",
       "678  kapichatiri iroakerari irirori   \n",
       "536              kaari okisanoitake   \n",
       "\n",
       "                                                   ref      chrF  \n",
       "880                                kaari oni añapinire  7.092482  \n",
       "289                      tee otimimojeiteni television  7.218585  \n",
       "233                        iroobetanchame nojokanajero  9.058020  \n",
       "678  yapanirotanteari ashi amitakotantsi, ashi añaa...  9.458552  \n",
       "536                   ojimetsori ini ibotsore konijari  9.498641  "
      ]
     },
     "metadata": {},
     "execution_count": 3
    }
   ],
   "metadata": {}
  },
  {
   "cell_type": "code",
   "execution_count": 4,
   "source": [
    "df[\"chrF\"].describe()"
   ],
   "outputs": [
    {
     "output_type": "execute_result",
     "data": {
      "text/plain": [
       "count    1003.000000\n",
       "mean       30.888569\n",
       "std        11.509238\n",
       "min         7.092482\n",
       "25%        22.337975\n",
       "50%        29.500961\n",
       "75%        37.488847\n",
       "max        80.222748\n",
       "Name: chrF, dtype: float64"
      ]
     },
     "metadata": {},
     "execution_count": 4
    }
   ],
   "metadata": {}
  },
  {
   "cell_type": "code",
   "execution_count": 5,
   "source": [
    "df = df.loc[df[\"chrF\"] < 100]\n",
    "q2 = df[\"chrF\"].quantile(0.5)\n",
    "df = df.loc[df[\"chrF\"] >= q2]"
   ],
   "outputs": [],
   "metadata": {}
  },
  {
   "cell_type": "code",
   "execution_count": 6,
   "source": [
    "df = df.sample(frac=1).reset_index(drop=True)\n",
    "df"
   ],
   "outputs": [
    {
     "output_type": "execute_result",
     "data": {
      "text/html": [
       "<div>\n",
       "<style scoped>\n",
       "    .dataframe tbody tr th:only-of-type {\n",
       "        vertical-align: middle;\n",
       "    }\n",
       "\n",
       "    .dataframe tbody tr th {\n",
       "        vertical-align: top;\n",
       "    }\n",
       "\n",
       "    .dataframe thead th {\n",
       "        text-align: right;\n",
       "    }\n",
       "</style>\n",
       "<table border=\"1\" class=\"dataframe\">\n",
       "  <thead>\n",
       "    <tr style=\"text-align: right;\">\n",
       "      <th></th>\n",
       "      <th>pred</th>\n",
       "      <th>ref</th>\n",
       "      <th>chrF</th>\n",
       "    </tr>\n",
       "  </thead>\n",
       "  <tbody>\n",
       "    <tr>\n",
       "      <th>0</th>\n",
       "      <td>iroori tee omatea okantimoshirebetantyari ibatsa</td>\n",
       "      <td>iroori tekatsi okante okantakotiri ora pastel ...</td>\n",
       "      <td>32.283333</td>\n",
       "    </tr>\n",
       "    <tr>\n",
       "      <th>1</th>\n",
       "      <td>nokematsataka kapicheeni</td>\n",
       "      <td>irosati notsaroabeta kapichaji</td>\n",
       "      <td>30.040541</td>\n",
       "    </tr>\n",
       "    <tr>\n",
       "      <th>2</th>\n",
       "      <td>atsonkakiro 1962 , pinkatsatakotea notsiparero...</td>\n",
       "      <td>otsonkantapaakari 1962 naake kantakantantsi no...</td>\n",
       "      <td>34.444138</td>\n",
       "    </tr>\n",
       "    <tr>\n",
       "      <th>3</th>\n",
       "      <td>iroka kaari katsini itime aparo piratsi pinkat...</td>\n",
       "      <td>oka kaari jibatatsiri omanejatiri aparo pirant...</td>\n",
       "      <td>41.708164</td>\n",
       "    </tr>\n",
       "    <tr>\n",
       "      <th>4</th>\n",
       "      <td>iriori osheki iroori</td>\n",
       "      <td>iriori irinti atyarisanori irooriki</td>\n",
       "      <td>31.572583</td>\n",
       "    </tr>\n",
       "    <tr>\n",
       "      <th>...</th>\n",
       "      <td>...</td>\n",
       "      <td>...</td>\n",
       "      <td>...</td>\n",
       "    </tr>\n",
       "    <tr>\n",
       "      <th>497</th>\n",
       "      <td>noneake kiribiro maaroni kitaiteripee</td>\n",
       "      <td>noñaanatiro kiribiropee maaroni kitaiteriki</td>\n",
       "      <td>57.226191</td>\n",
       "    </tr>\n",
       "    <tr>\n",
       "      <th>498</th>\n",
       "      <td>nokoi nosaikanake 922</td>\n",
       "      <td>narotake 922</td>\n",
       "      <td>38.155308</td>\n",
       "    </tr>\n",
       "    <tr>\n",
       "      <th>499</th>\n",
       "      <td>niotake nana 4 pies (10 cm) osarentsi</td>\n",
       "      <td>niyoti omonkarata 4 pies(10cm) otsantsati</td>\n",
       "      <td>43.137943</td>\n",
       "    </tr>\n",
       "    <tr>\n",
       "      <th>500</th>\n",
       "      <td>iroori ikantiro iyotakotanakero okantakotiri</td>\n",
       "      <td>iroori okanti oyotiro okantakota añaamentotsi</td>\n",
       "      <td>49.294870</td>\n",
       "    </tr>\n",
       "    <tr>\n",
       "      <th>501</th>\n",
       "      <td>robakabo ibetsikaeyeni arakomentotsiki</td>\n",
       "      <td>ora shintsiri jenokisato amantajeitake arakome...</td>\n",
       "      <td>33.073318</td>\n",
       "    </tr>\n",
       "  </tbody>\n",
       "</table>\n",
       "<p>502 rows × 3 columns</p>\n",
       "</div>"
      ],
      "text/plain": [
       "                                                  pred  \\\n",
       "0     iroori tee omatea okantimoshirebetantyari ibatsa   \n",
       "1                             nokematsataka kapicheeni   \n",
       "2    atsonkakiro 1962 , pinkatsatakotea notsiparero...   \n",
       "3    iroka kaari katsini itime aparo piratsi pinkat...   \n",
       "4                                 iriori osheki iroori   \n",
       "..                                                 ...   \n",
       "497              noneake kiribiro maaroni kitaiteripee   \n",
       "498                              nokoi nosaikanake 922   \n",
       "499              niotake nana 4 pies (10 cm) osarentsi   \n",
       "500       iroori ikantiro iyotakotanakero okantakotiri   \n",
       "501             robakabo ibetsikaeyeni arakomentotsiki   \n",
       "\n",
       "                                                   ref       chrF  \n",
       "0    iroori tekatsi okante okantakotiri ora pastel ...  32.283333  \n",
       "1                       irosati notsaroabeta kapichaji  30.040541  \n",
       "2    otsonkantapaakari 1962 naake kantakantantsi no...  34.444138  \n",
       "3    oka kaari jibatatsiri omanejatiri aparo pirant...  41.708164  \n",
       "4                  iriori irinti atyarisanori irooriki  31.572583  \n",
       "..                                                 ...        ...  \n",
       "497        noñaanatiro kiribiropee maaroni kitaiteriki  57.226191  \n",
       "498                                       narotake 922  38.155308  \n",
       "499          niyoti omonkarata 4 pies(10cm) otsantsati  43.137943  \n",
       "500      iroori okanti oyotiro okantakota añaamentotsi  49.294870  \n",
       "501  ora shintsiri jenokisato amantajeitake arakome...  33.073318  \n",
       "\n",
       "[502 rows x 3 columns]"
      ]
     },
     "metadata": {},
     "execution_count": 6
    }
   ],
   "metadata": {}
  },
  {
   "cell_type": "code",
   "execution_count": null,
   "source": [
    "sentences = df[\"ref\"].tolist()\n",
    "corpus = ' '.join(sentences)\n",
    "words = [w.strip() for w in corpus.split()]\n",
    "word_count = Counter(words)\n",
    "unique_words = list(word_count.keys())\n",
    "\n",
    "print(\"Número de palabras únicas (oraciones sin errores ortográficos): {}\".format(len(unique_words)))\n"
   ],
   "outputs": [],
   "metadata": {}
  },
  {
   "cell_type": "code",
   "execution_count": null,
   "source": [
    "sentences = df[\"pred\"].tolist()\n",
    "corpus = ' '.join(sentences)\n",
    "words = [w.strip() for w in corpus.split()]\n",
    "word_count = Counter(words)\n",
    "unique_words = list(word_count.keys())\n",
    "\n",
    "print(\"Número de palabras únicas (oraciones con errores ortográficos): {}\".format(len(unique_words)))\n"
   ],
   "outputs": [],
   "metadata": {}
  },
  {
   "cell_type": "code",
   "execution_count": 7,
   "source": [
    "with open(\"ash.translationese.test.sentences.errors.txt\", \"w\") as f:\n",
    "    f.write(df[\"pred\"].str.cat(sep='\\n'))\n",
    "\n",
    "with open(\"ash.translationese.test.sentences.txt\", \"w\") as f:\n",
    "    f.write(df[\"ref\"].str.cat(sep='\\n'))"
   ],
   "outputs": [],
   "metadata": {}
  },
  {
   "cell_type": "code",
   "execution_count": 8,
   "source": [
    "print(\"test chrF: {}\".format(df[\"chrF\"].mean()))"
   ],
   "outputs": [
    {
     "output_type": "stream",
     "name": "stdout",
     "text": [
      "test chrF: 39.90156029142214\n"
     ]
    }
   ],
   "metadata": {}
  },
  {
   "cell_type": "code",
   "execution_count": null,
   "source": [],
   "outputs": [],
   "metadata": {}
  }
 ],
 "metadata": {
  "kernelspec": {
   "name": "python3",
   "display_name": "Python 3.9.5 64-bit"
  },
  "language_info": {
   "codemirror_mode": {
    "name": "ipython",
    "version": 3
   },
   "file_extension": ".py",
   "mimetype": "text/x-python",
   "name": "python",
   "nbconvert_exporter": "python",
   "pygments_lexer": "ipython3",
   "version": "3.9.5"
  },
  "interpreter": {
   "hash": "397704579725e15f5c7cb49fe5f0341eb7531c82d19f2c29d197e8b64ab5776b"
  }
 },
 "nbformat": 4,
 "nbformat_minor": 5
}