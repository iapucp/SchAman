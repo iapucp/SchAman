{
 "cells": [
  {
   "cell_type": "markdown",
   "source": [
    "# Creación de los corpus para pruebas del corrector ortográfico"
   ],
   "metadata": {}
  },
  {
   "cell_type": "code",
   "execution_count": 31,
   "source": [
    "from collections import Counter\n",
    "import pandas as pd\n",
    "import numpy as np\n",
    "import re\n",
    "\n",
    "language = \"ya\""
   ],
   "outputs": [],
   "metadata": {}
  },
  {
   "cell_type": "markdown",
   "source": [
    "Inicialización del dataframe, eliminación de espacios blancos multiples, eliminación de espacios en blanco al inicio y final de las oraciones; y cambiar valores del dataframe vacíos a NaN"
   ],
   "metadata": {}
  },
  {
   "cell_type": "code",
   "execution_count": 32,
   "source": [
    "df = pd.read_excel(\"trabajo.xlsx\", \"General\", skiprows=9, usecols=\"B:F\", names=[\"number\", \"word\" , \"sentence\", \"sentence_with_errors\", \"error_types\"])\n",
    "\n",
    "df = df.replace({\"\\s+\": \" \"}, regex=True)\n",
    "df = df.apply(lambda row: row.str.strip() if row.dtype == \"object\" else row)\n",
    "df[\"sentence\"] = df[\"sentence\"].str.lower()\n",
    "df[\"sentence_with_errors\"] = df[\"sentence_with_errors\"].str.lower()\n",
    "df[\"error_types\"] = df[\"error_types\"].str.replace(\" \", \"\")\n",
    "df[\"error_types\"] = df[\"error_types\"].str.upper()\n",
    "df = df.replace(r\"^\\s*$\", np.nan, regex=True)"
   ],
   "outputs": [],
   "metadata": {}
  },
  {
   "cell_type": "code",
   "execution_count": 33,
   "source": [
    "print(\"Número de oraciones: {}\".format(df.shape[0]))"
   ],
   "outputs": [
    {
     "output_type": "stream",
     "name": "stdout",
     "text": [
      "Número de oraciones: 3587\n"
     ]
    }
   ],
   "metadata": {}
  },
  {
   "cell_type": "markdown",
   "source": [
    "Remover las filas que no tengan una oración y que no tengan ningún tipo de error etiquetado"
   ],
   "metadata": {}
  },
  {
   "cell_type": "code",
   "execution_count": 34,
   "source": [
    "df = df[df[\"sentence\"].notna()]\n",
    "df = df[df[\"sentence_with_errors\"].notna()]\n",
    "df = df[df[\"error_types\"].notna()]"
   ],
   "outputs": [],
   "metadata": {}
  },
  {
   "cell_type": "code",
   "execution_count": 35,
   "source": [
    "print(\"Número de oraciones: {}\".format(df.shape[0]))"
   ],
   "outputs": [
    {
     "output_type": "stream",
     "name": "stdout",
     "text": [
      "Número de oraciones: 3507\n"
     ]
    }
   ],
   "metadata": {}
  },
  {
   "cell_type": "markdown",
   "source": [
    "Identificar las filas que tienen un error en el formato de la colummna \"error types\""
   ],
   "metadata": {}
  },
  {
   "cell_type": "code",
   "execution_count": 36,
   "source": [
    "error_numbers = []\n",
    "possible_error_types = [\"FON\", \"GEN\", \"TIE\", \"NUM\", \"PUN\", \"ACE\", \"SIN\", \"SEM\"]\n",
    "\n",
    "for _, row in df.iterrows():\n",
    "    error_types = row[\"error_types\"]\n",
    "    error_types_list = error_types.split(',')\n",
    "    for error_type in error_types_list:\n",
    "        if error_type not in possible_error_types:\n",
    "            error_numbers.append(row[\"number\"])\n",
    "            break"
   ],
   "outputs": [],
   "metadata": {}
  },
  {
   "cell_type": "code",
   "execution_count": 37,
   "source": [
    "print(\"{} oraciones con errores de formato en la columna \\\"error types\\\": {}\".format(len(error_numbers), error_numbers))"
   ],
   "outputs": [
    {
     "output_type": "stream",
     "name": "stdout",
     "text": [
      "0 oraciones con errores de formato en la columna \"error types\": []\n"
     ]
    }
   ],
   "metadata": {}
  },
  {
   "cell_type": "markdown",
   "source": [
    "Remover las filas en donde no se pudo corregir manualmente el error de formato en la columna \"error types\""
   ],
   "metadata": {}
  },
  {
   "cell_type": "code",
   "execution_count": 38,
   "source": [
    "df = df[~df[\"number\"].isin(error_numbers)]"
   ],
   "outputs": [],
   "metadata": {}
  },
  {
   "cell_type": "code",
   "execution_count": 39,
   "source": [
    "print(\"Número de oraciones: {}\".format(df.shape[0]))"
   ],
   "outputs": [
    {
     "output_type": "stream",
     "name": "stdout",
     "text": [
      "Número de oraciones: 3507\n"
     ]
    }
   ],
   "metadata": {}
  },
  {
   "cell_type": "markdown",
   "source": [
    "Agregar la columna \"error_types_count\" al dataframe que indique el número de \"error_types\""
   ],
   "metadata": {}
  },
  {
   "cell_type": "code",
   "execution_count": 40,
   "source": [
    "df[\"error_types_count\"] = df.apply(lambda row: len(row[\"error_types\"].split(',')), axis=1)"
   ],
   "outputs": [],
   "metadata": {
    "scrolled": true
   }
  },
  {
   "cell_type": "markdown",
   "source": [
    "Identificar los caracteres únicos de las oraciones para propósitos de limpieza manual del excel"
   ],
   "metadata": {}
  },
  {
   "cell_type": "code",
   "execution_count": 41,
   "source": [
    "chars = sorted(list(set((df[\"sentence\"] + df[\"sentence_with_errors\"]).sum())))\n",
    "print(\"Lista de caracteres (ambos conjuntos de oraciones combinadas): {}\".format(chars))"
   ],
   "outputs": [
    {
     "output_type": "stream",
     "name": "stdout",
     "text": [
      "Lista de caracteres (ambos conjuntos de oraciones combinadas): [' ', \"'\", ',', '-', '.', 'a', 'b', 'c', 'd', 'e', 'f', 'g', 'h', 'i', 'j', 'k', 'l', 'm', 'n', 'o', 'p', 'r', 's', 't', 'u', 'v', 'w', 'x', 'y', 'á', 'é', 'ë', 'ñ', 'ó', 'ü']\n"
     ]
    }
   ],
   "metadata": {}
  },
  {
   "cell_type": "markdown",
   "source": [
    "Agregar las columnas \"words\" y \"words_with_errors\" para identificar las palabras en las oraciones que tienen errores ortográficos, también identificaremos las filas en donde las oraciones no coinciden en número de palabras"
   ],
   "metadata": {}
  },
  {
   "cell_type": "code",
   "execution_count": 42,
   "source": [
    "df[\"words\"] = df[\"words_with_errors\"] = None\n",
    "allowed_chars_regex = \"[^0-9A-ZÁÉÍÓÚÑa-záéíóúäëïöüñ\\s\\'\\-]+\"\n",
    "differente_words_count_idxs = []\n",
    "\n",
    "for _, row in df.iterrows():\n",
    "    sentence = re.sub(allowed_chars_regex, '', row[\"sentence\"])\n",
    "    sentence_with_errors = re.sub(allowed_chars_regex, '', row[\"sentence_with_errors\"])\n",
    "    \n",
    "    sentence_word_list = sentence.strip().split(' ')\n",
    "    sentence_with_errors_word_list = sentence_with_errors.strip().split(' ')    \n",
    "    \n",
    "    if(len(sentence_word_list) != len(sentence_with_errors_word_list)):\n",
    "        differente_words_count_idxs.append(row[\"number\"])\n",
    "        continue\n",
    "    \n",
    "    errors_count = 0\n",
    "    words = []\n",
    "    word_errors = []\n",
    "    for idx, word in enumerate(sentence_word_list):        \n",
    "        if word != sentence_with_errors_word_list[idx]:\n",
    "            errors_count += 1\n",
    "            words.append(word)\n",
    "            word_errors.append(sentence_with_errors_word_list[idx])\n",
    "\n",
    "    df.loc[df[\"number\"] == row[\"number\"], \"sentence\"] = sentence\n",
    "    df.loc[df[\"number\"] == row[\"number\"], \"sentence_with_errors\"] = sentence_with_errors\n",
    "    df.loc[df[\"number\"] == row[\"number\"], \"words\"] = ','.join(words)\n",
    "    df.loc[df[\"number\"] == row[\"number\"], \"words_with_errors\"] = ','.join(word_errors)\n"
   ],
   "outputs": [],
   "metadata": {
    "scrolled": true
   }
  },
  {
   "cell_type": "code",
   "execution_count": 43,
   "source": [
    "print(\"{} filas en donde el número de palabras de la oración sin errores ortográficos no es igual al número de palabras de la oracion con errores ortográficos: {}\".format(len(differente_words_count_idxs), differente_words_count_idxs))"
   ],
   "outputs": [
    {
     "output_type": "stream",
     "name": "stdout",
     "text": [
      "0 filas en donde el número de palabras de la oración sin errores ortográficos no es igual al número de palabras de la oracion con errores ortográficos: []\n"
     ]
    }
   ],
   "metadata": {}
  },
  {
   "cell_type": "markdown",
   "source": [
    "Remover las filas en donde las oraciones no coinciden en número de palabras"
   ],
   "metadata": {}
  },
  {
   "cell_type": "code",
   "execution_count": 44,
   "source": [
    "df = df[~df[\"number\"].isin(differente_words_count_idxs)]"
   ],
   "outputs": [],
   "metadata": {}
  },
  {
   "cell_type": "code",
   "execution_count": 45,
   "source": [
    "print(\"Número de oraciones: {}\".format(df.shape[0]))"
   ],
   "outputs": [
    {
     "output_type": "stream",
     "name": "stdout",
     "text": [
      "Número de oraciones: 3507\n"
     ]
    }
   ],
   "metadata": {}
  },
  {
   "cell_type": "markdown",
   "source": [
    "Agregar la columna \"error_types_count\" al dataframe que indique el número de \"error_types\""
   ],
   "metadata": {}
  },
  {
   "cell_type": "code",
   "execution_count": 46,
   "source": [
    "df[\"word_errors_count\"] = df.apply(lambda row: len(row[\"words_with_errors\"].split(',')) if row[\"words_with_errors\"] else 0, axis=1)"
   ],
   "outputs": [],
   "metadata": {}
  },
  {
   "cell_type": "markdown",
   "source": [
    "Remover las filas en donde no tengan ninguna palabra con errores ortográficos."
   ],
   "metadata": {}
  },
  {
   "cell_type": "code",
   "execution_count": 47,
   "source": [
    "df = df[~(df[\"word_errors_count\"] == 0)]"
   ],
   "outputs": [],
   "metadata": {}
  },
  {
   "cell_type": "code",
   "execution_count": 48,
   "source": [
    "print(\"Número de oraciones: {}\".format(df.shape[0]))"
   ],
   "outputs": [
    {
     "output_type": "stream",
     "name": "stdout",
     "text": [
      "Número de oraciones: 3490\n"
     ]
    }
   ],
   "metadata": {}
  },
  {
   "cell_type": "code",
   "execution_count": 49,
   "source": [
    "df.head()"
   ],
   "outputs": [
    {
     "output_type": "execute_result",
     "data": {
      "text/html": [
       "<div>\n",
       "<style scoped>\n",
       "    .dataframe tbody tr th:only-of-type {\n",
       "        vertical-align: middle;\n",
       "    }\n",
       "\n",
       "    .dataframe tbody tr th {\n",
       "        vertical-align: top;\n",
       "    }\n",
       "\n",
       "    .dataframe thead th {\n",
       "        text-align: right;\n",
       "    }\n",
       "</style>\n",
       "<table border=\"1\" class=\"dataframe\">\n",
       "  <thead>\n",
       "    <tr style=\"text-align: right;\">\n",
       "      <th></th>\n",
       "      <th>number</th>\n",
       "      <th>word</th>\n",
       "      <th>sentence</th>\n",
       "      <th>sentence_with_errors</th>\n",
       "      <th>error_types</th>\n",
       "      <th>error_types_count</th>\n",
       "      <th>words</th>\n",
       "      <th>words_with_errors</th>\n",
       "      <th>word_errors_count</th>\n",
       "    </tr>\n",
       "  </thead>\n",
       "  <tbody>\n",
       "    <tr>\n",
       "      <th>0</th>\n",
       "      <td>1</td>\n",
       "      <td>chopapetspa'</td>\n",
       "      <td>ñérra'm yeyexhkáten chopapetspa' añcha' yeyore...</td>\n",
       "      <td>ñerram llellexhkáten thópapetspa' amhcha' llel...</td>\n",
       "      <td>ACE,FON,PUN</td>\n",
       "      <td>3</td>\n",
       "      <td>ñérra'm,yeyexhkáten,chopapetspa',añcha',yeyore...</td>\n",
       "      <td>ñerram,llellexhkáten,thópapetspa',amhcha',llel...</td>\n",
       "      <td>7</td>\n",
       "    </tr>\n",
       "    <tr>\n",
       "      <th>1</th>\n",
       "      <td>2</td>\n",
       "      <td>thékma</td>\n",
       "      <td>wápá ma'ñorr arr chetsó thékma nerrma' kochell...</td>\n",
       "      <td>huapa manorr ar thetsó thecma nerma' cochell ñ...</td>\n",
       "      <td>FON,ACE,PUN</td>\n",
       "      <td>3</td>\n",
       "      <td>wápá,ma'ñorr,arr,chetsó,thékma,nerrma',kochell...</td>\n",
       "      <td>huapa,manorr,ar,thetsó,thecma,nerma',cochell,ñ...</td>\n",
       "      <td>8</td>\n",
       "    </tr>\n",
       "    <tr>\n",
       "      <th>2</th>\n",
       "      <td>3</td>\n",
       "      <td>poeshamllorró</td>\n",
       "      <td>népechá áphá poeshamllorró o' xho' rroma allor...</td>\n",
       "      <td>nepecha apha poeshamyorro o cho' roma ayorocma</td>\n",
       "      <td>ACE,FON,PUN</td>\n",
       "      <td>3</td>\n",
       "      <td>népechá,áphá,poeshamllorró,o',xho',rroma,allor...</td>\n",
       "      <td>nepecha,apha,poeshamyorro,o,cho',roma,ayorocma</td>\n",
       "      <td>7</td>\n",
       "    </tr>\n",
       "    <tr>\n",
       "      <th>3</th>\n",
       "      <td>4</td>\n",
       "      <td>phokwa'</td>\n",
       "      <td>phokwa' tharr chésha' all yellsheñen poksheñésha'</td>\n",
       "      <td>pochua tarr chétha ay yellsheneñ pocsheñesha</td>\n",
       "      <td>FON,ACE,PUN</td>\n",
       "      <td>3</td>\n",
       "      <td>phokwa',tharr,chésha',all,yellsheñen,poksheñésha'</td>\n",
       "      <td>pochua,tarr,chétha,ay,yellsheneñ,pocsheñesha</td>\n",
       "      <td>6</td>\n",
       "    </tr>\n",
       "    <tr>\n",
       "      <th>4</th>\n",
       "      <td>5</td>\n",
       "      <td>atthetó</td>\n",
       "      <td>acheñenéshapa' attheto' allempó orrenet pokshe...</td>\n",
       "      <td>atheñeneshapa atheto ayempo orenet pocshenésha</td>\n",
       "      <td>PUN,FON</td>\n",
       "      <td>2</td>\n",
       "      <td>acheñenéshapa',attheto',allempó,orrenet,pokshe...</td>\n",
       "      <td>atheñeneshapa,atheto,ayempo,orenet,pocshenésha</td>\n",
       "      <td>5</td>\n",
       "    </tr>\n",
       "  </tbody>\n",
       "</table>\n",
       "</div>"
      ],
      "text/plain": [
       "   number           word                                           sentence  \\\n",
       "0       1   chopapetspa'  ñérra'm yeyexhkáten chopapetspa' añcha' yeyore...   \n",
       "1       2         thékma  wápá ma'ñorr arr chetsó thékma nerrma' kochell...   \n",
       "2       3  poeshamllorró  népechá áphá poeshamllorró o' xho' rroma allor...   \n",
       "3       4        phokwa'  phokwa' tharr chésha' all yellsheñen poksheñésha'   \n",
       "4       5        atthetó  acheñenéshapa' attheto' allempó orrenet pokshe...   \n",
       "\n",
       "                                sentence_with_errors  error_types  \\\n",
       "0  ñerram llellexhkáten thópapetspa' amhcha' llel...  ACE,FON,PUN   \n",
       "1  huapa manorr ar thetsó thecma nerma' cochell ñ...  FON,ACE,PUN   \n",
       "2     nepecha apha poeshamyorro o cho' roma ayorocma  ACE,FON,PUN   \n",
       "3       pochua tarr chétha ay yellsheneñ pocsheñesha  FON,ACE,PUN   \n",
       "4     atheñeneshapa atheto ayempo orenet pocshenésha      PUN,FON   \n",
       "\n",
       "   error_types_count                                              words  \\\n",
       "0                  3  ñérra'm,yeyexhkáten,chopapetspa',añcha',yeyore...   \n",
       "1                  3  wápá,ma'ñorr,arr,chetsó,thékma,nerrma',kochell...   \n",
       "2                  3  népechá,áphá,poeshamllorró,o',xho',rroma,allor...   \n",
       "3                  3  phokwa',tharr,chésha',all,yellsheñen,poksheñésha'   \n",
       "4                  2  acheñenéshapa',attheto',allempó,orrenet,pokshe...   \n",
       "\n",
       "                                   words_with_errors  word_errors_count  \n",
       "0  ñerram,llellexhkáten,thópapetspa',amhcha',llel...                  7  \n",
       "1  huapa,manorr,ar,thetsó,thecma,nerma',cochell,ñ...                  8  \n",
       "2     nepecha,apha,poeshamyorro,o,cho',roma,ayorocma                  7  \n",
       "3       pochua,tarr,chétha,ay,yellsheneñ,pocsheñesha                  6  \n",
       "4     atheñeneshapa,atheto,ayempo,orenet,pocshenésha                  5  "
      ]
     },
     "metadata": {},
     "execution_count": 49
    }
   ],
   "metadata": {}
  },
  {
   "cell_type": "code",
   "execution_count": 50,
   "source": [
    "print(\"Número de oraciones sin errores ortográficos y con errores ortográficos (cada uno): {}\".format(df.shape[0]))"
   ],
   "outputs": [
    {
     "output_type": "stream",
     "name": "stdout",
     "text": [
      "Número de oraciones sin errores ortográficos y con errores ortográficos (cada uno): 3490\n"
     ]
    }
   ],
   "metadata": {}
  },
  {
   "cell_type": "code",
   "execution_count": 51,
   "source": [
    "sentences = df[\"sentence\"].tolist()\n",
    "corpus = ' '.join(sentences)\n",
    "words = [w.strip() for w in corpus.split()]\n",
    "word_count = Counter(words)\n",
    "unique_words = list(word_count.keys())\n",
    "\n",
    "print(\"Número de palabras únicas (oraciones sin errores ortográficos): {}\".format(len(unique_words)))"
   ],
   "outputs": [
    {
     "output_type": "stream",
     "name": "stdout",
     "text": [
      "Número de palabras únicas (oraciones sin errores ortográficos): 10146\n"
     ]
    }
   ],
   "metadata": {}
  },
  {
   "cell_type": "code",
   "execution_count": 52,
   "source": [
    "chars = sorted(list(set(df[\"sentence\"].sum())))\n",
    "print(\"{} caracteres (oraciones sin errores ortográficos): {}\".format(len(chars), chars))"
   ],
   "outputs": [
    {
     "output_type": "stream",
     "name": "stdout",
     "text": [
      "31 caracteres (oraciones sin errores ortográficos): [' ', \"'\", '-', 'a', 'b', 'c', 'e', 'f', 'g', 'h', 'i', 'j', 'k', 'l', 'm', 'n', 'o', 'p', 'r', 's', 't', 'u', 'w', 'x', 'y', 'á', 'é', 'ë', 'ñ', 'ó', 'ü']\n"
     ]
    }
   ],
   "metadata": {}
  },
  {
   "cell_type": "code",
   "execution_count": 53,
   "source": [
    "sentences = df[\"sentence_with_errors\"].tolist()\n",
    "corpus = ' '.join(sentences)\n",
    "words = [w.strip() for w in corpus.split()]\n",
    "word_count = Counter(words)\n",
    "unique_words = list(word_count.keys())\n",
    "\n",
    "print(\"Número de palabras únicas (oraciones con errores ortográficos): {}\".format(len(unique_words)))"
   ],
   "outputs": [
    {
     "output_type": "stream",
     "name": "stdout",
     "text": [
      "Número de palabras únicas (oraciones con errores ortográficos): 12793\n"
     ]
    }
   ],
   "metadata": {}
  },
  {
   "cell_type": "code",
   "execution_count": 54,
   "source": [
    "chars = sorted(list(set(df[\"sentence_with_errors\"].sum())))\n",
    "print(\"{} caracteres (oraciones con errores ortográficos): {}\".format(len(chars), chars))"
   ],
   "outputs": [
    {
     "output_type": "stream",
     "name": "stdout",
     "text": [
      "32 caracteres (oraciones con errores ortográficos): [' ', \"'\", '-', 'a', 'b', 'c', 'd', 'e', 'f', 'g', 'h', 'i', 'j', 'k', 'l', 'm', 'n', 'o', 'p', 'r', 's', 't', 'u', 'v', 'w', 'x', 'y', 'á', 'é', 'ë', 'ñ', 'ó']\n"
     ]
    }
   ],
   "metadata": {}
  },
  {
   "cell_type": "markdown",
   "source": [
    "Se hace un shuffle de las oraciones"
   ],
   "metadata": {}
  },
  {
   "cell_type": "code",
   "execution_count": 55,
   "source": [
    "df = df.sample(frac=1, random_state=8).reset_index(drop=True)\n",
    "n_head = df.shape[0] // 2\n",
    "n_tail = df.shape[0] - n_head"
   ],
   "outputs": [],
   "metadata": {}
  },
  {
   "cell_type": "markdown",
   "source": [
    "Crear corpus de oraciones sin errores ortograficos"
   ],
   "metadata": {}
  },
  {
   "cell_type": "code",
   "execution_count": 56,
   "source": [
    "with open(language + \".teacher_general.val.sentences.txt\", \"w\") as f:\n",
    "    lines = (df[:n_head][\"sentence\"] + '\\n').tolist()\n",
    "    f.writelines(lines)\n",
    "\n",
    "with open(language + \".teacher_general.test.sentences.txt\", \"w\") as f:\n",
    "    lines = (df[-n_tail:][\"sentence\"] + '\\n').tolist()\n",
    "    f.writelines(lines)"
   ],
   "outputs": [],
   "metadata": {}
  },
  {
   "cell_type": "markdown",
   "source": [
    "Crear corpus paralelos de oraciones con errores ortograficos"
   ],
   "metadata": {}
  },
  {
   "cell_type": "code",
   "execution_count": 57,
   "source": [
    "with open(language + \".teacher_general.val.sentences.errors.txt\", \"w\") as f:\n",
    "    lines = (df[:n_head][\"sentence_with_errors\"] + '\\n').tolist()\n",
    "    f.writelines(lines)\n",
    "\n",
    "with open(language + \".teacher_general.test.sentences.errors.txt\", \"w\") as f:\n",
    "    lines = (df[-n_tail:][\"sentence_with_errors\"] + '\\n').tolist()\n",
    "    f.writelines(lines)"
   ],
   "outputs": [],
   "metadata": {}
  },
  {
   "cell_type": "markdown",
   "source": [
    "Ahora, crearemos un corpus de oraciones sin errores ortograficos y un corpus paralelo de oraciones con una palabra con error ortográfico de un tipo"
   ],
   "metadata": {}
  },
  {
   "cell_type": "markdown",
   "source": [
    "Eliminamos las oraciones donde el valor de la columna \"error_types_count\" sea diferente al valor de la columna \"word_errors_count\""
   ],
   "metadata": {}
  },
  {
   "cell_type": "code",
   "execution_count": 58,
   "source": [
    "df = df[~(df[\"error_types_count\"] != df[\"word_errors_count\"])]"
   ],
   "outputs": [],
   "metadata": {}
  },
  {
   "cell_type": "code",
   "execution_count": 59,
   "source": [
    "print(\"Número de oraciones: {}\".format(df.shape[0]))"
   ],
   "outputs": [
    {
     "output_type": "stream",
     "name": "stdout",
     "text": [
      "Número de oraciones: 1813\n"
     ]
    }
   ],
   "metadata": {}
  },
  {
   "cell_type": "code",
   "execution_count": 60,
   "source": [
    "errors = df[\"error_types\"].tolist()\n",
    "errors = ','.join(errors)\n",
    "errors = [w.strip() for w in errors.split(',')]\n",
    "errors_count = Counter(errors)\n",
    "\n",
    "print(\"Número de tipos de errores: {}\".format(len(errors)))\n",
    "print(\"Tipos de errores: {}\".format(dict(errors_count)))"
   ],
   "outputs": [
    {
     "output_type": "stream",
     "name": "stdout",
     "text": [
      "Número de tipos de errores: 6444\n",
      "Tipos de errores: {'ACE': 238, 'PUN': 327, 'SIN': 330, 'FON': 5540, 'NUM': 9}\n"
     ]
    }
   ],
   "metadata": {}
  },
  {
   "cell_type": "markdown",
   "source": [
    "Creamos el corpus de las oraciones sin errores ortográficos y un corpus paralelo de oraciones con un solo error ortográfico"
   ],
   "metadata": {}
  },
  {
   "cell_type": "code",
   "execution_count": 61,
   "source": [
    "dict_sentences_with_errors = {}\n",
    "dict_sentences = {}\n",
    "\n",
    "for error_type in errors_count:\n",
    "    dict_sentences_with_errors[error_type] = []\n",
    "    dict_sentences[error_type] = []"
   ],
   "outputs": [],
   "metadata": {}
  },
  {
   "cell_type": "code",
   "execution_count": 62,
   "source": [
    "for _, row in df.iterrows():\n",
    "    sentence = row[\"sentence\"]\n",
    "    error_types = row[\"error_types\"].split(',')\n",
    "\n",
    "    words = row[\"words\"].split(',')\n",
    "    words_with_errors = row[\"words_with_errors\"].split(',')\n",
    "    for idx, error_type in enumerate(error_types):\n",
    "        dict_sentences[error_type].append(sentence + '\\n')\n",
    "        sentence_with_error = sentence.replace(words[idx], words_with_errors[idx]) + '\\n'\n",
    "        dict_sentences_with_errors[error_type].append(sentence_with_error)\n",
    "\n",
    "for error_type in errors_count:\n",
    "    with open(\"{}.teacher_{}.test.sentences.errors.txt\".format(language, error_type.lower()), \"w\") as f:        \n",
    "        f.writelines(dict_sentences_with_errors[error_type])\n",
    "\n",
    "    with open(\"{}.teacher_{}.test.sentences.txt\".format(language, error_type.lower()), \"w\") as f:\n",
    "        f.writelines(dict_sentences[error_type])"
   ],
   "outputs": [],
   "metadata": {}
  },
  {
   "cell_type": "code",
   "execution_count": null,
   "source": [],
   "outputs": [],
   "metadata": {}
  }
 ],
 "metadata": {
  "kernelspec": {
   "name": "python3",
   "display_name": "Python 3.9.5 64-bit"
  },
  "language_info": {
   "codemirror_mode": {
    "name": "ipython",
    "version": 3
   },
   "file_extension": ".py",
   "mimetype": "text/x-python",
   "name": "python",
   "nbconvert_exporter": "python",
   "pygments_lexer": "ipython3",
   "version": "3.9.5"
  },
  "interpreter": {
   "hash": "397704579725e15f5c7cb49fe5f0341eb7531c82d19f2c29d197e8b64ab5776b"
  }
 },
 "nbformat": 4,
 "nbformat_minor": 5
}