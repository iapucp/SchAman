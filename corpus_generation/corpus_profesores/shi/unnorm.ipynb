{
 "cells": [
  {
   "cell_type": "markdown",
   "source": [
    "# Creación de los corpus para pruebas del corrector ortográfico"
   ],
   "metadata": {}
  },
  {
   "cell_type": "code",
   "execution_count": 1,
   "source": [
    "from collections import Counter\n",
    "import pandas as pd\n",
    "import numpy as np\n",
    "import re\n",
    "\n",
    "language = \"shi\""
   ],
   "outputs": [],
   "metadata": {}
  },
  {
   "cell_type": "markdown",
   "source": [
    "Inicialización del dataframe, eliminación de espacios blancos multiples, eliminación de espacios en blanco al inicio y final de las oraciones; y cambiar valores del dataframe vacíos a NaN"
   ],
   "metadata": {}
  },
  {
   "cell_type": "code",
   "execution_count": 2,
   "source": [
    "df = pd.read_excel(\"trabajo.xlsx\", \"Modernización\", skiprows=9, usecols=\"B:E\", names=[\"number\", \"word\" , \"sentence\", \"sentence_unnormalized\"])\n",
    "\n",
    "df = df.replace({\"\\s+\": \" \"}, regex=True)\n",
    "df = df.apply(lambda row: row.str.strip() if row.dtype == \"object\" else row)\n",
    "df[\"sentence\"] = df[\"sentence\"].str.lower()\n",
    "df[\"sentence_unnormalized\"] = df[\"sentence_unnormalized\"].str.lower()\n",
    "df = df.replace(r\"^\\s*$\", np.nan, regex=True)"
   ],
   "outputs": [],
   "metadata": {}
  },
  {
   "cell_type": "code",
   "execution_count": 3,
   "source": [
    "print(\"Número de oraciones: {}\".format(df.shape[0]))"
   ],
   "outputs": [
    {
     "output_type": "stream",
     "name": "stdout",
     "text": [
      "Número de oraciones: 1100\n"
     ]
    }
   ],
   "metadata": {}
  },
  {
   "cell_type": "markdown",
   "source": [
    "Remover las filas que no tengan una oración y que no tengan ningún tipo de error etiquetado"
   ],
   "metadata": {}
  },
  {
   "cell_type": "code",
   "execution_count": 4,
   "source": [
    "df = df[df[\"sentence\"].notna()]\n",
    "df = df[df[\"sentence_unnormalized\"].notna()]"
   ],
   "outputs": [],
   "metadata": {}
  },
  {
   "cell_type": "code",
   "execution_count": 5,
   "source": [
    "print(\"Número de oraciones: {}\".format(df.shape[0]))"
   ],
   "outputs": [
    {
     "output_type": "stream",
     "name": "stdout",
     "text": [
      "Número de oraciones: 922\n"
     ]
    }
   ],
   "metadata": {}
  },
  {
   "cell_type": "markdown",
   "source": [
    "Identificar los caracteres únicos de las oraciones para propósitos de limpieza manual del excel"
   ],
   "metadata": {}
  },
  {
   "cell_type": "code",
   "execution_count": 6,
   "source": [
    "chars = sorted(list(set((df[\"sentence\"] + df[\"sentence_unnormalized\"]).sum())))\n",
    "print(\"Lista de caracteres (ambos conjuntos de oraciones combinadas): {}\".format(chars))"
   ],
   "outputs": [
    {
     "output_type": "stream",
     "name": "stdout",
     "text": [
      "Lista de caracteres (ambos conjuntos de oraciones combinadas): [' ', \"'\", ',', '.', '0', '4', '?', 'a', 'b', 'c', 'd', 'e', 'f', 'g', 'h', 'i', 'j', 'k', 'l', 'm', 'n', 'o', 'p', 'q', 'r', 's', 't', 'u', 'v', 'w', 'x', 'y', '¿', 'á', 'é', 'í', 'ó']\n"
     ]
    }
   ],
   "metadata": {}
  },
  {
   "cell_type": "markdown",
   "source": [
    "Agregar las columnas \"words\" y \"words_with_errors\" para identificar las palabras en las oraciones que tienen errores ortográficos, también identificaremos las filas en donde las oraciones no coinciden en número de palabras"
   ],
   "metadata": {}
  },
  {
   "cell_type": "code",
   "execution_count": 7,
   "source": [
    "df[\"words\"] = df[\"words_unnormalized\"] = None\n",
    "allowed_chars_regex = \"[^0-9A-ZÁÉÍÓÚÑa-záéíóúñ\\s\\'\\-]+\"\n",
    "differente_words_count_idxs = []\n",
    "\n",
    "for _, row in df.iterrows():\n",
    "    sentence = re.sub(allowed_chars_regex, '', row[\"sentence\"])\n",
    "    sentence_with_errors = re.sub(allowed_chars_regex, '', row[\"sentence_unnormalized\"])\n",
    "    \n",
    "    sentence_word_list = sentence.strip().split(' ')\n",
    "    sentence_with_errors_word_list = sentence_with_errors.strip().split(' ')    \n",
    "    \n",
    "    if(len(sentence_word_list) != len(sentence_with_errors_word_list)):\n",
    "        differente_words_count_idxs.append(row[\"number\"])\n",
    "        continue\n",
    "    \n",
    "    errors_count = 0\n",
    "    words = []\n",
    "    word_errors = []\n",
    "    for idx, word in enumerate(sentence_word_list):        \n",
    "        if word != sentence_with_errors_word_list[idx]:\n",
    "            errors_count += 1\n",
    "            words.append(word)\n",
    "            word_errors.append(sentence_with_errors_word_list[idx])\n",
    "    \n",
    "    df.loc[df[\"number\"] == row[\"number\"], \"sentence\"] = sentence\n",
    "    df.loc[df[\"number\"] == row[\"number\"], \"sentence_unnormalized\"] = sentence_with_errors\n",
    "    df.loc[df[\"number\"] == row[\"number\"], \"words\"] = ','.join(words)\n",
    "    df.loc[df[\"number\"] == row[\"number\"], \"words_unnormalized\"] = ','.join(word_errors)"
   ],
   "outputs": [],
   "metadata": {
    "scrolled": true
   }
  },
  {
   "cell_type": "code",
   "execution_count": 8,
   "source": [
    "print(\"{} filas en donde el número de palabras de la oración sin errores ortográficos no es igual al número de palabras de la oracion con errores ortográficos: {}\".format(len(differente_words_count_idxs), differente_words_count_idxs))"
   ],
   "outputs": [
    {
     "output_type": "stream",
     "name": "stdout",
     "text": [
      "0 filas en donde el número de palabras de la oración sin errores ortográficos no es igual al número de palabras de la oracion con errores ortográficos: []\n"
     ]
    }
   ],
   "metadata": {}
  },
  {
   "cell_type": "markdown",
   "source": [
    "Remover las filas en donde las oraciones no coinciden en número de palabras"
   ],
   "metadata": {}
  },
  {
   "cell_type": "code",
   "execution_count": 9,
   "source": [
    "df = df[~df[\"number\"].isin(differente_words_count_idxs)]"
   ],
   "outputs": [],
   "metadata": {}
  },
  {
   "cell_type": "code",
   "execution_count": 10,
   "source": [
    "print(\"Número de oraciones: {}\".format(df.shape[0]))"
   ],
   "outputs": [
    {
     "output_type": "stream",
     "name": "stdout",
     "text": [
      "Número de oraciones: 922\n"
     ]
    }
   ],
   "metadata": {}
  },
  {
   "cell_type": "markdown",
   "source": [
    "Agregar la columna \"error_types_count\" al dataframe que indique el número de \"error_types\""
   ],
   "metadata": {}
  },
  {
   "cell_type": "code",
   "execution_count": 11,
   "source": [
    "df[\"word_unnormalized_count\"] = df.apply(lambda row: len(row[\"words_unnormalized\"].split(',')) if row[\"words_unnormalized\"] else 0, axis=1)"
   ],
   "outputs": [],
   "metadata": {}
  },
  {
   "cell_type": "markdown",
   "source": [
    "Remover las filas en donde no tengan ninguna palabra con errores ortográficos."
   ],
   "metadata": {}
  },
  {
   "cell_type": "code",
   "execution_count": 12,
   "source": [
    "df = df[~(df[\"word_unnormalized_count\"] == 0)]"
   ],
   "outputs": [],
   "metadata": {}
  },
  {
   "cell_type": "code",
   "execution_count": 13,
   "source": [
    "print(\"Número de oraciones: {}\".format(df.shape[0]))"
   ],
   "outputs": [
    {
     "output_type": "stream",
     "name": "stdout",
     "text": [
      "Número de oraciones: 916\n"
     ]
    }
   ],
   "metadata": {}
  },
  {
   "cell_type": "code",
   "execution_count": 14,
   "source": [
    "df.head()"
   ],
   "outputs": [
    {
     "output_type": "execute_result",
     "data": {
      "text/html": [
       "<div>\n",
       "<style scoped>\n",
       "    .dataframe tbody tr th:only-of-type {\n",
       "        vertical-align: middle;\n",
       "    }\n",
       "\n",
       "    .dataframe tbody tr th {\n",
       "        vertical-align: top;\n",
       "    }\n",
       "\n",
       "    .dataframe thead th {\n",
       "        text-align: right;\n",
       "    }\n",
       "</style>\n",
       "<table border=\"1\" class=\"dataframe\">\n",
       "  <thead>\n",
       "    <tr style=\"text-align: right;\">\n",
       "      <th></th>\n",
       "      <th>number</th>\n",
       "      <th>word</th>\n",
       "      <th>sentence</th>\n",
       "      <th>sentence_unnormalized</th>\n",
       "      <th>words</th>\n",
       "      <th>words_unnormalized</th>\n",
       "      <th>word_unnormalized_count</th>\n",
       "    </tr>\n",
       "  </thead>\n",
       "  <tbody>\n",
       "    <tr>\n",
       "      <th>0</th>\n",
       "      <td>1</td>\n",
       "      <td>yamainkobo</td>\n",
       "      <td>yantashokora en meshinkonia kabori anishaman y...</td>\n",
       "      <td>yantashokora en meshinkonia cabori anishaman y...</td>\n",
       "      <td>kabori,jawen</td>\n",
       "      <td>cabori,jahuen</td>\n",
       "      <td>2</td>\n",
       "    </tr>\n",
       "    <tr>\n",
       "      <th>1</th>\n",
       "      <td>2</td>\n",
       "      <td>kataxon</td>\n",
       "      <td>xawan bima ocho jemankonia chopa bená katoxon ...</td>\n",
       "      <td>xawan biman ocho jemankonia chopa bená catosho...</td>\n",
       "      <td>bima,katoxon,nokotai</td>\n",
       "      <td>biman,catoshon,nocotai</td>\n",
       "      <td>3</td>\n",
       "    </tr>\n",
       "    <tr>\n",
       "      <th>2</th>\n",
       "      <td>3</td>\n",
       "      <td>tsamatabo</td>\n",
       "      <td>ochiti poiyabora tsamatabo iki jara pexe pikon...</td>\n",
       "      <td>ochiti poiyabora tsamatabo iki jara pexe pikon...</td>\n",
       "      <td>tsinkixon,potake</td>\n",
       "      <td>tsinquixon,potaque</td>\n",
       "      <td>2</td>\n",
       "    </tr>\n",
       "    <tr>\n",
       "      <th>4</th>\n",
       "      <td>5</td>\n",
       "      <td>koraa</td>\n",
       "      <td>yoxan rabinra yamekiri paranta joshin koraaxon...</td>\n",
       "      <td>yoxan rabinra yamequiri paranta joshin koraaxo...</td>\n",
       "      <td>yamekiri,bomake</td>\n",
       "      <td>yamequiri,bomaque</td>\n",
       "      <td>2</td>\n",
       "    </tr>\n",
       "    <tr>\n",
       "      <th>5</th>\n",
       "      <td>6</td>\n",
       "      <td>bonaketian</td>\n",
       "      <td>yametaitianra soi yakan jawen bake maxko koira...</td>\n",
       "      <td>yametaitianra soi yakan jahuen bake maxko koir...</td>\n",
       "      <td>jawen,wetsa</td>\n",
       "      <td>jahuen,huetsa</td>\n",
       "      <td>2</td>\n",
       "    </tr>\n",
       "  </tbody>\n",
       "</table>\n",
       "</div>"
      ],
      "text/plain": [
       "   number        word                                           sentence  \\\n",
       "0       1  yamainkobo  yantashokora en meshinkonia kabori anishaman y...   \n",
       "1       2     kataxon  xawan bima ocho jemankonia chopa bená katoxon ...   \n",
       "2       3   tsamatabo  ochiti poiyabora tsamatabo iki jara pexe pikon...   \n",
       "4       5       koraa  yoxan rabinra yamekiri paranta joshin koraaxon...   \n",
       "5       6  bonaketian  yametaitianra soi yakan jawen bake maxko koira...   \n",
       "\n",
       "                               sentence_unnormalized                 words  \\\n",
       "0  yantashokora en meshinkonia cabori anishaman y...          kabori,jawen   \n",
       "1  xawan biman ocho jemankonia chopa bená catosho...  bima,katoxon,nokotai   \n",
       "2  ochiti poiyabora tsamatabo iki jara pexe pikon...      tsinkixon,potake   \n",
       "4  yoxan rabinra yamequiri paranta joshin koraaxo...       yamekiri,bomake   \n",
       "5  yametaitianra soi yakan jahuen bake maxko koir...           jawen,wetsa   \n",
       "\n",
       "       words_unnormalized  word_unnormalized_count  \n",
       "0           cabori,jahuen                        2  \n",
       "1  biman,catoshon,nocotai                        3  \n",
       "2      tsinquixon,potaque                        2  \n",
       "4       yamequiri,bomaque                        2  \n",
       "5           jahuen,huetsa                        2  "
      ]
     },
     "metadata": {},
     "execution_count": 14
    }
   ],
   "metadata": {}
  },
  {
   "cell_type": "code",
   "execution_count": 15,
   "source": [
    "print(\"Número de oraciones sin errores ortográficos y con errores ortográficos (cada uno): {}\".format(df.shape[0]))"
   ],
   "outputs": [
    {
     "output_type": "stream",
     "name": "stdout",
     "text": [
      "Número de oraciones sin errores ortográficos y con errores ortográficos (cada uno): 916\n"
     ]
    }
   ],
   "metadata": {}
  },
  {
   "cell_type": "code",
   "execution_count": 16,
   "source": [
    "sentences = df[\"sentence\"].tolist()\n",
    "corpus = ' '.join(sentences)\n",
    "words = [w.strip() for w in corpus.split()]\n",
    "word_count = Counter(words)\n",
    "unique_words = list(word_count.keys())\n",
    "\n",
    "print(\"Número de palabras únicas (oraciones sin errores ortográficos): {}\".format(len(unique_words)))"
   ],
   "outputs": [
    {
     "output_type": "stream",
     "name": "stdout",
     "text": [
      "Número de palabras únicas (oraciones sin errores ortográficos): 3931\n"
     ]
    }
   ],
   "metadata": {}
  },
  {
   "cell_type": "code",
   "execution_count": 17,
   "source": [
    "chars = sorted(list(set(df[\"sentence\"].sum())))\n",
    "print(\"{} caracteres (oraciones sin errores ortográficos): {}\".format(len(chars), chars))"
   ],
   "outputs": [
    {
     "output_type": "stream",
     "name": "stdout",
     "text": [
      "32 caracteres (oraciones sin errores ortográficos): [' ', \"'\", '0', '4', 'a', 'b', 'c', 'd', 'e', 'f', 'g', 'h', 'i', 'j', 'k', 'l', 'm', 'n', 'o', 'p', 'r', 's', 't', 'u', 'v', 'w', 'x', 'y', 'á', 'é', 'í', 'ó']\n"
     ]
    }
   ],
   "metadata": {}
  },
  {
   "cell_type": "code",
   "execution_count": 18,
   "source": [
    "sentences = df[\"sentence_unnormalized\"].tolist()\n",
    "corpus = ' '.join(sentences)\n",
    "words = [w.strip() for w in corpus.split()]\n",
    "word_count = Counter(words)\n",
    "unique_words = list(word_count.keys())\n",
    "\n",
    "print(\"Número de palabras únicas (oraciones con errores ortográficos): {}\".format(len(unique_words)))"
   ],
   "outputs": [
    {
     "output_type": "stream",
     "name": "stdout",
     "text": [
      "Número de palabras únicas (oraciones con errores ortográficos): 4279\n"
     ]
    }
   ],
   "metadata": {}
  },
  {
   "cell_type": "code",
   "execution_count": 19,
   "source": [
    "chars = sorted(list(set(df[\"sentence_unnormalized\"].sum())))\n",
    "print(\"{} caracteres (oraciones con errores ortográficos): {}\".format(len(chars), chars))"
   ],
   "outputs": [
    {
     "output_type": "stream",
     "name": "stdout",
     "text": [
      "33 caracteres (oraciones con errores ortográficos): [' ', \"'\", '0', '4', 'a', 'b', 'c', 'd', 'e', 'f', 'g', 'h', 'i', 'j', 'k', 'l', 'm', 'n', 'o', 'p', 'q', 'r', 's', 't', 'u', 'v', 'w', 'x', 'y', 'á', 'é', 'í', 'ó']\n"
     ]
    }
   ],
   "metadata": {}
  },
  {
   "cell_type": "markdown",
   "source": [
    "Crear corpus de oraciones sin errores ortograficos"
   ],
   "metadata": {}
  },
  {
   "cell_type": "code",
   "execution_count": 21,
   "source": [
    "with open(language + \".teacher_unnorm.test.sentences.txt\", \"w\") as f:\n",
    "    lines = (df[\"sentence\"] + '\\n').tolist()\n",
    "    f.writelines(lines)\n",
    "\n",
    "with open(language + \".teacher_unnorm.test.sentences.errors.txt\", \"w\") as f:\n",
    "    lines = (df[\"sentence_unnormalized\"] + '\\n').tolist()\n",
    "    f.writelines(lines)"
   ],
   "outputs": [],
   "metadata": {}
  },
  {
   "cell_type": "code",
   "execution_count": null,
   "source": [],
   "outputs": [],
   "metadata": {}
  }
 ],
 "metadata": {
  "kernelspec": {
   "name": "python3",
   "display_name": "Python 3.9.5 64-bit"
  },
  "language_info": {
   "codemirror_mode": {
    "name": "ipython",
    "version": 3
   },
   "file_extension": ".py",
   "mimetype": "text/x-python",
   "name": "python",
   "nbconvert_exporter": "python",
   "pygments_lexer": "ipython3",
   "version": "3.9.5"
  },
  "interpreter": {
   "hash": "397704579725e15f5c7cb49fe5f0341eb7531c82d19f2c29d197e8b64ab5776b"
  }
 },
 "nbformat": 4,
 "nbformat_minor": 5
}