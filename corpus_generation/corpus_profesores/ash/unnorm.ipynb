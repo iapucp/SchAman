{
 "cells": [
  {
   "cell_type": "markdown",
   "source": [
    "# Creación de los corpus para pruebas del corrector ortográfico"
   ],
   "metadata": {}
  },
  {
   "cell_type": "code",
   "execution_count": 1,
   "source": [
    "from collections import Counter\n",
    "import pandas as pd\n",
    "import numpy as np\n",
    "import re\n",
    "\n",
    "language = \"ash\""
   ],
   "outputs": [],
   "metadata": {}
  },
  {
   "cell_type": "markdown",
   "source": [
    "Inicialización del dataframe, eliminación de espacios blancos multiples, eliminación de espacios en blanco al inicio y final de las oraciones; y cambiar valores del dataframe vacíos a NaN"
   ],
   "metadata": {}
  },
  {
   "cell_type": "code",
   "execution_count": 2,
   "source": [
    "df = pd.read_excel(\"trabajo.xlsx\", \"Modernización\", skiprows=9, usecols=\"B:E\", names=[\"number\", \"word\" , \"sentence\", \"sentence_unnormalized\"])\n",
    "\n",
    "df = df.replace({\"\\s+\": \" \"}, regex=True)\n",
    "df = df.apply(lambda row: row.str.strip() if row.dtype == \"object\" else row)\n",
    "df[\"sentence\"] = df[\"sentence\"].str.lower()\n",
    "df[\"sentence_unnormalized\"] = df[\"sentence_unnormalized\"].str.lower()\n",
    "df = df.replace(r\"^\\s*$\", np.nan, regex=True)"
   ],
   "outputs": [],
   "metadata": {}
  },
  {
   "cell_type": "code",
   "execution_count": 3,
   "source": [
    "print(\"Número de oraciones: {}\".format(df.shape[0]))"
   ],
   "outputs": [
    {
     "output_type": "stream",
     "name": "stdout",
     "text": [
      "Número de oraciones: 800\n"
     ]
    }
   ],
   "metadata": {}
  },
  {
   "cell_type": "markdown",
   "source": [
    "Remover las filas que no tengan una oración y que no tengan ningún tipo de error etiquetado"
   ],
   "metadata": {}
  },
  {
   "cell_type": "code",
   "execution_count": 4,
   "source": [
    "df = df[df[\"sentence\"].notna()]\n",
    "df = df[df[\"sentence_unnormalized\"].notna()]"
   ],
   "outputs": [],
   "metadata": {}
  },
  {
   "cell_type": "code",
   "execution_count": 5,
   "source": [
    "print(\"Número de oraciones: {}\".format(df.shape[0]))"
   ],
   "outputs": [
    {
     "output_type": "stream",
     "name": "stdout",
     "text": [
      "Número de oraciones: 800\n"
     ]
    }
   ],
   "metadata": {}
  },
  {
   "cell_type": "markdown",
   "source": [
    "Identificar los caracteres únicos de las oraciones para propósitos de limpieza manual del excel"
   ],
   "metadata": {}
  },
  {
   "cell_type": "code",
   "execution_count": 6,
   "source": [
    "chars = sorted(list(set((df[\"sentence\"] + df[\"sentence_unnormalized\"]).sum())))\n",
    "print(\"Lista de caracteres (ambos conjuntos de oraciones combinadas): {}\".format(chars))"
   ],
   "outputs": [
    {
     "output_type": "stream",
     "name": "stdout",
     "text": [
      "Lista de caracteres (ambos conjuntos de oraciones combinadas): [' ', \"'\", ',', '.', 'a', 'b', 'c', 'e', 'h', 'i', 'j', 'k', 'm', 'n', 'o', 'p', 'q', 'r', 's', 't', 'u', 'v', 'y', 'ñ']\n"
     ]
    }
   ],
   "metadata": {}
  },
  {
   "cell_type": "markdown",
   "source": [
    "Agregar las columnas \"words\" y \"words_with_errors\" para identificar las palabras en las oraciones que tienen errores ortográficos, también identificaremos las filas en donde las oraciones no coinciden en número de palabras"
   ],
   "metadata": {}
  },
  {
   "cell_type": "code",
   "execution_count": 7,
   "source": [
    "df[\"words\"] = df[\"words_unnormalized\"] = None\n",
    "allowed_chars_regex = \"[^0-9A-ZÁÉÍÓÚÑa-záéíóúñ\\s\\'\\-]+\"\n",
    "differente_words_count_idxs = []\n",
    "\n",
    "for _, row in df.iterrows():\n",
    "    sentence = re.sub(allowed_chars_regex, '', row[\"sentence\"])\n",
    "    sentence_with_errors = re.sub(allowed_chars_regex, '', row[\"sentence_unnormalized\"])\n",
    "    \n",
    "    sentence_word_list = sentence.strip().split(' ')\n",
    "    sentence_with_errors_word_list = sentence_with_errors.strip().split(' ')    \n",
    "    \n",
    "    if(len(sentence_word_list) != len(sentence_with_errors_word_list)):\n",
    "        differente_words_count_idxs.append(row[\"number\"])\n",
    "        continue\n",
    "    \n",
    "    errors_count = 0\n",
    "    words = []\n",
    "    word_errors = []\n",
    "    for idx, word in enumerate(sentence_word_list):        \n",
    "        if word != sentence_with_errors_word_list[idx]:\n",
    "            errors_count += 1\n",
    "            words.append(word)\n",
    "            word_errors.append(sentence_with_errors_word_list[idx])\n",
    "    \n",
    "    df.loc[df[\"number\"] == row[\"number\"], \"sentence\"] = sentence\n",
    "    df.loc[df[\"number\"] == row[\"number\"], \"sentence_unnormalized\"] = sentence_with_errors\n",
    "    df.loc[df[\"number\"] == row[\"number\"], \"words\"] = ','.join(words)\n",
    "    df.loc[df[\"number\"] == row[\"number\"], \"words_unnormalized\"] = ','.join(word_errors)"
   ],
   "outputs": [],
   "metadata": {
    "scrolled": true
   }
  },
  {
   "cell_type": "code",
   "execution_count": 8,
   "source": [
    "print(\"{} filas en donde el número de palabras de la oración sin errores ortográficos no es igual al número de palabras de la oracion con errores ortográficos: {}\".format(len(differente_words_count_idxs), differente_words_count_idxs))"
   ],
   "outputs": [
    {
     "output_type": "stream",
     "name": "stdout",
     "text": [
      "0 filas en donde el número de palabras de la oración sin errores ortográficos no es igual al número de palabras de la oracion con errores ortográficos: []\n"
     ]
    }
   ],
   "metadata": {}
  },
  {
   "cell_type": "markdown",
   "source": [
    "Remover las filas en donde las oraciones no coinciden en número de palabras"
   ],
   "metadata": {}
  },
  {
   "cell_type": "code",
   "execution_count": 9,
   "source": [
    "df = df[~df[\"number\"].isin(differente_words_count_idxs)]"
   ],
   "outputs": [],
   "metadata": {}
  },
  {
   "cell_type": "code",
   "execution_count": 10,
   "source": [
    "print(\"Número de oraciones: {}\".format(df.shape[0]))"
   ],
   "outputs": [
    {
     "output_type": "stream",
     "name": "stdout",
     "text": [
      "Número de oraciones: 800\n"
     ]
    }
   ],
   "metadata": {}
  },
  {
   "cell_type": "markdown",
   "source": [
    "Agregar la columna \"error_types_count\" al dataframe que indique el número de \"error_types\""
   ],
   "metadata": {}
  },
  {
   "cell_type": "code",
   "execution_count": 11,
   "source": [
    "df[\"word_unnormalized_count\"] = df.apply(lambda row: len(row[\"words_unnormalized\"].split(',')) if row[\"words_unnormalized\"] else 0, axis=1)"
   ],
   "outputs": [],
   "metadata": {}
  },
  {
   "cell_type": "markdown",
   "source": [
    "Remover las filas en donde no tengan ninguna palabra con errores ortográficos."
   ],
   "metadata": {}
  },
  {
   "cell_type": "code",
   "execution_count": 12,
   "source": [
    "df = df[~(df[\"word_unnormalized_count\"] == 0)]"
   ],
   "outputs": [],
   "metadata": {}
  },
  {
   "cell_type": "code",
   "execution_count": 13,
   "source": [
    "print(\"Número de oraciones: {}\".format(df.shape[0]))"
   ],
   "outputs": [
    {
     "output_type": "stream",
     "name": "stdout",
     "text": [
      "Número de oraciones: 796\n"
     ]
    }
   ],
   "metadata": {}
  },
  {
   "cell_type": "code",
   "execution_count": 14,
   "source": [
    "df.head()"
   ],
   "outputs": [
    {
     "output_type": "execute_result",
     "data": {
      "text/html": [
       "<div>\n",
       "<style scoped>\n",
       "    .dataframe tbody tr th:only-of-type {\n",
       "        vertical-align: middle;\n",
       "    }\n",
       "\n",
       "    .dataframe tbody tr th {\n",
       "        vertical-align: top;\n",
       "    }\n",
       "\n",
       "    .dataframe thead th {\n",
       "        text-align: right;\n",
       "    }\n",
       "</style>\n",
       "<table border=\"1\" class=\"dataframe\">\n",
       "  <thead>\n",
       "    <tr style=\"text-align: right;\">\n",
       "      <th></th>\n",
       "      <th>number</th>\n",
       "      <th>word</th>\n",
       "      <th>sentence</th>\n",
       "      <th>sentence_unnormalized</th>\n",
       "      <th>words</th>\n",
       "      <th>words_unnormalized</th>\n",
       "      <th>word_unnormalized_count</th>\n",
       "    </tr>\n",
       "  </thead>\n",
       "  <tbody>\n",
       "    <tr>\n",
       "      <th>0</th>\n",
       "      <td>1</td>\n",
       "      <td>irako</td>\n",
       "      <td>ipesakero irako koki ipesabetaro shibitsa abot...</td>\n",
       "      <td>ipesaquero iraco coqui ipesavetaro shivitsa av...</td>\n",
       "      <td>ipesakero,irako,koki,ipesabetaro,shibitsa,abot...</td>\n",
       "      <td>ipesaquero,iraco,coqui,ipesavetaro,shivitsa,av...</td>\n",
       "      <td>6</td>\n",
       "    </tr>\n",
       "    <tr>\n",
       "      <th>1</th>\n",
       "      <td>2</td>\n",
       "      <td>onkitaitamane</td>\n",
       "      <td>ari namenamanakeri onkitaitamane ibankoki pink...</td>\n",
       "      <td>ari namanamanakeri onquitaitamane ivancoqui pi...</td>\n",
       "      <td>namenamanakeri,onkitaitamane,ibankoki,pinkatsari</td>\n",
       "      <td>namanamanakeri,onquitaitamane,ivancoqui,pincat...</td>\n",
       "      <td>4</td>\n",
       "    </tr>\n",
       "    <tr>\n",
       "      <th>2</th>\n",
       "      <td>3</td>\n",
       "      <td>tsompoikira</td>\n",
       "      <td>pamenaaranteri tsompoinakira imaita paitarika ...</td>\n",
       "      <td>pamenaaranteri tsompoinaquira imaita paitarica...</td>\n",
       "      <td>tsompoinakira,paitarika,yobayetiri,ikoshitiri</td>\n",
       "      <td>tsompoinaquira,paitarica,yovayetiri,icoshitiri</td>\n",
       "      <td>4</td>\n",
       "    </tr>\n",
       "    <tr>\n",
       "      <th>3</th>\n",
       "      <td>4</td>\n",
       "      <td>amitakotantyariri</td>\n",
       "      <td>pikamantena narori amitakotantyaariri pomerent...</td>\n",
       "      <td>pikamantena narori amitacotantyariri pomerents...</td>\n",
       "      <td>amitakotantyaariri,pomerentsitimotakariri,pichane</td>\n",
       "      <td>amitacotantyariri,pomerentsitimotacariri,picha...</td>\n",
       "      <td>3</td>\n",
       "    </tr>\n",
       "    <tr>\n",
       "      <th>4</th>\n",
       "      <td>5</td>\n",
       "      <td>pamineri</td>\n",
       "      <td>yamakeri atiri pameneri piyotanteariri iriotak...</td>\n",
       "      <td>yamaqueri atiri pameneri piyotanteariri iriota...</td>\n",
       "      <td>yamakeri,iriotake,koshitantatsiri</td>\n",
       "      <td>yamaqueri,iriotaque,coshitantasiri</td>\n",
       "      <td>3</td>\n",
       "    </tr>\n",
       "  </tbody>\n",
       "</table>\n",
       "</div>"
      ],
      "text/plain": [
       "   number               word  \\\n",
       "0       1              irako   \n",
       "1       2      onkitaitamane   \n",
       "2       3        tsompoikira   \n",
       "3       4  amitakotantyariri   \n",
       "4       5           pamineri   \n",
       "\n",
       "                                            sentence  \\\n",
       "0  ipesakero irako koki ipesabetaro shibitsa abot...   \n",
       "1  ari namenamanakeri onkitaitamane ibankoki pink...   \n",
       "2  pamenaaranteri tsompoinakira imaita paitarika ...   \n",
       "3  pikamantena narori amitakotantyaariri pomerent...   \n",
       "4  yamakeri atiri pameneri piyotanteariri iriotak...   \n",
       "\n",
       "                               sentence_unnormalized  \\\n",
       "0  ipesaquero iraco coqui ipesavetaro shivitsa av...   \n",
       "1  ari namanamanakeri onquitaitamane ivancoqui pi...   \n",
       "2  pamenaaranteri tsompoinaquira imaita paitarica...   \n",
       "3  pikamantena narori amitacotantyariri pomerents...   \n",
       "4  yamaqueri atiri pameneri piyotanteariri iriota...   \n",
       "\n",
       "                                               words  \\\n",
       "0  ipesakero,irako,koki,ipesabetaro,shibitsa,abot...   \n",
       "1   namenamanakeri,onkitaitamane,ibankoki,pinkatsari   \n",
       "2      tsompoinakira,paitarika,yobayetiri,ikoshitiri   \n",
       "3  amitakotantyaariri,pomerentsitimotakariri,pichane   \n",
       "4                  yamakeri,iriotake,koshitantatsiri   \n",
       "\n",
       "                                  words_unnormalized  word_unnormalized_count  \n",
       "0  ipesaquero,iraco,coqui,ipesavetaro,shivitsa,av...                        6  \n",
       "1  namanamanakeri,onquitaitamane,ivancoqui,pincat...                        4  \n",
       "2     tsompoinaquira,paitarica,yovayetiri,icoshitiri                        4  \n",
       "3  amitacotantyariri,pomerentsitimotacariri,picha...                        3  \n",
       "4                 yamaqueri,iriotaque,coshitantasiri                        3  "
      ]
     },
     "metadata": {},
     "execution_count": 14
    }
   ],
   "metadata": {}
  },
  {
   "cell_type": "code",
   "execution_count": 15,
   "source": [
    "print(\"Número de oraciones sin errores ortográficos y con errores ortográficos (cada uno): {}\".format(df.shape[0]))"
   ],
   "outputs": [
    {
     "output_type": "stream",
     "name": "stdout",
     "text": [
      "Número de oraciones sin errores ortográficos y con errores ortográficos (cada uno): 796\n"
     ]
    }
   ],
   "metadata": {}
  },
  {
   "cell_type": "code",
   "execution_count": 16,
   "source": [
    "sentences = df[\"sentence\"].tolist()\n",
    "corpus = ' '.join(sentences)\n",
    "words = [w.strip() for w in corpus.split()]\n",
    "word_count = Counter(words)\n",
    "unique_words = list(word_count.keys())\n",
    "\n",
    "print(\"Número de palabras únicas (oraciones sin errores ortográficos): {}\".format(len(unique_words)))"
   ],
   "outputs": [
    {
     "output_type": "stream",
     "name": "stdout",
     "text": [
      "Número de palabras únicas (oraciones sin errores ortográficos): 3124\n"
     ]
    }
   ],
   "metadata": {}
  },
  {
   "cell_type": "code",
   "execution_count": 17,
   "source": [
    "chars = sorted(list(set(df[\"sentence\"].sum())))\n",
    "print(\"{} caracteres (oraciones sin errores ortográficos): {}\".format(len(chars), chars))"
   ],
   "outputs": [
    {
     "output_type": "stream",
     "name": "stdout",
     "text": [
      "22 caracteres (oraciones sin errores ortográficos): [' ', \"'\", 'a', 'b', 'c', 'e', 'h', 'i', 'j', 'k', 'm', 'n', 'o', 'p', 'q', 'r', 's', 't', 'u', 'v', 'y', 'ñ']\n"
     ]
    }
   ],
   "metadata": {}
  },
  {
   "cell_type": "code",
   "execution_count": 18,
   "source": [
    "sentences = df[\"sentence_unnormalized\"].tolist()\n",
    "corpus = ' '.join(sentences)\n",
    "words = [w.strip() for w in corpus.split()]\n",
    "word_count = Counter(words)\n",
    "unique_words = list(word_count.keys())\n",
    "\n",
    "print(\"Número de palabras únicas (oraciones con errores ortográficos): {}\".format(len(unique_words)))"
   ],
   "outputs": [
    {
     "output_type": "stream",
     "name": "stdout",
     "text": [
      "Número de palabras únicas (oraciones con errores ortográficos): 3291\n"
     ]
    }
   ],
   "metadata": {}
  },
  {
   "cell_type": "code",
   "execution_count": 19,
   "source": [
    "chars = sorted(list(set(df[\"sentence_unnormalized\"].sum())))\n",
    "print(\"{} caracteres (oraciones con errores ortográficos): {}\".format(len(chars), chars))"
   ],
   "outputs": [
    {
     "output_type": "stream",
     "name": "stdout",
     "text": [
      "22 caracteres (oraciones con errores ortográficos): [' ', \"'\", 'a', 'b', 'c', 'e', 'h', 'i', 'j', 'k', 'm', 'n', 'o', 'p', 'q', 'r', 's', 't', 'u', 'v', 'y', 'ñ']\n"
     ]
    }
   ],
   "metadata": {}
  },
  {
   "cell_type": "markdown",
   "source": [
    "Crear corpus de oraciones sin errores ortograficos"
   ],
   "metadata": {}
  },
  {
   "cell_type": "code",
   "execution_count": 20,
   "source": [
    "with open(language + \".teacher_unnorm.test.sentences.txt\", \"w\") as f:\n",
    "    lines = (df[\"sentence\"] + '\\n').tolist()\n",
    "    f.writelines(lines)\n",
    "\n",
    "with open(language + \".teacher_unnorm.test.sentences.errors.txt\", \"w\") as f:\n",
    "    lines = (df[\"sentence_unnormalized\"] + '\\n').tolist()\n",
    "    f.writelines(lines)"
   ],
   "outputs": [],
   "metadata": {}
  },
  {
   "cell_type": "code",
   "execution_count": null,
   "source": [],
   "outputs": [],
   "metadata": {}
  }
 ],
 "metadata": {
  "kernelspec": {
   "name": "python3",
   "display_name": "Python 3.9.5 64-bit"
  },
  "language_info": {
   "codemirror_mode": {
    "name": "ipython",
    "version": 3
   },
   "file_extension": ".py",
   "mimetype": "text/x-python",
   "name": "python",
   "nbconvert_exporter": "python",
   "pygments_lexer": "ipython3",
   "version": "3.9.5"
  },
  "interpreter": {
   "hash": "397704579725e15f5c7cb49fe5f0341eb7531c82d19f2c29d197e8b64ab5776b"
  }
 },
 "nbformat": 4,
 "nbformat_minor": 5
}