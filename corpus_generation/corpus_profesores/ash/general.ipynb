{
 "cells": [
  {
   "cell_type": "markdown",
   "source": [
    "# Creación de los corpus para pruebas del corrector ortográfico"
   ],
   "metadata": {}
  },
  {
   "cell_type": "code",
   "execution_count": 1,
   "source": [
    "from collections import Counter\n",
    "import pandas as pd\n",
    "import numpy as np\n",
    "import re\n",
    "\n",
    "language = \"ash\""
   ],
   "outputs": [],
   "metadata": {}
  },
  {
   "cell_type": "markdown",
   "source": [
    "Inicialización del dataframe, eliminación de espacios blancos multiples, eliminación de espacios en blanco al inicio y final de las oraciones; y cambiar valores del dataframe vacíos a NaN"
   ],
   "metadata": {}
  },
  {
   "cell_type": "code",
   "execution_count": 2,
   "source": [
    "df = pd.read_excel(\"trabajo.xlsx\", \"General\", skiprows=9, usecols=\"B:F\", names=[\"number\", \"word\" , \"sentence\", \"sentence_with_errors\", \"error_types\"])\n",
    "\n",
    "df = df.replace({\"\\s+\": \" \"}, regex=True)\n",
    "df = df.apply(lambda row: row.str.strip() if row.dtype == \"object\" else row)\n",
    "df[\"sentence\"] = df[\"sentence\"].str.lower()\n",
    "df[\"sentence_with_errors\"] = df[\"sentence_with_errors\"].str.lower()\n",
    "df[\"error_types\"] = df[\"error_types\"].str.replace(\" \", \"\")\n",
    "df[\"error_types\"] = df[\"error_types\"].str.upper()\n",
    "df = df.replace(r\"^\\s*$\", np.nan, regex=True)"
   ],
   "outputs": [],
   "metadata": {}
  },
  {
   "cell_type": "code",
   "execution_count": 3,
   "source": [
    "print(\"Número de oraciones: {}\".format(df.shape[0]))"
   ],
   "outputs": [
    {
     "output_type": "stream",
     "name": "stdout",
     "text": [
      "Número de oraciones: 3600\n"
     ]
    }
   ],
   "metadata": {}
  },
  {
   "cell_type": "markdown",
   "source": [
    "Remover las filas que no tengan una oración y que no tengan ningún tipo de error etiquetado"
   ],
   "metadata": {}
  },
  {
   "cell_type": "code",
   "execution_count": 4,
   "source": [
    "df = df[df[\"sentence\"].notna()]\n",
    "df = df[df[\"sentence_with_errors\"].notna()]\n",
    "df = df[df[\"error_types\"].notna()]"
   ],
   "outputs": [],
   "metadata": {}
  },
  {
   "cell_type": "code",
   "execution_count": 5,
   "source": [
    "print(\"Número de oraciones: {}\".format(df.shape[0]))"
   ],
   "outputs": [
    {
     "output_type": "stream",
     "name": "stdout",
     "text": [
      "Número de oraciones: 3599\n"
     ]
    }
   ],
   "metadata": {}
  },
  {
   "cell_type": "markdown",
   "source": [
    "Identificar las filas que tienen un error en el formato de la colummna \"error types\""
   ],
   "metadata": {}
  },
  {
   "cell_type": "code",
   "execution_count": 6,
   "source": [
    "error_numbers = []\n",
    "possible_error_types = [\"FON\", \"GEN\", \"TIE\", \"NUM\", \"PUN\", \"ACE\", \"SIN\", \"SEM\"]\n",
    "\n",
    "for _, row in df.iterrows():\n",
    "    error_types = row[\"error_types\"]\n",
    "    error_types_list = error_types.split(',')\n",
    "    for error_type in error_types_list:\n",
    "        if error_type not in possible_error_types:\n",
    "            error_numbers.append(row[\"number\"])\n",
    "            break"
   ],
   "outputs": [],
   "metadata": {}
  },
  {
   "cell_type": "code",
   "execution_count": 7,
   "source": [
    "print(\"{} oraciones con errores de formato en la columna \\\"error types\\\": {}\".format(len(error_numbers), error_numbers))"
   ],
   "outputs": [
    {
     "output_type": "stream",
     "name": "stdout",
     "text": [
      "0 oraciones con errores de formato en la columna \"error types\": []\n"
     ]
    }
   ],
   "metadata": {}
  },
  {
   "cell_type": "markdown",
   "source": [
    "Remover las filas en donde no se pudo corregir manualmente el error de formato en la columna \"error types\""
   ],
   "metadata": {}
  },
  {
   "cell_type": "code",
   "execution_count": 8,
   "source": [
    "df = df[~df[\"number\"].isin(error_numbers)]"
   ],
   "outputs": [],
   "metadata": {}
  },
  {
   "cell_type": "code",
   "execution_count": 9,
   "source": [
    "print(\"Número de oraciones: {}\".format(df.shape[0]))"
   ],
   "outputs": [
    {
     "output_type": "stream",
     "name": "stdout",
     "text": [
      "Número de oraciones: 3599\n"
     ]
    }
   ],
   "metadata": {}
  },
  {
   "cell_type": "markdown",
   "source": [
    "Agregar la columna \"error_types_count\" al dataframe que indique el número de \"error_types\""
   ],
   "metadata": {}
  },
  {
   "cell_type": "code",
   "execution_count": 10,
   "source": [
    "df[\"error_types_count\"] = df.apply(lambda row: len(row[\"error_types\"].split(',')), axis=1)"
   ],
   "outputs": [],
   "metadata": {
    "scrolled": true
   }
  },
  {
   "cell_type": "markdown",
   "source": [
    "Identificar los caracteres únicos de las oraciones para propósitos de limpieza manual del excel"
   ],
   "metadata": {}
  },
  {
   "cell_type": "code",
   "execution_count": 11,
   "source": [
    "chars = sorted(list(set((df[\"sentence\"] + df[\"sentence_with_errors\"]).sum())))\n",
    "print(\"Lista de caracteres (ambos conjuntos de oraciones combinadas): {}\".format(chars))"
   ],
   "outputs": [
    {
     "output_type": "stream",
     "name": "stdout",
     "text": [
      "Lista de caracteres (ambos conjuntos de oraciones combinadas): [' ', '!', '\"', ',', '.', ':', '?', '`', 'a', 'b', 'c', 'd', 'e', 'f', 'g', 'h', 'i', 'j', 'k', 'l', 'm', 'n', 'o', 'p', 'q', 'r', 's', 't', 'u', 'v', 'w', 'y', 'z', '¡', '¿', 'ñ']\n"
     ]
    }
   ],
   "metadata": {}
  },
  {
   "cell_type": "markdown",
   "source": [
    "Agregar las columnas \"words\" y \"words_with_errors\" para identificar las palabras en las oraciones que tienen errores ortográficos, también identificaremos las filas en donde las oraciones no coinciden en número de palabras"
   ],
   "metadata": {}
  },
  {
   "cell_type": "code",
   "execution_count": 12,
   "source": [
    "df[\"words\"] = df[\"words_with_errors\"] = None\n",
    "allowed_chars_regex = \"[^0-9A-ZÁÉÍÓÚÑa-záéíóúñ\\s\\'\\-]+\"\n",
    "differente_words_count_idxs = []\n",
    "\n",
    "for _, row in df.iterrows():\n",
    "    sentence = re.sub(allowed_chars_regex, '', row[\"sentence\"])\n",
    "    sentence_with_errors = re.sub(allowed_chars_regex, '', row[\"sentence_with_errors\"])\n",
    "    \n",
    "    sentence_word_list = sentence.strip().split(' ')\n",
    "    sentence_with_errors_word_list = sentence_with_errors.strip().split(' ')    \n",
    "    \n",
    "    if(len(sentence_word_list) != len(sentence_with_errors_word_list)):\n",
    "        differente_words_count_idxs.append(row[\"number\"])\n",
    "        continue\n",
    "    \n",
    "    errors_count = 0\n",
    "    words = []\n",
    "    word_errors = []\n",
    "    for idx, word in enumerate(sentence_word_list):        \n",
    "        if word != sentence_with_errors_word_list[idx]:\n",
    "            errors_count += 1\n",
    "            words.append(word)\n",
    "            word_errors.append(sentence_with_errors_word_list[idx])\n",
    "\n",
    "    df.loc[df[\"number\"] == row[\"number\"], \"sentence\"] = sentence\n",
    "    df.loc[df[\"number\"] == row[\"number\"], \"sentence_with_errors\"] = sentence_with_errors\n",
    "    df.loc[df[\"number\"] == row[\"number\"], \"words\"] = ','.join(words)\n",
    "    df.loc[df[\"number\"] == row[\"number\"], \"words_with_errors\"] = ','.join(word_errors)\n"
   ],
   "outputs": [],
   "metadata": {
    "scrolled": true
   }
  },
  {
   "cell_type": "code",
   "execution_count": 13,
   "source": [
    "print(\"{} filas en donde el número de palabras de la oración sin errores ortográficos no es igual al número de palabras de la oracion con errores ortográficos: {}\".format(len(differente_words_count_idxs), differente_words_count_idxs))"
   ],
   "outputs": [
    {
     "output_type": "stream",
     "name": "stdout",
     "text": [
      "2 filas en donde el número de palabras de la oración sin errores ortográficos no es igual al número de palabras de la oracion con errores ortográficos: [832, 2267]\n"
     ]
    }
   ],
   "metadata": {}
  },
  {
   "cell_type": "markdown",
   "source": [
    "Remover las filas en donde las oraciones no coinciden en número de palabras"
   ],
   "metadata": {}
  },
  {
   "cell_type": "code",
   "execution_count": 14,
   "source": [
    "df = df[~df[\"number\"].isin(differente_words_count_idxs)]"
   ],
   "outputs": [],
   "metadata": {}
  },
  {
   "cell_type": "code",
   "execution_count": 15,
   "source": [
    "print(\"Número de oraciones: {}\".format(df.shape[0]))"
   ],
   "outputs": [
    {
     "output_type": "stream",
     "name": "stdout",
     "text": [
      "Número de oraciones: 3597\n"
     ]
    }
   ],
   "metadata": {}
  },
  {
   "cell_type": "markdown",
   "source": [
    "Agregar la columna \"error_types_count\" al dataframe que indique el número de \"error_types\""
   ],
   "metadata": {}
  },
  {
   "cell_type": "code",
   "execution_count": 16,
   "source": [
    "df[\"word_errors_count\"] = df.apply(lambda row: len(row[\"words_with_errors\"].split(',')) if row[\"words_with_errors\"] else 0, axis=1)"
   ],
   "outputs": [],
   "metadata": {}
  },
  {
   "cell_type": "markdown",
   "source": [
    "Remover las filas en donde no tengan ninguna palabra con errores ortográficos."
   ],
   "metadata": {}
  },
  {
   "cell_type": "code",
   "execution_count": 17,
   "source": [
    "df = df[~(df[\"word_errors_count\"] == 0)]"
   ],
   "outputs": [],
   "metadata": {}
  },
  {
   "cell_type": "code",
   "execution_count": 18,
   "source": [
    "print(\"Número de oraciones: {}\".format(df.shape[0]))"
   ],
   "outputs": [
    {
     "output_type": "stream",
     "name": "stdout",
     "text": [
      "Número de oraciones: 3544\n"
     ]
    }
   ],
   "metadata": {}
  },
  {
   "cell_type": "code",
   "execution_count": 19,
   "source": [
    "df.head()"
   ],
   "outputs": [
    {
     "output_type": "execute_result",
     "data": {
      "text/html": [
       "<div>\n",
       "<style scoped>\n",
       "    .dataframe tbody tr th:only-of-type {\n",
       "        vertical-align: middle;\n",
       "    }\n",
       "\n",
       "    .dataframe tbody tr th {\n",
       "        vertical-align: top;\n",
       "    }\n",
       "\n",
       "    .dataframe thead th {\n",
       "        text-align: right;\n",
       "    }\n",
       "</style>\n",
       "<table border=\"1\" class=\"dataframe\">\n",
       "  <thead>\n",
       "    <tr style=\"text-align: right;\">\n",
       "      <th></th>\n",
       "      <th>number</th>\n",
       "      <th>word</th>\n",
       "      <th>sentence</th>\n",
       "      <th>sentence_with_errors</th>\n",
       "      <th>error_types</th>\n",
       "      <th>error_types_count</th>\n",
       "      <th>words</th>\n",
       "      <th>words_with_errors</th>\n",
       "      <th>word_errors_count</th>\n",
       "    </tr>\n",
       "  </thead>\n",
       "  <tbody>\n",
       "    <tr>\n",
       "      <th>0</th>\n",
       "      <td>1</td>\n",
       "      <td>erorika</td>\n",
       "      <td>eirorika pantiro pantabeere yobakempiri obamet...</td>\n",
       "      <td>erorika pantiro pantabere yobakempiri obametan...</td>\n",
       "      <td>FON,SIN</td>\n",
       "      <td>2</td>\n",
       "      <td>eirorika,pantabeere</td>\n",
       "      <td>erorika,pantabere</td>\n",
       "      <td>2</td>\n",
       "    </tr>\n",
       "    <tr>\n",
       "      <th>1</th>\n",
       "      <td>2</td>\n",
       "      <td>oberantapakearori</td>\n",
       "      <td>ina amake sankoshi osheki oberaantapaakearori ...</td>\n",
       "      <td>ina amake sankoshi osheki oberantapakearori sh...</td>\n",
       "      <td>FON,SIN</td>\n",
       "      <td>2</td>\n",
       "      <td>oberaantapaakearori</td>\n",
       "      <td>oberantapakearori</td>\n",
       "      <td>1</td>\n",
       "    </tr>\n",
       "    <tr>\n",
       "      <th>2</th>\n",
       "      <td>3</td>\n",
       "      <td>abetsikiri</td>\n",
       "      <td>arori abetsikiri oka ñaatsamentotsi irootake i...</td>\n",
       "      <td>arori abechikiri oka ñaatsamentotsi irootake i...</td>\n",
       "      <td>SEM,FON</td>\n",
       "      <td>2</td>\n",
       "      <td>abetsikiri,iñaatsajeitari</td>\n",
       "      <td>abechikiri,iñatsajeitari</td>\n",
       "      <td>2</td>\n",
       "    </tr>\n",
       "    <tr>\n",
       "      <th>3</th>\n",
       "      <td>4</td>\n",
       "      <td>antaberentsika</td>\n",
       "      <td>oka antabeerentsika isaikake oshaabiji irootak...</td>\n",
       "      <td>oka antaberentsika isaikake oshaabiji irootake...</td>\n",
       "      <td>SIN,FON</td>\n",
       "      <td>2</td>\n",
       "      <td>antabeerentsika</td>\n",
       "      <td>antaberentsika</td>\n",
       "      <td>1</td>\n",
       "    </tr>\n",
       "    <tr>\n",
       "      <th>4</th>\n",
       "      <td>5</td>\n",
       "      <td>pinebesanotabakari</td>\n",
       "      <td>yoka pirantsijaniki pinebesanotabakari paabaje...</td>\n",
       "      <td>oka pirantsijaniki pinebesanotabakari pabajeri...</td>\n",
       "      <td>GEN,FON</td>\n",
       "      <td>2</td>\n",
       "      <td>yoka,paabajeri</td>\n",
       "      <td>oka,pabajeri</td>\n",
       "      <td>2</td>\n",
       "    </tr>\n",
       "  </tbody>\n",
       "</table>\n",
       "</div>"
      ],
      "text/plain": [
       "   number                word  \\\n",
       "0       1             erorika   \n",
       "1       2   oberantapakearori   \n",
       "2       3          abetsikiri   \n",
       "3       4      antaberentsika   \n",
       "4       5  pinebesanotabakari   \n",
       "\n",
       "                                            sentence  \\\n",
       "0  eirorika pantiro pantabeere yobakempiri obamet...   \n",
       "1  ina amake sankoshi osheki oberaantapaakearori ...   \n",
       "2  arori abetsikiri oka ñaatsamentotsi irootake i...   \n",
       "3  oka antabeerentsika isaikake oshaabiji irootak...   \n",
       "4  yoka pirantsijaniki pinebesanotabakari paabaje...   \n",
       "\n",
       "                                sentence_with_errors error_types  \\\n",
       "0  erorika pantiro pantabere yobakempiri obametan...     FON,SIN   \n",
       "1  ina amake sankoshi osheki oberantapakearori sh...     FON,SIN   \n",
       "2  arori abechikiri oka ñaatsamentotsi irootake i...     SEM,FON   \n",
       "3  oka antaberentsika isaikake oshaabiji irootake...     SIN,FON   \n",
       "4  oka pirantsijaniki pinebesanotabakari pabajeri...     GEN,FON   \n",
       "\n",
       "   error_types_count                      words         words_with_errors  \\\n",
       "0                  2        eirorika,pantabeere         erorika,pantabere   \n",
       "1                  2        oberaantapaakearori         oberantapakearori   \n",
       "2                  2  abetsikiri,iñaatsajeitari  abechikiri,iñatsajeitari   \n",
       "3                  2            antabeerentsika            antaberentsika   \n",
       "4                  2             yoka,paabajeri              oka,pabajeri   \n",
       "\n",
       "   word_errors_count  \n",
       "0                  2  \n",
       "1                  1  \n",
       "2                  2  \n",
       "3                  1  \n",
       "4                  2  "
      ]
     },
     "metadata": {},
     "execution_count": 19
    }
   ],
   "metadata": {}
  },
  {
   "cell_type": "code",
   "execution_count": 20,
   "source": [
    "print(\"Número de oraciones sin errores ortográficos y con errores ortográficos (cada uno): {}\".format(df.shape[0]))"
   ],
   "outputs": [
    {
     "output_type": "stream",
     "name": "stdout",
     "text": [
      "Número de oraciones sin errores ortográficos y con errores ortográficos (cada uno): 3544\n"
     ]
    }
   ],
   "metadata": {}
  },
  {
   "cell_type": "code",
   "execution_count": 21,
   "source": [
    "sentences = df[\"sentence\"].tolist()\n",
    "corpus = ' '.join(sentences)\n",
    "words = [w.strip() for w in corpus.split()]\n",
    "word_count = Counter(words)\n",
    "unique_words = list(word_count.keys())\n",
    "\n",
    "print(\"Número de palabras únicas (oraciones sin errores ortográficos): {}\".format(len(unique_words)))"
   ],
   "outputs": [
    {
     "output_type": "stream",
     "name": "stdout",
     "text": [
      "Número de palabras únicas (oraciones sin errores ortográficos): 11385\n"
     ]
    }
   ],
   "metadata": {}
  },
  {
   "cell_type": "code",
   "execution_count": 22,
   "source": [
    "chars = sorted(list(set(df[\"sentence\"].sum())))\n",
    "print(\"{} caracteres (oraciones sin errores ortográficos): {}\".format(len(chars), chars))"
   ],
   "outputs": [
    {
     "output_type": "stream",
     "name": "stdout",
     "text": [
      "24 caracteres (oraciones sin errores ortográficos): [' ', 'a', 'b', 'c', 'd', 'e', 'f', 'g', 'h', 'i', 'j', 'k', 'm', 'n', 'o', 'p', 'q', 'r', 's', 't', 'u', 'v', 'y', 'ñ']\n"
     ]
    }
   ],
   "metadata": {}
  },
  {
   "cell_type": "code",
   "execution_count": 23,
   "source": [
    "sentences = df[\"sentence_with_errors\"].tolist()\n",
    "corpus = ' '.join(sentences)\n",
    "words = [w.strip() for w in corpus.split()]\n",
    "word_count = Counter(words)\n",
    "unique_words = list(word_count.keys())\n",
    "\n",
    "print(\"Número de palabras únicas (oraciones con errores ortográficos): {}\".format(len(unique_words)))"
   ],
   "outputs": [
    {
     "output_type": "stream",
     "name": "stdout",
     "text": [
      "Número de palabras únicas (oraciones con errores ortográficos): 13209\n"
     ]
    }
   ],
   "metadata": {}
  },
  {
   "cell_type": "code",
   "execution_count": 24,
   "source": [
    "chars = sorted(list(set(df[\"sentence_with_errors\"].sum())))\n",
    "print(\"{} caracteres (oraciones con errores ortográficos): {}\".format(len(chars), chars))"
   ],
   "outputs": [
    {
     "output_type": "stream",
     "name": "stdout",
     "text": [
      "26 caracteres (oraciones con errores ortográficos): [' ', 'a', 'b', 'c', 'd', 'e', 'g', 'h', 'i', 'j', 'k', 'l', 'm', 'n', 'o', 'p', 'q', 'r', 's', 't', 'u', 'v', 'w', 'y', 'z', 'ñ']\n"
     ]
    }
   ],
   "metadata": {}
  },
  {
   "cell_type": "markdown",
   "source": [
    "Se hace un shuffle de las oraciones"
   ],
   "metadata": {}
  },
  {
   "cell_type": "code",
   "execution_count": 25,
   "source": [
    "df = df.sample(frac=1, random_state=8).reset_index(drop=True)\n",
    "n_head = df.shape[0] // 2\n",
    "n_tail = df.shape[0] - n_head"
   ],
   "outputs": [],
   "metadata": {}
  },
  {
   "cell_type": "markdown",
   "source": [
    "Crear corpus de oraciones sin errores ortograficos"
   ],
   "metadata": {}
  },
  {
   "cell_type": "code",
   "execution_count": 26,
   "source": [
    "with open(language + \".teacher_general.val.sentences.txt\", \"w\") as f:\n",
    "    lines = (df[:n_head][\"sentence\"] + '\\n').tolist()\n",
    "    f.writelines(lines)\n",
    "\n",
    "with open(language + \".teacher_general.test.sentences.txt\", \"w\") as f:\n",
    "    lines = (df[-n_tail:][\"sentence\"] + '\\n').tolist()\n",
    "    f.writelines(lines)"
   ],
   "outputs": [],
   "metadata": {}
  },
  {
   "cell_type": "markdown",
   "source": [
    "Crear corpus paralelos de oraciones con errores ortograficos"
   ],
   "metadata": {}
  },
  {
   "cell_type": "code",
   "execution_count": 27,
   "source": [
    "with open(language + \".teacher_general.val.sentences.errors.txt\", \"w\") as f:\n",
    "    lines = (df[:n_head][\"sentence_with_errors\"] + '\\n').tolist()\n",
    "    f.writelines(lines)\n",
    "\n",
    "with open(language + \".teacher_general.test.sentences.errors.txt\", \"w\") as f:\n",
    "    lines = (df[-n_tail:][\"sentence_with_errors\"] + '\\n').tolist()\n",
    "    f.writelines(lines)"
   ],
   "outputs": [],
   "metadata": {}
  },
  {
   "cell_type": "markdown",
   "source": [
    "Ahora, crearemos un corpus de oraciones sin errores ortograficos y un corpus paralelo de oraciones con una palabra con error ortográfico de un tipo"
   ],
   "metadata": {}
  },
  {
   "cell_type": "markdown",
   "source": [
    "Eliminamos las oraciones donde el valor de la columna \"error_types_count\" sea diferente al valor de la columna \"word_errors_count\""
   ],
   "metadata": {}
  },
  {
   "cell_type": "code",
   "execution_count": 28,
   "source": [
    "df = df[~(df[\"error_types_count\"] != df[\"word_errors_count\"])]"
   ],
   "outputs": [],
   "metadata": {}
  },
  {
   "cell_type": "code",
   "execution_count": 29,
   "source": [
    "print(\"Número de oraciones: {}\".format(df.shape[0]))"
   ],
   "outputs": [
    {
     "output_type": "stream",
     "name": "stdout",
     "text": [
      "Número de oraciones: 1772\n"
     ]
    }
   ],
   "metadata": {}
  },
  {
   "cell_type": "code",
   "execution_count": 30,
   "source": [
    "errors = df[\"error_types\"].tolist()\n",
    "errors = ','.join(errors)\n",
    "errors = [w.strip() for w in errors.split(',')]\n",
    "errors_count = Counter(errors)\n",
    "\n",
    "print(\"Número de tipos de errores: {}\".format(len(errors)))\n",
    "print(\"Tipos de errores: {}\".format(dict(errors_count)))"
   ],
   "outputs": [
    {
     "output_type": "stream",
     "name": "stdout",
     "text": [
      "Número de tipos de errores: 3221\n",
      "Tipos de errores: {'FON': 1354, 'SIN': 1272, 'GEN': 282, 'TIE': 66, 'NUM': 111, 'SEM': 93, 'PUN': 43}\n"
     ]
    }
   ],
   "metadata": {}
  },
  {
   "cell_type": "markdown",
   "source": [
    "Creamos el corpus de las oraciones sin errores ortográficos y un corpus paralelo de oraciones con un solo error ortográfico"
   ],
   "metadata": {}
  },
  {
   "cell_type": "code",
   "execution_count": 31,
   "source": [
    "dict_sentences_with_errors = {}\n",
    "dict_sentences = {}\n",
    "\n",
    "for error_type in errors_count:\n",
    "    dict_sentences_with_errors[error_type] = []\n",
    "    dict_sentences[error_type] = []"
   ],
   "outputs": [],
   "metadata": {}
  },
  {
   "cell_type": "code",
   "execution_count": 32,
   "source": [
    "for _, row in df.iterrows():\n",
    "    sentence = row[\"sentence\"]\n",
    "    error_types = row[\"error_types\"].split(',')\n",
    "\n",
    "    words = row[\"words\"].split(',')\n",
    "    words_with_errors = row[\"words_with_errors\"].split(',')\n",
    "    for idx, error_type in enumerate(error_types):\n",
    "        dict_sentences[error_type].append(sentence + '\\n')\n",
    "        sentence_with_error = sentence.replace(words[idx], words_with_errors[idx]) + '\\n'\n",
    "        dict_sentences_with_errors[error_type].append(sentence_with_error)\n",
    "\n",
    "for error_type in errors_count:\n",
    "    with open(\"{}.teacher_{}.test.sentences.errors.txt\".format(language, error_type.lower()), \"w\") as f:        \n",
    "        f.writelines(dict_sentences_with_errors[error_type])\n",
    "\n",
    "    with open(\"{}.teacher_{}.test.sentences.txt\".format(language, error_type.lower()), \"w\") as f:\n",
    "        f.writelines(dict_sentences[error_type])"
   ],
   "outputs": [],
   "metadata": {}
  },
  {
   "cell_type": "code",
   "execution_count": null,
   "source": [],
   "outputs": [],
   "metadata": {}
  }
 ],
 "metadata": {
  "kernelspec": {
   "name": "python3",
   "display_name": "Python 3.9.5 64-bit"
  },
  "language_info": {
   "codemirror_mode": {
    "name": "ipython",
    "version": 3
   },
   "file_extension": ".py",
   "mimetype": "text/x-python",
   "name": "python",
   "nbconvert_exporter": "python",
   "pygments_lexer": "ipython3",
   "version": "3.9.5"
  },
  "interpreter": {
   "hash": "397704579725e15f5c7cb49fe5f0341eb7531c82d19f2c29d197e8b64ab5776b"
  }
 },
 "nbformat": 4,
 "nbformat_minor": 5
}