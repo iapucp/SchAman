{
 "cells": [
  {
   "cell_type": "code",
   "execution_count": 1,
   "source": [
    "import sys\n",
    "\n",
    "sys.path.append(\"..\")\n",
    "\n",
    "from corrector import ScRNNChecker"
   ],
   "outputs": [],
   "metadata": {}
  },
  {
   "cell_type": "code",
   "execution_count": 2,
   "source": [
    "padding = 35"
   ],
   "outputs": [],
   "metadata": {}
  },
  {
   "cell_type": "markdown",
   "source": [
    "# Error aleatorio (base)"
   ],
   "metadata": {}
  },
  {
   "cell_type": "code",
   "execution_count": 3,
   "source": [
    "checker = ScRNNChecker(language=\"shi\", task_name=\"random\")\n",
    "\n",
    "sentence_with_errors = \"yoxama jawekpiki xaq keen akanai ikmi iixon onama sihnanxon tfe ame\"\n",
    "prediction = checker.correct_string(sentence_with_errors)\n",
    "reference = \"yoxaman jawekopiki xao kene akanai iki ixon onama shinanxon tee awe\"\n",
    "\n",
    "print(\"{text: <{padding}}: {sentence}\".format(text=\"Oración con errores ortográficos\", sentence=sentence_with_errors, padding=padding))\n",
    "print(\"{text: <{padding}}: {sentence}\".format(text=\"Predicción\", sentence=prediction, padding=padding))\n",
    "print(\"{text: <{padding}}: {sentence}\".format(text=\"Referencia\", sentence=reference, padding=padding))"
   ],
   "outputs": [
    {
     "output_type": "stream",
     "name": "stdout",
     "text": [
      "/Users/gerardo/Documents/MaestriaPUCP/Tesis/Código/main/adversarial_misspellings_master/defenses/scRNN/models/shi_random_4999_100_32\n",
      "Oración con errores ortográficos   : yoxama jawekpiki xaq keen akanai ikmi iixon onama sihnanxon tfe ame\n",
      "Predicción                         : yoxaman jawekopiki xao kene akanai iki ixon onama shinanxon tee wame\n",
      "Referencia                         : yoxaman jawekopiki xao kene akanai iki ixon onama shinanxon tee awe\n"
     ]
    }
   ],
   "metadata": {}
  },
  {
   "cell_type": "markdown",
   "source": [
    "# Proximidad de teclado (base)"
   ],
   "metadata": {}
  },
  {
   "cell_type": "code",
   "execution_count": 4,
   "source": [
    "checker = ScRNNChecker(language=\"shi\", task_name=\"keyprox\")\n",
    "\n",
    "sentence_with_errors = \"iigironki westuora ochitl aimbo tokta iku jsinoaxki bakeha imi\"\n",
    "prediction = checker.correct_string(sentence_with_errors)\n",
    "reference = \"iitironki westiora ochiti ainbo toota iki jainoaxki bakena iki\"\n",
    "\n",
    "print(\"{text: <{padding}}: {sentence}\".format(text=\"Oración con errores ortográficos\", sentence=sentence_with_errors, padding=padding))\n",
    "print(\"{text: <{padding}}: {sentence}\".format(text=\"Predicción\", sentence=prediction, padding=padding))\n",
    "print(\"{text: <{padding}}: {sentence}\".format(text=\"Referencia\", sentence=reference, padding=padding))\n"
   ],
   "outputs": [
    {
     "output_type": "stream",
     "name": "stdout",
     "text": [
      "/Users/gerardo/Documents/MaestriaPUCP/Tesis/Código/main/adversarial_misspellings_master/defenses/scRNN/models/shi_keyprox_4999_100_32\n",
      "Oración con errores ortográficos   : iigironki westuora ochitl aimbo tokta iku jsinoaxki bakeha imi\n",
      "Predicción                         : iitironki westiora ochiti ainbo toota iki jainoaxki bakeha iki\n",
      "Referencia                         : iitironki westiora ochiti ainbo toota iki jainoaxki bakena iki\n"
     ]
    }
   ],
   "metadata": {}
  },
  {
   "cell_type": "markdown",
   "source": [
    "# Ambigüedad fonema-grafema (base)"
   ],
   "metadata": {}
  },
  {
   "cell_type": "code",
   "execution_count": 5,
   "source": [
    "checker = ScRNNChecker(language=\"shi\", task_name=\"phongrafamb\")\n",
    "\n",
    "sentence_with_errors = \"mesku xuboboki ika yuyo awe jawekeska xobobuki jaa ixun yoyu amon ikamwe ribujo itam yokabupari yuiwe\"\n",
    "prediction = checker.correct_string(sentence_with_errors)\n",
    "reference = \"mesko xoboboki ika yoyo awe jawekeska xoboboki jaa ixon yoyo anon ikanwe ribojo itan yokabopari yoiwe\"\n",
    "\n",
    "print(\"{text: <{padding}}: {sentence}\".format(text=\"Oración con errores ortográficos\", sentence=sentence_with_errors, padding=padding))\n",
    "print(\"{text: <{padding}}: {sentence}\".format(text=\"Predicción\", sentence=prediction, padding=padding))\n",
    "print(\"{text: <{padding}}: {sentence}\".format(text=\"Referencia\", sentence=reference, padding=padding))\n"
   ],
   "outputs": [
    {
     "output_type": "stream",
     "name": "stdout",
     "text": [
      "/Users/gerardo/Documents/MaestriaPUCP/Tesis/Código/main/adversarial_misspellings_master/defenses/scRNN/models/shi_phongrafamb_4999_100_32\n",
      "Oración con errores ortográficos   : mesku xuboboki ika yuyo awe jawekeska xobobuki jaa ixun yoyu amon ikamwe ribujo itam yokabupari yuiwe\n",
      "Predicción                         : mesko xoboboki ika yoyo kawe jawekeska xoboboki jaa ixon yoyo anon ikanwe ribojo itan yokabopari yoiwe\n",
      "Referencia                         : mesko xoboboki ika yoyo awe jawekeska xoboboki jaa ixon yoyo anon ikanwe ribojo itan yokabopari yoiwe\n"
     ]
    }
   ],
   "metadata": {}
  },
  {
   "cell_type": "markdown",
   "source": [
    "# Similitud de sílaba (base)"
   ],
   "metadata": {}
  },
  {
   "cell_type": "code",
   "execution_count": 6,
   "source": [
    "checker = ScRNNChecker(language=\"shi\", task_name=\"sylsim\")\n",
    "\n",
    "sentence_with_errors = \"wanotabo moitira jankoreskin yocti jawerima kki\"\n",
    "prediction = checker.correct_string(sentence_with_errors)\n",
    "reference = \"winotabo yoitira jansoreskin yoiti jawekima iki\"\n",
    "\n",
    "print(\"{text: <{padding}}: {sentence}\".format(text=\"Oración con errores ortográficos\", sentence=sentence_with_errors, padding=padding))\n",
    "print(\"{text: <{padding}}: {sentence}\".format(text=\"Predicción\", sentence=prediction, padding=padding))\n",
    "print(\"{text: <{padding}}: {sentence}\".format(text=\"Referencia\", sentence=reference, padding=padding))\n"
   ],
   "outputs": [
    {
     "output_type": "stream",
     "name": "stdout",
     "text": [
      "/Users/gerardo/Documents/MaestriaPUCP/Tesis/Código/main/adversarial_misspellings_master/defenses/scRNN/models/shi_sylsim_4999_100_32\n",
      "Oración con errores ortográficos   : wanotabo moitira jankoreskin yocti jawerima kki\n",
      "Predicción                         : wanotabo moitira jankoreskin yocti jawerima iki\n",
      "Referencia                         : winotabo yoitira jansoreskin yoiti jawekima iki\n"
     ]
    }
   ],
   "metadata": {}
  },
  {
   "cell_type": "markdown",
   "source": [
    "# Desnormalización (base)"
   ],
   "metadata": {}
  },
  {
   "cell_type": "code",
   "execution_count": 7,
   "source": [
    "checker = ScRNNChecker(language=\"shi\", task_name=\"unnorm\")\n",
    "\n",
    "sentence_with_errors = \"mëninra nocaon huata xoboaxonquie\"\n",
    "prediction = checker.correct_string(sentence_with_errors)\n",
    "reference = \"meninra nokon wata xoboaxonke\"\n",
    "\n",
    "print(\"{text: <{padding}}: {sentence}\".format(text=\"Oración con errores ortográficos\", sentence=sentence_with_errors, padding=padding))\n",
    "print(\"{text: <{padding}}: {sentence}\".format(text=\"Predicción\", sentence=prediction, padding=padding))\n",
    "print(\"{text: <{padding}}: {sentence}\".format(text=\"Referencia\", sentence=reference, padding=padding))\n"
   ],
   "outputs": [
    {
     "output_type": "stream",
     "name": "stdout",
     "text": [
      "/Users/gerardo/Documents/MaestriaPUCP/Tesis/Código/main/adversarial_misspellings_master/defenses/scRNN/models/shi_unnorm_4999_100_32\n",
      "Oración con errores ortográficos   : mëninra nocaon huata xoboaxonquie\n",
      "Predicción                         : meninra nokon wata xoboaxonquie\n",
      "Referencia                         : meninra nokon wata xoboaxonke\n"
     ]
    }
   ],
   "metadata": {}
  },
  {
   "cell_type": "markdown",
   "source": [
    "# Ambigüedad fonema-grafema + Desnormalización (base)"
   ],
   "metadata": {}
  },
  {
   "cell_type": "code",
   "execution_count": 1,
   "source": [
    "checker = ScRNNChecker(language=\"shi\", task_name=\"phongrafamb_unnorm\")\n",
    "\n",
    "sentence_with_errors = \"bacaebora tsiniqueanai nontira rëokoke icoi\"\n",
    "prediction = checker.correct_string(sentence_with_errors)\n",
    "reference = \"bakebora tsinikanai nontira reokoke iki\"\n",
    "\n",
    "print(\"{text: <{padding}}: {sentence}\".format(text=\"Oración con errores ortográficos\", sentence=sentence_with_errors, padding=padding))\n",
    "print(\"{text: <{padding}}: {sentence}\".format(text=\"Predicción\", sentence=prediction, padding=padding))\n",
    "print(\"{text: <{padding}}: {sentence}\".format(text=\"Referencia\", sentence=reference, padding=padding))\n"
   ],
   "outputs": [
    {
     "output_type": "error",
     "ename": "NameError",
     "evalue": "name 'ScRNNChecker' is not defined",
     "traceback": [
      "\u001b[0;31m---------------------------------------------------------------------------\u001b[0m",
      "\u001b[0;31mNameError\u001b[0m                                 Traceback (most recent call last)",
      "\u001b[0;32m<ipython-input-1-bfd95af2203b>\u001b[0m in \u001b[0;36m<module>\u001b[0;34m\u001b[0m\n\u001b[0;32m----> 1\u001b[0;31m \u001b[0mchecker\u001b[0m \u001b[0;34m=\u001b[0m \u001b[0mScRNNChecker\u001b[0m\u001b[0;34m(\u001b[0m\u001b[0mlanguage\u001b[0m\u001b[0;34m=\u001b[0m\u001b[0;34m\"shi\"\u001b[0m\u001b[0;34m,\u001b[0m \u001b[0mtask_name\u001b[0m\u001b[0;34m=\u001b[0m\u001b[0;34m\"phongrafambunnorm\"\u001b[0m\u001b[0;34m)\u001b[0m\u001b[0;34m\u001b[0m\u001b[0;34m\u001b[0m\u001b[0m\n\u001b[0m\u001b[1;32m      2\u001b[0m \u001b[0;34m\u001b[0m\u001b[0m\n\u001b[1;32m      3\u001b[0m \u001b[0msentence_with_errors\u001b[0m \u001b[0;34m=\u001b[0m \u001b[0;34m\"mëninra nocaon huata xoboaxonquie\"\u001b[0m\u001b[0;34m\u001b[0m\u001b[0;34m\u001b[0m\u001b[0m\n\u001b[1;32m      4\u001b[0m \u001b[0mprediction\u001b[0m \u001b[0;34m=\u001b[0m \u001b[0mchecker\u001b[0m\u001b[0;34m.\u001b[0m\u001b[0mcorrect_string\u001b[0m\u001b[0;34m(\u001b[0m\u001b[0msentence_with_errors\u001b[0m\u001b[0;34m)\u001b[0m\u001b[0;34m\u001b[0m\u001b[0;34m\u001b[0m\u001b[0m\n\u001b[1;32m      5\u001b[0m \u001b[0mreference\u001b[0m \u001b[0;34m=\u001b[0m \u001b[0;34m\"meninra nokon wata xoboaxonke\"\u001b[0m\u001b[0;34m\u001b[0m\u001b[0;34m\u001b[0m\u001b[0m\n",
      "\u001b[0;31mNameError\u001b[0m: name 'ScRNNChecker' is not defined"
     ]
    }
   ],
   "metadata": {}
  },
  {
   "cell_type": "markdown",
   "source": [
    "# Todos (base)"
   ],
   "metadata": {}
  },
  {
   "cell_type": "code",
   "execution_count": 8,
   "source": [
    "checker = ScRNNChecker(language=\"shi\", task_name=\"all\")\n",
    "\n",
    "sentence_with_errors = \"jahuen mapu manaun huestiora iwi itima jahuen jima namam rebe ipu raata\"\n",
    "prediction = checker.correct_string(sentence_with_errors)\n",
    "reference = \"jawen mapo manaon westiora iwi itina jawen jina naman rebe ipo rakata\"\n",
    "\n",
    "print(\"{text: <{padding}}: {sentence}\".format(text=\"Oración con errores ortográficos\", sentence=sentence_with_errors, padding=padding))\n",
    "print(\"{text: <{padding}}: {sentence}\".format(text=\"Predicción\", sentence=prediction, padding=padding))\n",
    "print(\"{text: <{padding}}: {sentence}\".format(text=\"Referencia\", sentence=reference, padding=padding))\n"
   ],
   "outputs": [
    {
     "output_type": "stream",
     "name": "stdout",
     "text": [
      "/Users/gerardo/Documents/MaestriaPUCP/Tesis/Código/main/adversarial_misspellings_master/defenses/scRNN/models/shi_all_4999_100_32\n",
      "Oración con errores ortográficos   : jahuen mapu manaun huestiora iwi itima jahuen jima namam rebe ipu raata\n",
      "Predicción                         : jawen mapo manaun westiora iki itina jawen jina naman rebe ipo raata\n",
      "Referencia                         : jawen mapo manaon westiora iwi itina jawen jina naman rebe ipo rakata\n"
     ]
    }
   ],
   "metadata": {}
  },
  {
   "cell_type": "markdown",
   "source": [
    "# Ensamble (base)"
   ],
   "metadata": {}
  },
  {
   "cell_type": "code",
   "execution_count": null,
   "source": [
    "checker = ScRNNChecker(language=\"shi\", task_name=\"ensamble\")\n",
    "\n",
    "sentence_with_errors = \"jahuen mapu manaun huestiora iwi itima jahuen jima namam rebe ipu raata\"\n",
    "prediction = checker.correct_string(sentence_with_errors)\n",
    "reference = \"jawen mapo manaon westiora iwi itina jawen jina naman rebe ipo rakata\"\n",
    "\n",
    "print(\"{text: <{padding}}: {sentence}\".format(text=\"Oración con errores ortográficos\", sentence=sentence_with_errors, padding=padding))\n",
    "print(\"{text: <{padding}}: {sentence}\".format(text=\"Predicción\", sentence=prediction, padding=padding))\n",
    "print(\"{text: <{padding}}: {sentence}\".format(text=\"Referencia\", sentence=reference, padding=padding))\n"
   ],
   "outputs": [
    {
     "output_type": "stream",
     "name": "stdout",
     "text": [
      "/Users/gerardo/Documents/MaestriaPUCP/Tesis/Código/main/adversarial_misspellings_master/defenses/scRNN/models/shi_all_4999_100_32\n",
      "Oración con errores ortográficos   : jahuen mapu manaun huestiora iwi itima jahuen jima namam rebe ipu raata\n",
      "Predicción                         : jawen mapo manaun westiora iki itina jawen jina naman rebe ipo raata\n",
      "Referencia                         : jawen mapo manaon westiora iwi itina jawen jina naman rebe ipo rakata\n"
     ]
    }
   ],
   "metadata": {}
  },
  {
   "cell_type": "markdown",
   "source": [
    "# Error aleatorio + General → General"
   ],
   "metadata": {}
  },
  {
   "cell_type": "code",
   "execution_count": 9,
   "source": [
    "checker = ScRNNChecker(language=\"shi\", task_name=\"random_teacher_general\")\n",
    "\n",
    "sentence_with_errors = \"cachio huainko caxon paranta texcan bitanhue non ja joaitira yameque\"\n",
    "prediction = checker.correct_string(sentence_with_errors)\n",
    "reference = \"kachio wainko kaxon paranta texkan bitanwe non ja joatira yameke\"\n",
    "\n",
    "print(\"{text: <{padding}}: {sentence}\".format(text=\"Oración con errores ortográficos\", sentence=sentence_with_errors, padding=padding))\n",
    "print(\"{text: <{padding}}: {sentence}\".format(text=\"Predicción\", sentence=prediction, padding=padding))\n",
    "print(\"{text: <{padding}}: {sentence}\".format(text=\"Referencia\", sentence=reference, padding=padding))\n"
   ],
   "outputs": [
    {
     "output_type": "stream",
     "name": "stdout",
     "text": [
      "/Users/gerardo/Documents/MaestriaPUCP/Tesis/Código/main/adversarial_misspellings_master/defenses/scRNN/models/shi_random_teacher_general_4999_100_32\n",
      "Oración con errores ortográficos   : cachio huainko caxon paranta texcan bitanhue non ja joaitira yameque\n",
      "Predicción                         : kachio wainko kaxon paranta texkan bitanhue non ja joaitira yameque\n",
      "Referencia                         : kachio wainko kaxon paranta texkan bitanwe non ja joatira yameke\n"
     ]
    }
   ],
   "metadata": {}
  },
  {
   "cell_type": "markdown",
   "source": [
    "# Proximidad de teclado + General → General"
   ],
   "metadata": {}
  },
  {
   "cell_type": "code",
   "execution_count": 10,
   "source": [
    "checker = ScRNNChecker(language=\"shi\", task_name=\"keyprox_teacher_general\")\n",
    "\n",
    "sentence_with_errors = \"cachio huainko caxon paranta texcan bitanhue non ja joaitira yameque\"\n",
    "prediction = checker.correct_string(sentence_with_errors)\n",
    "reference = \"kachio wainko kaxon paranta texkan bitanwe non ja joatira yameke\"\n",
    "\n",
    "print(\"{text: <{padding}}: {sentence}\".format(text=\"Oración con errores ortográficos\", sentence=sentence_with_errors, padding=padding))\n",
    "print(\"{text: <{padding}}: {sentence}\".format(text=\"Predicción\", sentence=prediction, padding=padding))\n",
    "print(\"{text: <{padding}}: {sentence}\".format(text=\"Referencia\", sentence=reference, padding=padding))\n"
   ],
   "outputs": [
    {
     "output_type": "stream",
     "name": "stdout",
     "text": [
      "/Users/gerardo/Documents/MaestriaPUCP/Tesis/Código/main/adversarial_misspellings_master/defenses/scRNN/models/shi_keyprox_teacher_general_4999_100_32\n",
      "Oración con errores ortográficos   : cachio huainko caxon paranta texcan bitanhue non ja joaitira yameque\n",
      "Predicción                         : kachio wainko kaxon paranta texkan bitanhue non ja joaitira yameque\n",
      "Referencia                         : kachio wainko kaxon paranta texkan bitanwe non ja joatira yameke\n"
     ]
    }
   ],
   "metadata": {}
  },
  {
   "cell_type": "markdown",
   "source": [
    "# Confusión fonema-grafema + General → General"
   ],
   "metadata": {}
  },
  {
   "cell_type": "code",
   "execution_count": 11,
   "source": [
    "checker = ScRNNChecker(language=\"shi\", task_name=\"phongrafamb_teacher_general\")\n",
    "\n",
    "sentence_with_errors = \"cachio huainko caxon paranta texcan bitanhue non ja joaitira yameque\"\n",
    "prediction = checker.correct_string(sentence_with_errors)\n",
    "reference = \"kachio wainko kaxon paranta texkan bitanwe non ja joatira yameke\"\n",
    "\n",
    "print(\"{text: <{padding}}: {sentence}\".format(text=\"Oración con errores ortográficos\", sentence=sentence_with_errors, padding=padding))\n",
    "print(\"{text: <{padding}}: {sentence}\".format(text=\"Predicción\", sentence=prediction, padding=padding))\n",
    "print(\"{text: <{padding}}: {sentence}\".format(text=\"Referencia\", sentence=reference, padding=padding))\n"
   ],
   "outputs": [
    {
     "output_type": "stream",
     "name": "stdout",
     "text": [
      "/Users/gerardo/Documents/MaestriaPUCP/Tesis/Código/main/adversarial_misspellings_master/defenses/scRNN/models/shi_phongrafamb_teacher_general_4999_100_32\n",
      "Oración con errores ortográficos   : cachio huainko caxon paranta texcan bitanhue non ja joaitira yameque\n",
      "Predicción                         : kachio wainko kaxon paranta texkan bitanhue non ja joaitira yameque\n",
      "Referencia                         : kachio wainko kaxon paranta texkan bitanwe non ja joatira yameke\n"
     ]
    }
   ],
   "metadata": {}
  },
  {
   "cell_type": "markdown",
   "source": [
    "# Similitud de sílaba + General → General"
   ],
   "metadata": {}
  },
  {
   "cell_type": "code",
   "execution_count": 12,
   "source": [
    "checker = ScRNNChecker(language=\"shi\", task_name=\"sylsim_teacher_general\")\n",
    "\n",
    "sentence_with_errors = \"cachio huainko caxon paranta texcan bitanhue non ja joaitira yameque\"\n",
    "prediction = checker.correct_string(sentence_with_errors)\n",
    "reference = \"kachio wainko kaxon paranta texkan bitanwe non ja joatira yameke\"\n",
    "\n",
    "print(\"{text: <{padding}}: {sentence}\".format(text=\"Oración con errores ortográficos\", sentence=sentence_with_errors, padding=padding))\n",
    "print(\"{text: <{padding}}: {sentence}\".format(text=\"Predicción\", sentence=prediction, padding=padding))\n",
    "print(\"{text: <{padding}}: {sentence}\".format(text=\"Referencia\", sentence=reference, padding=padding))\n"
   ],
   "outputs": [
    {
     "output_type": "stream",
     "name": "stdout",
     "text": [
      "/Users/gerardo/Documents/MaestriaPUCP/Tesis/Código/main/adversarial_misspellings_master/defenses/scRNN/models/shi_sylsim_teacher_general_4999_100_32\n",
      "Oración con errores ortográficos   : cachio huainko caxon paranta texcan bitanhue non ja joaitira yameque\n",
      "Predicción                         : kachio wainko kaxon paranta texkan bitanhue non ja joaitira yameque\n",
      "Referencia                         : kachio wainko kaxon paranta texkan bitanwe non ja joatira yameke\n"
     ]
    }
   ],
   "metadata": {}
  },
  {
   "cell_type": "markdown",
   "source": [
    "# Desnormalización + General → General"
   ],
   "metadata": {}
  },
  {
   "cell_type": "code",
   "execution_count": 13,
   "source": [
    "checker = ScRNNChecker(language=\"shi\", task_name=\"unnorm_teacher_general\")\n",
    "\n",
    "sentence_with_errors = \"cachio huainko caxon paranta texcan bitanhue non ja joaitira yameque\"\n",
    "prediction = checker.correct_string(sentence_with_errors)\n",
    "reference = \"kachio wainko kaxon paranta texkan bitanwe non ja joatira yameke\"\n",
    "\n",
    "print(\"{text: <{padding}}: {sentence}\".format(text=\"Oración con errores ortográficos\", sentence=sentence_with_errors, padding=padding))\n",
    "print(\"{text: <{padding}}: {sentence}\".format(text=\"Predicción\", sentence=prediction, padding=padding))\n",
    "print(\"{text: <{padding}}: {sentence}\".format(text=\"Referencia\", sentence=reference, padding=padding))\n"
   ],
   "outputs": [
    {
     "output_type": "stream",
     "name": "stdout",
     "text": [
      "/Users/gerardo/Documents/MaestriaPUCP/Tesis/Código/main/adversarial_misspellings_master/defenses/scRNN/models/shi_unnorm_teacher_general_4999_100_32\n",
      "Oración con errores ortográficos   : cachio huainko caxon paranta texcan bitanhue non ja joaitira yameque\n",
      "Predicción                         : kachio wainko kaxon paranta texkan bitanhue non ja joaitira yamake\n",
      "Referencia                         : kachio wainko kaxon paranta texkan bitanwe non ja joatira yameke\n"
     ]
    }
   ],
   "metadata": {}
  },
  {
   "cell_type": "markdown",
   "source": [
    "# Todos + General → General"
   ],
   "metadata": {}
  },
  {
   "cell_type": "code",
   "execution_count": 14,
   "source": [
    "checker = ScRNNChecker(language=\"shi\", task_name=\"all_teacher_general\")\n",
    "\n",
    "sentence_with_errors = \"cachio huainko caxon paranta texcan bitanhue non ja joaitira yameque\"\n",
    "prediction = checker.correct_string(sentence_with_errors)\n",
    "reference = \"kachio wainko kaxon paranta texkan bitanwe non ja joatira yameke\"\n",
    "\n",
    "print(\"{text: <{padding}}: {sentence}\".format(text=\"Oración con errores ortográficos\", sentence=sentence_with_errors, padding=padding))\n",
    "print(\"{text: <{padding}}: {sentence}\".format(text=\"Predicción\", sentence=prediction, padding=padding))\n",
    "print(\"{text: <{padding}}: {sentence}\".format(text=\"Referencia\", sentence=reference, padding=padding))\n"
   ],
   "outputs": [
    {
     "output_type": "stream",
     "name": "stdout",
     "text": [
      "/Users/gerardo/Documents/MaestriaPUCP/Tesis/Código/main/adversarial_misspellings_master/defenses/scRNN/models/shi_all_teacher_general_4999_100_32\n",
      "Oración con errores ortográficos   : cachio huainko caxon paranta texcan bitanhue non ja joaitira yameque\n",
      "Predicción                         : kachio wainko kaxon paranta texkan bitanhue non ja joaitira yamake\n",
      "Referencia                         : kachio wainko kaxon paranta texkan bitanwe non ja joatira yameke\n"
     ]
    }
   ],
   "metadata": {}
  },
  {
   "cell_type": "markdown",
   "source": [
    "# Error aleatorio + General → Normalización"
   ],
   "metadata": {}
  },
  {
   "cell_type": "code",
   "execution_count": 15,
   "source": [
    "checker = ScRNNChecker(language=\"shi\", task_name=\"random_teacher_general\")\n",
    "\n",
    "sentence_with_errors = \"yantashokora en meshinkonia cabori anishaman yatanke ja bexonra jahuen pexkamanbi betenke\"\n",
    "prediction = checker.correct_string(sentence_with_errors)\n",
    "reference = \"yantashokora en meshinkonia kabori anishaman yatanke ja bexonra jawen pexkamanbi betenke\"\n",
    "\n",
    "print(\"{text: <{padding}}: {sentence}\".format(text=\"Oración con errores ortográficos\", sentence=sentence_with_errors, padding=padding))\n",
    "print(\"{text: <{padding}}: {sentence}\".format(text=\"Predicción\", sentence=prediction, padding=padding))\n",
    "print(\"{text: <{padding}}: {sentence}\".format(text=\"Referencia\", sentence=reference, padding=padding))\n"
   ],
   "outputs": [
    {
     "output_type": "stream",
     "name": "stdout",
     "text": [
      "/Users/gerardo/Documents/MaestriaPUCP/Tesis/Código/main/adversarial_misspellings_master/defenses/scRNN/models/shi_random_teacher_general_4999_100_32\n",
      "Oración con errores ortográficos   : yantashokora en meshinkonia cabori anishaman yatanke ja bexonra jahuen pexkamanbi betenke\n",
      "Predicción                         : yantashokora en meshinkonia cabori anishaman yatanke ja bexonra jawen pexkamanbi betenke\n",
      "Referencia                         : yantashokora en meshinkonia kabori anishaman yatanke ja bexonra jawen pexkamanbi betenke\n"
     ]
    }
   ],
   "metadata": {}
  },
  {
   "cell_type": "markdown",
   "source": [
    "# Proximidad de teclado + General → Normalización"
   ],
   "metadata": {}
  },
  {
   "cell_type": "code",
   "execution_count": 16,
   "source": [
    "checker = ScRNNChecker(language=\"shi\", task_name=\"keyprox_teacher_general\")\n",
    "\n",
    "sentence_with_errors = \"yantashokora en meshinkonia cabori anishaman yatanke ja bexonra jahuen pexkamanbi betenke\"\n",
    "prediction = checker.correct_string(sentence_with_errors)\n",
    "reference = \"yantashokora en meshinkonia kabori anishaman yatanke ja bexonra jawen pexkamanbi betenke\"\n",
    "\n",
    "print(\"{text: <{padding}}: {sentence}\".format(text=\"Oración con errores ortográficos\", sentence=sentence_with_errors, padding=padding))\n",
    "print(\"{text: <{padding}}: {sentence}\".format(text=\"Predicción\", sentence=prediction, padding=padding))\n",
    "print(\"{text: <{padding}}: {sentence}\".format(text=\"Referencia\", sentence=reference, padding=padding))\n"
   ],
   "outputs": [
    {
     "output_type": "stream",
     "name": "stdout",
     "text": [
      "/Users/gerardo/Documents/MaestriaPUCP/Tesis/Código/main/adversarial_misspellings_master/defenses/scRNN/models/shi_keyprox_teacher_general_4999_100_32\n",
      "Oración con errores ortográficos   : yantashokora en meshinkonia cabori anishaman yatanke ja bexonra jahuen pexkamanbi betenke\n",
      "Predicción                         : yantashokora en meshinkonia kabori anishaman yatanke ja bexonra jawen pexkamanbi betenke\n",
      "Referencia                         : yantashokora en meshinkonia kabori anishaman yatanke ja bexonra jawen pexkamanbi betenke\n"
     ]
    }
   ],
   "metadata": {}
  },
  {
   "cell_type": "markdown",
   "source": [
    "# Confusión fonema-grafema + General → Normalización"
   ],
   "metadata": {}
  },
  {
   "cell_type": "code",
   "execution_count": 17,
   "source": [
    "checker = ScRNNChecker(language=\"shi\", task_name=\"phongrafamb_teacher_general\")\n",
    "\n",
    "sentence_with_errors = \"yantashokora en meshinkonia cabori anishaman yatanke ja bexonra jahuen pexkamanbi betenke\"\n",
    "prediction = checker.correct_string(sentence_with_errors)\n",
    "reference = \"yantashokora en meshinkonia kabori anishaman yatanke ja bexonra jawen pexkamanbi betenke\"\n",
    "\n",
    "print(\"{text: <{padding}}: {sentence}\".format(text=\"Oración con errores ortográficos\", sentence=sentence_with_errors, padding=padding))\n",
    "print(\"{text: <{padding}}: {sentence}\".format(text=\"Predicción\", sentence=prediction, padding=padding))\n",
    "print(\"{text: <{padding}}: {sentence}\".format(text=\"Referencia\", sentence=reference, padding=padding))\n"
   ],
   "outputs": [
    {
     "output_type": "stream",
     "name": "stdout",
     "text": [
      "/Users/gerardo/Documents/MaestriaPUCP/Tesis/Código/main/adversarial_misspellings_master/defenses/scRNN/models/shi_phongrafamb_teacher_general_4999_100_32\n",
      "Oración con errores ortográficos   : yantashokora en meshinkonia cabori anishaman yatanke ja bexonra jahuen pexkamanbi betenke\n",
      "Predicción                         : yantashokora en meshinkonia kabori anishaman yatanke ja bexonra jawen pexkamanbi betenke\n",
      "Referencia                         : yantashokora en meshinkonia kabori anishaman yatanke ja bexonra jawen pexkamanbi betenke\n"
     ]
    }
   ],
   "metadata": {}
  },
  {
   "cell_type": "markdown",
   "source": [
    "# Similitud de sílaba + General → Normalización"
   ],
   "metadata": {}
  },
  {
   "cell_type": "code",
   "execution_count": 18,
   "source": [
    "checker = ScRNNChecker(language=\"shi\", task_name=\"sylsim_teacher_general\")\n",
    "\n",
    "sentence_with_errors = \"yantashokora en meshinkonia cabori anishaman yatanke ja bexonra jahuen pexkamanbi betenke\"\n",
    "prediction = checker.correct_string(sentence_with_errors)\n",
    "reference = \"yantashokora en meshinkonia kabori anishaman yatanke ja bexonra jawen pexkamanbi betenke\"\n",
    "\n",
    "print(\"{text: <{padding}}: {sentence}\".format(text=\"Oración con errores ortográficos\", sentence=sentence_with_errors, padding=padding))\n",
    "print(\"{text: <{padding}}: {sentence}\".format(text=\"Predicción\", sentence=prediction, padding=padding))\n",
    "print(\"{text: <{padding}}: {sentence}\".format(text=\"Referencia\", sentence=reference, padding=padding))\n"
   ],
   "outputs": [
    {
     "output_type": "stream",
     "name": "stdout",
     "text": [
      "/Users/gerardo/Documents/MaestriaPUCP/Tesis/Código/main/adversarial_misspellings_master/defenses/scRNN/models/shi_sylsim_teacher_general_4999_100_32\n",
      "Oración con errores ortográficos   : yantashokora en meshinkonia cabori anishaman yatanke ja bexonra jahuen pexkamanbi betenke\n",
      "Predicción                         : yantashokora en meshinkonia kabori anishaman yatanke ja bexonra jawen pexkamanbi betenke\n",
      "Referencia                         : yantashokora en meshinkonia kabori anishaman yatanke ja bexonra jawen pexkamanbi betenke\n"
     ]
    }
   ],
   "metadata": {}
  },
  {
   "cell_type": "markdown",
   "source": [
    "# Desnormalización + General → Normalización"
   ],
   "metadata": {}
  },
  {
   "cell_type": "code",
   "execution_count": 19,
   "source": [
    "checker = ScRNNChecker(language=\"shi\", task_name=\"unnorm_teacher_general\")\n",
    "\n",
    "sentence_with_errors = \"yantashokora en meshinkonia cabori anishaman yatanke ja bexonra jahuen pexkamanbi betenke\"\n",
    "prediction = checker.correct_string(sentence_with_errors)\n",
    "reference = \"yantashokora en meshinkonia kabori anishaman yatanke ja bexonra jawen pexkamanbi betenke\"\n",
    "\n",
    "print(\"{text: <{padding}}: {sentence}\".format(text=\"Oración con errores ortográficos\", sentence=sentence_with_errors, padding=padding))\n",
    "print(\"{text: <{padding}}: {sentence}\".format(text=\"Predicción\", sentence=prediction, padding=padding))\n",
    "print(\"{text: <{padding}}: {sentence}\".format(text=\"Referencia\", sentence=reference, padding=padding))\n"
   ],
   "outputs": [
    {
     "output_type": "stream",
     "name": "stdout",
     "text": [
      "/Users/gerardo/Documents/MaestriaPUCP/Tesis/Código/main/adversarial_misspellings_master/defenses/scRNN/models/shi_unnorm_teacher_general_4999_100_32\n",
      "Oración con errores ortográficos   : yantashokora en meshinkonia cabori anishaman yatanke ja bexonra jahuen pexkamanbi betenke\n",
      "Predicción                         : yantashokora en meshinkonia kabori anishaman yatanke ja bexonra jawen pexkamanbi betenke\n",
      "Referencia                         : yantashokora en meshinkonia kabori anishaman yatanke ja bexonra jawen pexkamanbi betenke\n"
     ]
    }
   ],
   "metadata": {}
  },
  {
   "cell_type": "markdown",
   "source": [
    "# Todos + General → Normalización"
   ],
   "metadata": {}
  },
  {
   "cell_type": "code",
   "execution_count": 20,
   "source": [
    "checker = ScRNNChecker(language=\"shi\", task_name=\"all_teacher_general\")\n",
    "\n",
    "sentence_with_errors = \"yantashokora en meshinkonia cabori anishaman yatanke ja bexonra jahuen pexkamanbi betenke\"\n",
    "prediction = checker.correct_string(sentence_with_errors)\n",
    "reference = \"yantashokora en meshinkonia kabori anishaman yatanke ja bexonra jawen pexkamanbi betenke\"\n",
    "\n",
    "print(\"{text: <{padding}}: {sentence}\".format(text=\"Oración con errores ortográficos\", sentence=sentence_with_errors, padding=padding))\n",
    "print(\"{text: <{padding}}: {sentence}\".format(text=\"Predicción\", sentence=prediction, padding=padding))\n",
    "print(\"{text: <{padding}}: {sentence}\".format(text=\"Referencia\", sentence=reference, padding=padding))\n"
   ],
   "outputs": [
    {
     "output_type": "stream",
     "name": "stdout",
     "text": [
      "/Users/gerardo/Documents/MaestriaPUCP/Tesis/Código/main/adversarial_misspellings_master/defenses/scRNN/models/shi_all_teacher_general_4999_100_32\n",
      "Oración con errores ortográficos   : yantashokora en meshinkonia cabori anishaman yatanke ja bexonra jahuen pexkamanbi betenke\n",
      "Predicción                         : yantashokora en meshinkonia kabori anishaman yatanke ja bexonra jawen pexkamanbi betenke\n",
      "Referencia                         : yantashokora en meshinkonia kabori anishaman yatanke ja bexonra jawen pexkamanbi betenke\n"
     ]
    }
   ],
   "metadata": {}
  }
 ],
 "metadata": {
  "orig_nbformat": 4,
  "language_info": {
   "name": "python",
   "version": "3.9.5",
   "mimetype": "text/x-python",
   "codemirror_mode": {
    "name": "ipython",
    "version": 3
   },
   "pygments_lexer": "ipython3",
   "nbconvert_exporter": "python",
   "file_extension": ".py"
  },
  "kernelspec": {
   "name": "python3",
   "display_name": "Python 3.9.5 64-bit"
  },
  "interpreter": {
   "hash": "397704579725e15f5c7cb49fe5f0341eb7531c82d19f2c29d197e8b64ab5776b"
  }
 },
 "nbformat": 4,
 "nbformat_minor": 2
}