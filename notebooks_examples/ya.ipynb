{
 "cells": [
  {
   "cell_type": "code",
   "execution_count": 1,
   "source": [
    "import sys\n",
    "\n",
    "sys.path.append(\"..\")\n",
    "\n",
    "from corrector import ScRNNChecker"
   ],
   "outputs": [],
   "metadata": {}
  },
  {
   "cell_type": "code",
   "execution_count": 2,
   "source": [
    "padding = 35"
   ],
   "outputs": [],
   "metadata": {}
  },
  {
   "cell_type": "markdown",
   "source": [
    "# Error aleatorio (base)"
   ],
   "metadata": {}
  },
  {
   "cell_type": "code",
   "execution_count": 3,
   "source": [
    "checker = ScRNNChecker(language=\"ya\", task_name=\"random\")\n",
    "\n",
    "sentence_with_errors = \"ye'mñhoten ateh sherbeso'ette'th asath yeñema't ateh yesherebso'teñ paerts\"\n",
    "prediction = checker.correct_string(sentence_with_errors)\n",
    "reference = \"ye'mhñoten ateth sherbeso'tete'th awath yeñema't ateth yesherbeso'teñ parets\"\n",
    "\n",
    "print(\"{text: <{padding}}: {sentence}\".format(text=\"Oración con errores ortográficos\", sentence=sentence_with_errors, padding=padding))\n",
    "print(\"{text: <{padding}}: {sentence}\".format(text=\"Predicción\", sentence=prediction, padding=padding))\n",
    "print(\"{text: <{padding}}: {sentence}\".format(text=\"Referencia\", sentence=reference, padding=padding))\n"
   ],
   "outputs": [
    {
     "output_type": "stream",
     "name": "stdout",
     "text": [
      "/Users/gerardo/Documents/MaestriaPUCP/Tesis/Código/main/adversarial_misspellings_master/defenses/scRNN/models/ya_random_4999_100_32\n",
      "Oración con errores ortográficos   : ye'mñhoten ateh sherbeso'ette'th asath yeñema't ateh yesherebso'teñ paerts\n",
      "Predicción                         : ye'mhñoten ateth sherbeso'tete'th ashath yeñema't ateth yesherbeso'teñ parets\n",
      "Referencia                         : ye'mhñoten ateth sherbeso'tete'th awath yeñema't ateth yesherbeso'teñ parets\n"
     ]
    }
   ],
   "metadata": {}
  },
  {
   "cell_type": "markdown",
   "source": [
    "# Proximidad de teclado (base)"
   ],
   "metadata": {}
  },
  {
   "cell_type": "code",
   "execution_count": 4,
   "source": [
    "checker = ScRNNChecker(language=\"ya\", task_name=\"keyprox\")\n",
    "\n",
    "sentence_with_errors = \"atsth ana atthd pelellkër zrr chetwtso ofa ñetj rñotatey akelllareth\"\n",
    "prediction = checker.correct_string(sentence_with_errors)\n",
    "reference = \"ateth ama atthe pekellkër arr chetatso ora ñeth eñotatey akellkareth\"\n",
    "\n",
    "print(\"{text: <{padding}}: {sentence}\".format(text=\"Oración con errores ortográficos\", sentence=sentence_with_errors, padding=padding))\n",
    "print(\"{text: <{padding}}: {sentence}\".format(text=\"Predicción\", sentence=prediction, padding=padding))\n",
    "print(\"{text: <{padding}}: {sentence}\".format(text=\"Referencia\", sentence=reference, padding=padding))\n"
   ],
   "outputs": [
    {
     "output_type": "stream",
     "name": "stdout",
     "text": [
      "/Users/gerardo/Documents/MaestriaPUCP/Tesis/Código/main/adversarial_misspellings_master/defenses/scRNN/models/ya_keyprox_4999_100_32\n",
      "Oración con errores ortográficos   : atsth ana atthd pelellkër zrr chetwtso ofa ñetj rñotatey akelllareth\n",
      "Predicción                         : ateth ama atthe pekellkër arr chetatso ora ñeth eñotatey akellkareth\n",
      "Referencia                         : ateth ama atthe pekellkër arr chetatso ora ñeth eñotatey akellkareth\n"
     ]
    }
   ],
   "metadata": {}
  },
  {
   "cell_type": "markdown",
   "source": [
    "# Confusión fonema-grafema (base)"
   ],
   "metadata": {}
  },
  {
   "cell_type": "code",
   "execution_count": 5,
   "source": [
    "checker = ScRNNChecker(language=\"ya\", task_name=\"phongrafamb\")\n",
    "\n",
    "sentence_with_errors = \"pecwa apchena'tstarech ñuñets alluthpa pekeyka ñuñets ñet pexhme'ten\"\n",
    "prediction = checker.correct_string(sentence_with_errors)\n",
    "reference = \"pekwa apchena'tstareth ñoñets allothpa pekellka ñoñets ñeth pechme'ten\"\n",
    "\n",
    "print(\"{text: <{padding}}: {sentence}\".format(text=\"Oración con errores ortográficos\", sentence=sentence_with_errors, padding=padding))\n",
    "print(\"{text: <{padding}}: {sentence}\".format(text=\"Predicción\", sentence=prediction, padding=padding))\n",
    "print(\"{text: <{padding}}: {sentence}\".format(text=\"Referencia\", sentence=reference, padding=padding))\n"
   ],
   "outputs": [
    {
     "output_type": "stream",
     "name": "stdout",
     "text": [
      "/Users/gerardo/Documents/MaestriaPUCP/Tesis/Código/main/adversarial_misspellings_master/defenses/scRNN/models/ya_phongrafamb_4999_100_32\n",
      "Oración con errores ortográficos   : pecwa apchena'tstarech ñuñets alluthpa pekeyka ñuñets ñet pexhme'ten\n",
      "Predicción                         : pekwa apchena'tstarech ñoñets allothpa pekellka ñoñets ñeth pechme'ten\n",
      "Referencia                         : pekwa apchena'tstareth ñoñets allothpa pekellka ñoñets ñeth pechme'ten\n"
     ]
    }
   ],
   "metadata": {}
  },
  {
   "cell_type": "markdown",
   "source": [
    "# Similitud de sílaba (base)"
   ],
   "metadata": {}
  },
  {
   "cell_type": "code",
   "execution_count": 6,
   "source": [
    "checker = ScRNNChecker(language=\"ya\", task_name=\"sylsim\")\n",
    "\n",
    "sentence_with_errors = \"ye'chñoten aleth serbeso'tete'th awoth yetema't atheth yesherbeso'reñ paret\"\n",
    "prediction = checker.correct_string(sentence_with_errors)\n",
    "reference = \"ye'mhñoten ateth sherbeso'tete'th awath yeñema't ateth yesherbeso'teñ parets\"\n",
    "\n",
    "print(\"{text: <{padding}}: {sentence}\".format(text=\"Oración con errores ortográficos\", sentence=sentence_with_errors, padding=padding))\n",
    "print(\"{text: <{padding}}: {sentence}\".format(text=\"Predicción\", sentence=prediction, padding=padding))\n",
    "print(\"{text: <{padding}}: {sentence}\".format(text=\"Referencia\", sentence=reference, padding=padding))\n"
   ],
   "outputs": [
    {
     "output_type": "stream",
     "name": "stdout",
     "text": [
      "/Users/gerardo/Documents/MaestriaPUCP/Tesis/Código/main/adversarial_misspellings_master/defenses/scRNN/models/ya_sylsim_4999_100_32\n",
      "Oración con errores ortográficos   : ye'chñoten aleth serbeso'tete'th awoth yetema't atheth yesherbeso'reñ paret\n",
      "Predicción                         : ye'chñoten ateth sherbeso'tete'th awoth yetema't ateth yesherbeso'teñ parets\n",
      "Referencia                         : ye'mhñoten ateth sherbeso'tete'th awath yeñema't ateth yesherbeso'teñ parets\n"
     ]
    }
   ],
   "metadata": {}
  },
  {
   "cell_type": "markdown",
   "source": [
    "# Desnormalización (base)"
   ],
   "metadata": {}
  },
  {
   "cell_type": "code",
   "execution_count": 7,
   "source": [
    "checker = ScRNNChecker(language=\"ya\", task_name=\"unnorm\")\n",
    "\n",
    "sentence_with_errors = \"cellek eche'c̈arr masheñ am̃cha'tareth anets eshcosaseno\"\n",
    "prediction = checker.correct_string(sentence_with_errors)\n",
    "reference = \"kellek eche'xharr masheñ amhcha'tareth anets eshkosaseno\"\n",
    "\n",
    "print(\"{text: <{padding}}: {sentence}\".format(text=\"Oración con errores ortográficos\", sentence=sentence_with_errors, padding=padding))\n",
    "print(\"{text: <{padding}}: {sentence}\".format(text=\"Predicción\", sentence=prediction, padding=padding))\n",
    "print(\"{text: <{padding}}: {sentence}\".format(text=\"Referencia\", sentence=reference, padding=padding))\n"
   ],
   "outputs": [
    {
     "output_type": "stream",
     "name": "stdout",
     "text": [
      "/Users/gerardo/Documents/MaestriaPUCP/Tesis/Código/main/adversarial_misspellings_master/defenses/scRNN/models/ya_unnorm_4999_100_32\n",
      "Oración con errores ortográficos   : cellek eche'c̈arr masheñ am̃cha'tareth anets eshcosaseno\n",
      "Predicción                         : kellek eche'xharr masheñ amhcha'tareth anets eshkosaseno\n",
      "Referencia                         : kellek eche'xharr masheñ amhcha'tareth anets eshkosaseno\n"
     ]
    }
   ],
   "metadata": {}
  },
  {
   "cell_type": "markdown",
   "source": [
    "# Todos (base)"
   ],
   "metadata": {}
  },
  {
   "cell_type": "code",
   "execution_count": 8,
   "source": [
    "checker = ScRNNChecker(language=\"ya\", task_name=\"all\")\n",
    "\n",
    "sentence_with_errors = \"errpunat tupamets pa'tachtat eñay tenutheye ñech ñanum poesa'puñ yexhquat\"\n",
    "prediction = checker.correct_string(sentence_with_errors)\n",
    "reference = \"errponat topamets pa'tatstat eñall tenotheye ñeth ñanom poesa'poñ yexhkat\"\n",
    "\n",
    "print(\"{text: <{padding}}: {sentence}\".format(text=\"Oración con errores ortográficos\", sentence=sentence_with_errors, padding=padding))\n",
    "print(\"{text: <{padding}}: {sentence}\".format(text=\"Predicción\", sentence=prediction, padding=padding))\n",
    "print(\"{text: <{padding}}: {sentence}\".format(text=\"Referencia\", sentence=reference, padding=padding))\n"
   ],
   "outputs": [
    {
     "output_type": "stream",
     "name": "stdout",
     "text": [
      "/Users/gerardo/Documents/MaestriaPUCP/Tesis/Código/main/adversarial_misspellings_master/defenses/scRNN/models/ya_all_4999_100_32\n",
      "Oración con errores ortográficos   : errpunat tupamets pa'tachtat eñay tenutheye ñech ñanum poesa'puñ yexhquat\n",
      "Predicción                         : errponat topamets pa'tatstat eñall tenutheye ñeth ñanom poesa'puñ yexhquat\n",
      "Referencia                         : errponat topamets pa'tatstat eñall tenotheye ñeth ñanom poesa'poñ yexhkat\n"
     ]
    }
   ],
   "metadata": {}
  },
  {
   "cell_type": "markdown",
   "source": [
    "# Error aleatorio + General → General"
   ],
   "metadata": {}
  },
  {
   "cell_type": "code",
   "execution_count": 9,
   "source": [
    "checker = ScRNNChecker(language=\"ya\", task_name=\"random_teacher_general\")\n",
    "\n",
    "sentence_with_errors = \"shomte enall mór posetmo ñenth shechatsotene yorrar arr yonyo\"\n",
    "prediction = checker.correct_string(sentence_with_errors)\n",
    "reference = \"shonte eñall mór pasetmo ñeñth chechatsetene yerrar arr yenyo\"\n",
    "\n",
    "print(\"{text: <{padding}}: {sentence}\".format(text=\"Oración con errores ortográficos\", sentence=sentence_with_errors, padding=padding))\n",
    "print(\"{text: <{padding}}: {sentence}\".format(text=\"Predicción\", sentence=prediction, padding=padding))\n",
    "print(\"{text: <{padding}}: {sentence}\".format(text=\"Referencia\", sentence=reference, padding=padding))\n"
   ],
   "outputs": [
    {
     "output_type": "stream",
     "name": "stdout",
     "text": [
      "/Users/gerardo/Documents/MaestriaPUCP/Tesis/Código/main/adversarial_misspellings_master/defenses/scRNN/models/ya_random_teacher_general_4999_100_32\n",
      "Oración con errores ortográficos   : shomte enall mór posetmo ñenth shechatsotene yorrar arr yonyo\n",
      "Predicción                         : eso'marthe eñall mór posetmo ñeñth shechatsotene yorrar arr yenyo\n",
      "Referencia                         : shonte eñall mór pasetmo ñeñth chechatsetene yerrar arr yenyo\n"
     ]
    }
   ],
   "metadata": {}
  },
  {
   "cell_type": "markdown",
   "source": [
    "# Proximidad de teclado + General → General"
   ],
   "metadata": {}
  },
  {
   "cell_type": "code",
   "execution_count": 10,
   "source": [
    "checker = ScRNNChecker(language=\"ya\", task_name=\"keyprox_teacher_general\")\n",
    "\n",
    "sentence_with_errors = \"shomte enall mór posetmo ñenth shechatsotene yorrar arr yonyo\"\n",
    "prediction = checker.correct_string(sentence_with_errors)\n",
    "reference = \"shonte eñall mór pasetmo ñeñth chechatsetene yerrar arr yenyo\"\n",
    "\n",
    "print(\"{text: <{padding}}: {sentence}\".format(text=\"Oración con errores ortográficos\", sentence=sentence_with_errors, padding=padding))\n",
    "print(\"{text: <{padding}}: {sentence}\".format(text=\"Predicción\", sentence=prediction, padding=padding))\n",
    "print(\"{text: <{padding}}: {sentence}\".format(text=\"Referencia\", sentence=reference, padding=padding))\n"
   ],
   "outputs": [
    {
     "output_type": "stream",
     "name": "stdout",
     "text": [
      "/Users/gerardo/Documents/MaestriaPUCP/Tesis/Código/main/adversarial_misspellings_master/defenses/scRNN/models/ya_keyprox_teacher_general_4999_100_32\n",
      "Oración con errores ortográficos   : shomte enall mór posetmo ñenth shechatsotene yorrar arr yonyo\n",
      "Predicción                         : shonte eñall mór posetmo ñeñth shechatsotene yorrar arr yenyo\n",
      "Referencia                         : shonte eñall mór pasetmo ñeñth chechatsetene yerrar arr yenyo\n"
     ]
    }
   ],
   "metadata": {}
  },
  {
   "cell_type": "markdown",
   "source": [
    "# Confusión fonema-grafema + General → General"
   ],
   "metadata": {}
  },
  {
   "cell_type": "code",
   "execution_count": 11,
   "source": [
    "checker = ScRNNChecker(language=\"ya\", task_name=\"phongrafamb_teacher_general\")\n",
    "\n",
    "sentence_with_errors = \"shomte enall mór posetmo ñenth shechatsotene yorrar arr yonyo\"\n",
    "prediction = checker.correct_string(sentence_with_errors)\n",
    "reference = \"shonte eñall mór pasetmo ñeñth chechatsetene yerrar arr yenyo\"\n",
    "\n",
    "print(\"{text: <{padding}}: {sentence}\".format(text=\"Oración con errores ortográficos\", sentence=sentence_with_errors, padding=padding))\n",
    "print(\"{text: <{padding}}: {sentence}\".format(text=\"Predicción\", sentence=prediction, padding=padding))\n",
    "print(\"{text: <{padding}}: {sentence}\".format(text=\"Referencia\", sentence=reference, padding=padding))\n"
   ],
   "outputs": [
    {
     "output_type": "stream",
     "name": "stdout",
     "text": [
      "/Users/gerardo/Documents/MaestriaPUCP/Tesis/Código/main/adversarial_misspellings_master/defenses/scRNN/models/ya_phongrafamb_teacher_general_4999_100_32\n",
      "Oración con errores ortográficos   : shomte enall mór posetmo ñenth shechatsotene yorrar arr yonyo\n",
      "Predicción                         : shonte eñall mór posetmo ñeñth shechatsotene yorrar arr yenyo\n",
      "Referencia                         : shonte eñall mór pasetmo ñeñth chechatsetene yerrar arr yenyo\n"
     ]
    }
   ],
   "metadata": {}
  },
  {
   "cell_type": "markdown",
   "source": [
    "# Similitud de sílaba + General → General"
   ],
   "metadata": {}
  },
  {
   "cell_type": "code",
   "execution_count": 12,
   "source": [
    "checker = ScRNNChecker(language=\"ya\", task_name=\"sylsim_teacher_general\")\n",
    "\n",
    "sentence_with_errors = \"shomte enall mór posetmo ñenth shechatsotene yorrar arr yonyo\"\n",
    "prediction = checker.correct_string(sentence_with_errors)\n",
    "reference = \"shonte eñall mór pasetmo ñeñth chechatsetene yerrar arr yenyo\"\n",
    "\n",
    "print(\"{text: <{padding}}: {sentence}\".format(text=\"Oración con errores ortográficos\", sentence=sentence_with_errors, padding=padding))\n",
    "print(\"{text: <{padding}}: {sentence}\".format(text=\"Predicción\", sentence=prediction, padding=padding))\n",
    "print(\"{text: <{padding}}: {sentence}\".format(text=\"Referencia\", sentence=reference, padding=padding))\n"
   ],
   "outputs": [
    {
     "output_type": "stream",
     "name": "stdout",
     "text": [
      "/Users/gerardo/Documents/MaestriaPUCP/Tesis/Código/main/adversarial_misspellings_master/defenses/scRNN/models/ya_sylsim_teacher_general_4999_100_32\n",
      "Oración con errores ortográficos   : shomte enall mór posetmo ñenth shechatsotene yorrar arr yonyo\n",
      "Predicción                         : shomte eñall mór posetmo ñeñth shechatsotene yorrar arr yenyo\n",
      "Referencia                         : shonte eñall mór pasetmo ñeñth chechatsetene yerrar arr yenyo\n"
     ]
    }
   ],
   "metadata": {}
  },
  {
   "cell_type": "markdown",
   "source": [
    "# Desnormalización + General → General"
   ],
   "metadata": {}
  },
  {
   "cell_type": "code",
   "execution_count": 13,
   "source": [
    "checker = ScRNNChecker(language=\"ya\", task_name=\"unnorm_teacher_general\")\n",
    "\n",
    "sentence_with_errors = \"shomte enall mór posetmo ñenth shechatsotene yorrar arr yonyo\"\n",
    "prediction = checker.correct_string(sentence_with_errors)\n",
    "reference = \"shonte eñall mór pasetmo ñeñth chechatsetene yerrar arr yenyo\"\n",
    "\n",
    "print(\"{text: <{padding}}: {sentence}\".format(text=\"Oración con errores ortográficos\", sentence=sentence_with_errors, padding=padding))\n",
    "print(\"{text: <{padding}}: {sentence}\".format(text=\"Predicción\", sentence=prediction, padding=padding))\n",
    "print(\"{text: <{padding}}: {sentence}\".format(text=\"Referencia\", sentence=reference, padding=padding))\n"
   ],
   "outputs": [
    {
     "output_type": "stream",
     "name": "stdout",
     "text": [
      "/Users/gerardo/Documents/MaestriaPUCP/Tesis/Código/main/adversarial_misspellings_master/defenses/scRNN/models/ya_unnorm_teacher_general_4999_100_32\n",
      "Oración con errores ortográficos   : shomte enall mór posetmo ñenth shechatsotene yorrar arr yonyo\n",
      "Predicción                         : shonte eñall mór poetso ñeñth shechatsotene yorrar arr yenyo\n",
      "Referencia                         : shonte eñall mór pasetmo ñeñth chechatsetene yerrar arr yenyo\n"
     ]
    }
   ],
   "metadata": {}
  },
  {
   "cell_type": "markdown",
   "source": [
    "# Todos + General → General"
   ],
   "metadata": {}
  },
  {
   "cell_type": "code",
   "execution_count": 14,
   "source": [
    "checker = ScRNNChecker(language=\"ya\", task_name=\"all_teacher_general\")\n",
    "\n",
    "sentence_with_errors = \"shomte enall mór posetmo ñenth shechatsotene yorrar arr yonyo\"\n",
    "prediction = checker.correct_string(sentence_with_errors)\n",
    "reference = \"shonte eñall mór pasetmo ñeñth chechatsetene yerrar arr yenyo\"\n",
    "\n",
    "print(\"{text: <{padding}}: {sentence}\".format(text=\"Oración con errores ortográficos\", sentence=sentence_with_errors, padding=padding))\n",
    "print(\"{text: <{padding}}: {sentence}\".format(text=\"Predicción\", sentence=prediction, padding=padding))\n",
    "print(\"{text: <{padding}}: {sentence}\".format(text=\"Referencia\", sentence=reference, padding=padding))\n"
   ],
   "outputs": [
    {
     "output_type": "stream",
     "name": "stdout",
     "text": [
      "/Users/gerardo/Documents/MaestriaPUCP/Tesis/Código/main/adversarial_misspellings_master/defenses/scRNN/models/ya_all_teacher_general_4999_100_32\n",
      "Oración con errores ortográficos   : shomte enall mór posetmo ñenth shechatsotene yorrar arr yonyo\n",
      "Predicción                         : shonte' eñall mór posetmo ñeñth shechatsotene yorrar arr yenyo\n",
      "Referencia                         : shonte eñall mór pasetmo ñeñth chechatsetene yerrar arr yenyo\n"
     ]
    }
   ],
   "metadata": {}
  },
  {
   "cell_type": "markdown",
   "source": [
    "# Error aleatorio + General → Normalización"
   ],
   "metadata": {}
  },
  {
   "cell_type": "code",
   "execution_count": 15,
   "source": [
    "checker = ScRNNChecker(language=\"ya\", task_name=\"random_teacher_general\")\n",
    "\n",
    "sentence_with_errors = \"c̈hoch yéche'chamet att̃och ye'noñtena\"\n",
    "prediction = checker.correct_string(sentence_with_errors)\n",
    "reference = \"xhoch yéche'chamet atthoch ye'noñtena\"\n",
    "\n",
    "print(\"{text: <{padding}}: {sentence}\".format(text=\"Oración con errores ortográficos\", sentence=sentence_with_errors, padding=padding))\n",
    "print(\"{text: <{padding}}: {sentence}\".format(text=\"Predicción\", sentence=prediction, padding=padding))\n",
    "print(\"{text: <{padding}}: {sentence}\".format(text=\"Referencia\", sentence=reference, padding=padding))\n"
   ],
   "outputs": [
    {
     "output_type": "stream",
     "name": "stdout",
     "text": [
      "/Users/gerardo/Documents/MaestriaPUCP/Tesis/Código/main/adversarial_misspellings_master/defenses/scRNN/models/ya_random_teacher_general_4999_100_32\n",
      "Oración con errores ortográficos   : c̈hoch yéche'chamet att̃och ye'noñtena\n",
      "Predicción                         : xhoch yéche'chamet atthoch ye'noñtena\n",
      "Referencia                         : xhoch yéche'chamet atthoch ye'noñtena\n"
     ]
    }
   ],
   "metadata": {}
  },
  {
   "cell_type": "markdown",
   "source": [
    "# Proximidad de teclado + General → Normalización"
   ],
   "metadata": {}
  },
  {
   "cell_type": "code",
   "execution_count": 16,
   "source": [
    "checker = ScRNNChecker(language=\"ya\", task_name=\"keyprox_teacher_general\")\n",
    "\n",
    "sentence_with_errors = \"c̈hoch yéche'chamet att̃och ye'noñtena\"\n",
    "prediction = checker.correct_string(sentence_with_errors)\n",
    "reference = \"xhoch yéche'chamet atthoch ye'noñtena\"\n",
    "\n",
    "print(\"{text: <{padding}}: {sentence}\".format(text=\"Oración con errores ortográficos\", sentence=sentence_with_errors, padding=padding))\n",
    "print(\"{text: <{padding}}: {sentence}\".format(text=\"Predicción\", sentence=prediction, padding=padding))\n",
    "print(\"{text: <{padding}}: {sentence}\".format(text=\"Referencia\", sentence=reference, padding=padding))\n"
   ],
   "outputs": [
    {
     "output_type": "stream",
     "name": "stdout",
     "text": [
      "/Users/gerardo/Documents/MaestriaPUCP/Tesis/Código/main/adversarial_misspellings_master/defenses/scRNN/models/ya_keyprox_teacher_general_4999_100_32\n",
      "Oración con errores ortográficos   : c̈hoch yéche'chamet att̃och ye'noñtena\n",
      "Predicción                         : xhoch yéche'chamet atthoch ye'noñtena\n",
      "Referencia                         : xhoch yéche'chamet atthoch ye'noñtena\n"
     ]
    }
   ],
   "metadata": {}
  },
  {
   "cell_type": "markdown",
   "source": [
    "# Confusión fonema-grafema + General → Normalización"
   ],
   "metadata": {}
  },
  {
   "cell_type": "code",
   "execution_count": 17,
   "source": [
    "checker = ScRNNChecker(language=\"ya\", task_name=\"phongrafamb_teacher_general\")\n",
    "\n",
    "sentence_with_errors = \"c̈hoch yéche'chamet att̃och ye'noñtena\"\n",
    "prediction = checker.correct_string(sentence_with_errors)\n",
    "reference = \"xhoch yéche'chamet atthoch ye'noñtena\"\n",
    "\n",
    "print(\"{text: <{padding}}: {sentence}\".format(text=\"Oración con errores ortográficos\", sentence=sentence_with_errors, padding=padding))\n",
    "print(\"{text: <{padding}}: {sentence}\".format(text=\"Predicción\", sentence=prediction, padding=padding))\n",
    "print(\"{text: <{padding}}: {sentence}\".format(text=\"Referencia\", sentence=reference, padding=padding))\n"
   ],
   "outputs": [
    {
     "output_type": "stream",
     "name": "stdout",
     "text": [
      "/Users/gerardo/Documents/MaestriaPUCP/Tesis/Código/main/adversarial_misspellings_master/defenses/scRNN/models/ya_phongrafamb_teacher_general_4999_100_32\n",
      "Oración con errores ortográficos   : c̈hoch yéche'chamet att̃och ye'noñtena\n",
      "Predicción                         : xhoch yéche'chamet atthoch ye'noñtena\n",
      "Referencia                         : xhoch yéche'chamet atthoch ye'noñtena\n"
     ]
    }
   ],
   "metadata": {}
  },
  {
   "cell_type": "markdown",
   "source": [
    "# Similitud de sílaba + General → Normalización"
   ],
   "metadata": {}
  },
  {
   "cell_type": "code",
   "execution_count": 18,
   "source": [
    "checker = ScRNNChecker(language=\"ya\", task_name=\"sylsim_teacher_general\")\n",
    "\n",
    "sentence_with_errors = \"c̈hoch yéche'chamet att̃och ye'noñtena\"\n",
    "prediction = checker.correct_string(sentence_with_errors)\n",
    "reference = \"xhoch yéche'chamet atthoch ye'noñtena\"\n",
    "\n",
    "print(\"{text: <{padding}}: {sentence}\".format(text=\"Oración con errores ortográficos\", sentence=sentence_with_errors, padding=padding))\n",
    "print(\"{text: <{padding}}: {sentence}\".format(text=\"Predicción\", sentence=prediction, padding=padding))\n",
    "print(\"{text: <{padding}}: {sentence}\".format(text=\"Referencia\", sentence=reference, padding=padding))\n"
   ],
   "outputs": [
    {
     "output_type": "stream",
     "name": "stdout",
     "text": [
      "/Users/gerardo/Documents/MaestriaPUCP/Tesis/Código/main/adversarial_misspellings_master/defenses/scRNN/models/ya_sylsim_teacher_general_4999_100_32\n",
      "Oración con errores ortográficos   : c̈hoch yéche'chamet att̃och ye'noñtena\n",
      "Predicción                         : xhoch yéche'chamet ateth ye'noñtena\n",
      "Referencia                         : xhoch yéche'chamet atthoch ye'noñtena\n"
     ]
    }
   ],
   "metadata": {}
  },
  {
   "cell_type": "markdown",
   "source": [
    "# Desnormalización + General → Normalización"
   ],
   "metadata": {}
  },
  {
   "cell_type": "code",
   "execution_count": 19,
   "source": [
    "checker = ScRNNChecker(language=\"ya\", task_name=\"unnorm_teacher_general\")\n",
    "\n",
    "sentence_with_errors = \"c̈hoch yéche'chamet att̃och ye'noñtena\"\n",
    "prediction = checker.correct_string(sentence_with_errors)\n",
    "reference = \"xhoch yéche'chamet atthoch ye'noñtena\"\n",
    "\n",
    "print(\"{text: <{padding}}: {sentence}\".format(text=\"Oración con errores ortográficos\", sentence=sentence_with_errors, padding=padding))\n",
    "print(\"{text: <{padding}}: {sentence}\".format(text=\"Predicción\", sentence=prediction, padding=padding))\n",
    "print(\"{text: <{padding}}: {sentence}\".format(text=\"Referencia\", sentence=reference, padding=padding))\n"
   ],
   "outputs": [
    {
     "output_type": "stream",
     "name": "stdout",
     "text": [
      "/Users/gerardo/Documents/MaestriaPUCP/Tesis/Código/main/adversarial_misspellings_master/defenses/scRNN/models/ya_unnorm_teacher_general_4999_100_32\n",
      "Oración con errores ortográficos   : c̈hoch yéche'chamet att̃och ye'noñtena\n",
      "Predicción                         : xhoch yéche'chamet atthoch ye'noñtena\n",
      "Referencia                         : xhoch yéche'chamet atthoch ye'noñtena\n"
     ]
    }
   ],
   "metadata": {}
  },
  {
   "cell_type": "markdown",
   "source": [
    "# Todos + General → Normalización"
   ],
   "metadata": {}
  },
  {
   "cell_type": "code",
   "execution_count": 20,
   "source": [
    "checker = ScRNNChecker(language=\"ya\", task_name=\"all_teacher_general\")\n",
    "\n",
    "sentence_with_errors = \"c̈hoch yéche'chamet att̃och ye'noñtena\"\n",
    "prediction = checker.correct_string(sentence_with_errors)\n",
    "reference = \"xhoch yéche'chamet atthoch ye'noñtena\"\n",
    "\n",
    "print(\"{text: <{padding}}: {sentence}\".format(text=\"Oración con errores ortográficos\", sentence=sentence_with_errors, padding=padding))\n",
    "print(\"{text: <{padding}}: {sentence}\".format(text=\"Predicción\", sentence=prediction, padding=padding))\n",
    "print(\"{text: <{padding}}: {sentence}\".format(text=\"Referencia\", sentence=reference, padding=padding))\n"
   ],
   "outputs": [
    {
     "output_type": "stream",
     "name": "stdout",
     "text": [
      "/Users/gerardo/Documents/MaestriaPUCP/Tesis/Código/main/adversarial_misspellings_master/defenses/scRNN/models/ya_all_teacher_general_4999_100_32\n",
      "Oración con errores ortográficos   : c̈hoch yéche'chamet att̃och ye'noñtena\n",
      "Predicción                         : xhoch yéche'chamet atthoch ye'noñtena\n",
      "Referencia                         : xhoch yéche'chamet atthoch ye'noñtena\n"
     ]
    }
   ],
   "metadata": {}
  }
 ],
 "metadata": {
  "orig_nbformat": 4,
  "language_info": {
   "name": "python",
   "version": "3.9.5",
   "mimetype": "text/x-python",
   "codemirror_mode": {
    "name": "ipython",
    "version": 3
   },
   "pygments_lexer": "ipython3",
   "nbconvert_exporter": "python",
   "file_extension": ".py"
  },
  "kernelspec": {
   "name": "python3",
   "display_name": "Python 3.9.5 64-bit"
  },
  "interpreter": {
   "hash": "397704579725e15f5c7cb49fe5f0341eb7531c82d19f2c29d197e8b64ab5776b"
  }
 },
 "nbformat": 4,
 "nbformat_minor": 2
}