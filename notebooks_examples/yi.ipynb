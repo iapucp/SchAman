{
 "cells": [
  {
   "cell_type": "code",
   "execution_count": 1,
   "source": [
    "import sys\n",
    "\n",
    "sys.path.append(\"..\")\n",
    "\n",
    "from corrector import ScRNNChecker"
   ],
   "outputs": [],
   "metadata": {}
  },
  {
   "cell_type": "code",
   "execution_count": 2,
   "source": [
    "padding = 35"
   ],
   "outputs": [],
   "metadata": {}
  },
  {
   "cell_type": "markdown",
   "source": [
    "# Error aleatorio (base)"
   ],
   "metadata": {}
  },
  {
   "cell_type": "code",
   "execution_count": 3,
   "source": [
    "checker = ScRNNChecker(language=\"yi\", task_name=\"random\")\n",
    "\n",
    "sentence_with_errors = \"xadi puganru yalguchi pixkoxpa kamrujetaru ga wa pkanru yauglutanru gipixvokjeta pkamruhtinri\"\n",
    "prediction = checker.correct_string(sentence_with_errors)\n",
    "reference = \"xani pujganru yagluchi pixkoxa kamrujetanru ga wa pkanru yaglutanru gipixpokjeta pkamrutinri\"\n",
    "\n",
    "print(\"{text: <{padding}}: {sentence}\".format(text=\"Oración con errores ortográficos\", sentence=sentence_with_errors, padding=padding))\n",
    "print(\"{text: <{padding}}: {sentence}\".format(text=\"Predicción\", sentence=prediction, padding=padding))\n",
    "print(\"{text: <{padding}}: {sentence}\".format(text=\"Referencia\", sentence=reference, padding=padding))\n"
   ],
   "outputs": [
    {
     "output_type": "stream",
     "name": "stdout",
     "text": [
      "/Users/gerardo/Documents/MaestriaPUCP/Tesis/Código/main/adversarial_misspellings_master/defenses/scRNN/models/yi_random_2999_100_32\n",
      "Oración con errores ortográficos   : xadi puganru yalguchi pixkoxpa kamrujetaru ga wa pkanru yauglutanru gipixvokjeta pkamruhtinri\n",
      "Predicción                         : xani pujganru yagluchi pixkoxa kamrujetaru ga wa pkamru yaglutanru gipixvokjeta pkamruhtinri\n",
      "Referencia                         : xani pujganru yagluchi pixkoxa kamrujetanru ga wa pkanru yaglutanru gipixpokjeta pkamrutinri\n"
     ]
    }
   ],
   "metadata": {}
  },
  {
   "cell_type": "markdown",
   "source": [
    "# Proximidad de teclado (base)"
   ],
   "metadata": {}
  },
  {
   "cell_type": "code",
   "execution_count": 4,
   "source": [
    "checker = ScRNNChecker(language=\"yi\", task_name=\"keyprox\")\n",
    "\n",
    "sentence_with_errors = \"letanru yagouchi pugkaklwtanru gi rsuka cninretwu bipirana\"\n",
    "prediction = checker.correct_string(sentence_with_errors)\n",
    "reference = \"petanru yagluchi pugkakletanru gi rauka chinretwu gipirana\"\n",
    "\n",
    "print(\"{text: <{padding}}: {sentence}\".format(text=\"Oración con errores ortográficos\", sentence=sentence_with_errors, padding=padding))\n",
    "print(\"{text: <{padding}}: {sentence}\".format(text=\"Predicción\", sentence=prediction, padding=padding))\n",
    "print(\"{text: <{padding}}: {sentence}\".format(text=\"Referencia\", sentence=reference, padding=padding))\n"
   ],
   "outputs": [
    {
     "output_type": "stream",
     "name": "stdout",
     "text": [
      "/Users/gerardo/Documents/MaestriaPUCP/Tesis/Código/main/adversarial_misspellings_master/defenses/scRNN/models/yi_keyprox_2999_100_32\n",
      "Oración con errores ortográficos   : letanru yagouchi pugkaklwtanru gi rsuka cninretwu bipirana\n",
      "Predicción                         : petanru yagluchi pugkakletanru gi raluka chinretwu gipirana\n",
      "Referencia                         : petanru yagluchi pugkakletanru gi rauka chinretwu gipirana\n"
     ]
    }
   ],
   "metadata": {}
  },
  {
   "cell_type": "markdown",
   "source": [
    "# Similitud de sílaba (base)"
   ],
   "metadata": {}
  },
  {
   "cell_type": "code",
   "execution_count": 5,
   "source": [
    "checker = ScRNNChecker(language=\"yi\", task_name=\"sylsim\")\n",
    "\n",
    "sentence_with_errors = \"wmala wugenene rkupxakjetlona lmakna tutmakina gi pagone mamernuywatna rumtaklewgognenatna\"\n",
    "prediction = checker.correct_string(sentence_with_errors)\n",
    "reference = \"wala twugenene rupxakjetlona makna tutakina gi pagogne mamernuwatna rutaklewgognenatna\"\n",
    "\n",
    "print(\"{text: <{padding}}: {sentence}\".format(text=\"Oración con errores ortográficos\", sentence=sentence_with_errors, padding=padding))\n",
    "print(\"{text: <{padding}}: {sentence}\".format(text=\"Predicción\", sentence=prediction, padding=padding))\n",
    "print(\"{text: <{padding}}: {sentence}\".format(text=\"Referencia\", sentence=reference, padding=padding))\n"
   ],
   "outputs": [
    {
     "output_type": "stream",
     "name": "stdout",
     "text": [
      "/Users/gerardo/Documents/MaestriaPUCP/Tesis/Código/main/adversarial_misspellings_master/defenses/scRNN/models/yi_sylsim_2999_100_32\n",
      "Oración con errores ortográficos   : wmala wugenene rkupxakjetlona lmakna tutmakina gi pagone mamernuywatna rumtaklewgognenatna\n",
      "Predicción                         : wala wugenene rkupxakjetlona makna tutmakina gi pagogne mamernuywatna rumtaklewgognenatna\n",
      "Referencia                         : wala twugenene rupxakjetlona makna tutakina gi pagogne mamernuwatna rutaklewgognenatna\n"
     ]
    }
   ],
   "metadata": {}
  },
  {
   "cell_type": "markdown",
   "source": [
    "# Desnormalización (base)"
   ],
   "metadata": {}
  },
  {
   "cell_type": "code",
   "execution_count": 6,
   "source": [
    "checker = ScRNNChecker(language=\"yi\", task_name=\"unnorm\")\n",
    "\n",
    "sentence_with_errors = \"txani pujhanru yaglutši pitxkoxa kamruxetanru ga wa pkanru yahlutanru gipitxpokjeta pkamrutinri\"\n",
    "prediction = checker.correct_string(sentence_with_errors)\n",
    "reference = \"xani pujganru yagluchi pixkoxa kamrujetanru ga wa pkanru yaglutanru gipixpokjeta pkamrutinri\"\n",
    "\n",
    "print(\"{text: <{padding}}: {sentence}\".format(text=\"Oración con errores ortográficos\", sentence=sentence_with_errors, padding=padding))\n",
    "print(\"{text: <{padding}}: {sentence}\".format(text=\"Predicción\", sentence=prediction, padding=padding))\n",
    "print(\"{text: <{padding}}: {sentence}\".format(text=\"Referencia\", sentence=reference, padding=padding))\n"
   ],
   "outputs": [
    {
     "output_type": "stream",
     "name": "stdout",
     "text": [
      "/Users/gerardo/Documents/MaestriaPUCP/Tesis/Código/main/adversarial_misspellings_master/defenses/scRNN/models/yi_unnorm_2999_100_32\n",
      "Oración con errores ortográficos   : txani pujhanru yaglutši pitxkoxa kamruxetanru ga wa pkanru yahlutanru gipitxpokjeta pkamrutinri\n",
      "Predicción                         : xani pujhanru yagluchi pixkoxa kamrujetanru ga wa pkanru yaglutanru gipitxpokjeta pkamrutinri\n",
      "Referencia                         : xani pujganru yagluchi pixkoxa kamrujetanru ga wa pkanru yaglutanru gipixpokjeta pkamrutinri\n"
     ]
    }
   ],
   "metadata": {}
  },
  {
   "cell_type": "markdown",
   "source": [
    "# Todos (base)"
   ],
   "metadata": {}
  },
  {
   "cell_type": "code",
   "execution_count": 7,
   "source": [
    "checker = ScRNNChecker(language=\"yi\", task_name=\"all\")\n",
    "\n",
    "sentence_with_errors = \"sutxo gimtugatšro kotxa gi himkata xirgaleta hirixanu tumkata himtukletlu kakwalupa rujpahanuna\"\n",
    "prediction = checker.correct_string(sentence_with_errors)\n",
    "reference = \"suxo gimtugachro koxa gi gimkata jirgaleta girixanu tumkata gimtukletlu kakwalupa rujpaganuna\"\n",
    "\n",
    "print(\"{text: <{padding}}: {sentence}\".format(text=\"Oración con errores ortográficos\", sentence=sentence_with_errors, padding=padding))\n",
    "print(\"{text: <{padding}}: {sentence}\".format(text=\"Predicción\", sentence=prediction, padding=padding))\n",
    "print(\"{text: <{padding}}: {sentence}\".format(text=\"Referencia\", sentence=reference, padding=padding))\n"
   ],
   "outputs": [
    {
     "output_type": "stream",
     "name": "stdout",
     "text": [
      "/Users/gerardo/Documents/MaestriaPUCP/Tesis/Código/main/adversarial_misspellings_master/defenses/scRNN/models/yi_all_2999_100_32\n",
      "Oración con errores ortográficos   : sutxo gimtugatšro kotxa gi himkata xirgaleta hirixanu tumkata himtukletlu kakwalupa rujpahanuna\n",
      "Predicción                         : suxo gimtugachro koxa gi gimkata xirgaleta girixanu tumkata himtukletlu kakwalupa rujpahanuna\n",
      "Referencia                         : suxo gimtugachro koxa gi gimkata jirgaleta girixanu tumkata gimtukletlu kakwalupa rujpaganuna\n"
     ]
    }
   ],
   "metadata": {}
  },
  {
   "cell_type": "markdown",
   "source": [
    "# Error aleatorio + General → General"
   ],
   "metadata": {}
  },
  {
   "cell_type": "code",
   "execution_count": 8,
   "source": [
    "checker = ScRNNChecker(language=\"yi\", task_name=\"random_teacher_general\")\n",
    "\n",
    "sentence_with_errors = \"\"\n",
    "prediction = checker.correct_string(sentence_with_errors)\n",
    "reference = \"\"\n",
    "\n",
    "print(\"{text: <{padding}}: {sentence}\".format(text=\"Oración con errores ortográficos\", sentence=sentence_with_errors, padding=padding))\n",
    "print(\"{text: <{padding}}: {sentence}\".format(text=\"Predicción\", sentence=prediction, padding=padding))\n",
    "print(\"{text: <{padding}}: {sentence}\".format(text=\"Referencia\", sentence=reference, padding=padding))\n"
   ],
   "outputs": [
    {
     "output_type": "stream",
     "name": "stdout",
     "text": [
      "/Users/gerardo/Documents/MaestriaPUCP/Tesis/Código/main/adversarial_misspellings_master/defenses/scRNN/models/yi_random_teacher_general_2999_100_32\n"
     ]
    },
    {
     "output_type": "error",
     "ename": "FileNotFoundError",
     "evalue": "[Errno 2] No such file or directory: '/Users/gerardo/Documents/MaestriaPUCP/Tesis/Código/main/adversarial_misspellings_master/defenses/scRNN/vocab/yi_random_teacher_general_w2i_2999.p'",
     "traceback": [
      "\u001b[0;31m---------------------------------------------------------------------------\u001b[0m",
      "\u001b[0;31mFileNotFoundError\u001b[0m                         Traceback (most recent call last)",
      "\u001b[0;32m<ipython-input-8-707a12417e73>\u001b[0m in \u001b[0;36m<module>\u001b[0;34m\u001b[0m\n\u001b[0;32m----> 1\u001b[0;31m \u001b[0mchecker\u001b[0m \u001b[0;34m=\u001b[0m \u001b[0mScRNNChecker\u001b[0m\u001b[0;34m(\u001b[0m\u001b[0mlanguage\u001b[0m\u001b[0;34m=\u001b[0m\u001b[0;34m\"yi\"\u001b[0m\u001b[0;34m,\u001b[0m \u001b[0mtask_name\u001b[0m\u001b[0;34m=\u001b[0m\u001b[0;34m\"random_teacher_general\"\u001b[0m\u001b[0;34m)\u001b[0m\u001b[0;34m\u001b[0m\u001b[0;34m\u001b[0m\u001b[0m\n\u001b[0m\u001b[1;32m      2\u001b[0m \u001b[0;34m\u001b[0m\u001b[0m\n\u001b[1;32m      3\u001b[0m \u001b[0msentence_with_errors\u001b[0m \u001b[0;34m=\u001b[0m \u001b[0;34m\"\"\u001b[0m\u001b[0;34m\u001b[0m\u001b[0;34m\u001b[0m\u001b[0m\n\u001b[1;32m      4\u001b[0m \u001b[0mprediction\u001b[0m \u001b[0;34m=\u001b[0m \u001b[0mchecker\u001b[0m\u001b[0;34m.\u001b[0m\u001b[0mcorrect_string\u001b[0m\u001b[0;34m(\u001b[0m\u001b[0msentence_with_errors\u001b[0m\u001b[0;34m)\u001b[0m\u001b[0;34m\u001b[0m\u001b[0;34m\u001b[0m\u001b[0m\n\u001b[1;32m      5\u001b[0m \u001b[0mreference\u001b[0m \u001b[0;34m=\u001b[0m \u001b[0;34m\"\"\u001b[0m\u001b[0;34m\u001b[0m\u001b[0;34m\u001b[0m\u001b[0m\n",
      "\u001b[0;32m~/Documents/MaestriaPUCP/Tesis/Código/main/adversarial_misspellings_master/defenses/scRNN/notebooks_examples/../corrector.py\u001b[0m in \u001b[0;36m__init__\u001b[0;34m(self, language, task_name)\u001b[0m\n\u001b[1;32m     34\u001b[0m \u001b[0;34m\u001b[0m\u001b[0m\n\u001b[1;32m     35\u001b[0m         \u001b[0mset_word_limit\u001b[0m\u001b[0;34m(\u001b[0m\u001b[0mint\u001b[0m\u001b[0;34m(\u001b[0m\u001b[0mvocab_size\u001b[0m\u001b[0;34m)\u001b[0m\u001b[0;34m,\u001b[0m \u001b[0mlanguage\u001b[0m\u001b[0;34m,\u001b[0m \u001b[0mtask_name\u001b[0m\u001b[0;34m)\u001b[0m\u001b[0;34m\u001b[0m\u001b[0;34m\u001b[0m\u001b[0m\n\u001b[0;32m---> 36\u001b[0;31m         \u001b[0mload_vocab_dicts\u001b[0m\u001b[0;34m(\u001b[0m\u001b[0mw2i_PATH\u001b[0m\u001b[0;34m,\u001b[0m \u001b[0mi2w_PATH\u001b[0m\u001b[0;34m,\u001b[0m \u001b[0mCHAR_VOCAB_PATH\u001b[0m\u001b[0;34m)\u001b[0m\u001b[0;34m\u001b[0m\u001b[0;34m\u001b[0m\u001b[0m\n\u001b[0m\u001b[1;32m     37\u001b[0m \u001b[0;34m\u001b[0m\u001b[0m\n\u001b[1;32m     38\u001b[0m         \u001b[0mself\u001b[0m\u001b[0;34m.\u001b[0m\u001b[0mmodel\u001b[0m \u001b[0;34m=\u001b[0m \u001b[0mtorch\u001b[0m\u001b[0;34m.\u001b[0m\u001b[0mload\u001b[0m\u001b[0;34m(\u001b[0m\u001b[0mMODEL_PATH\u001b[0m\u001b[0;34m,\u001b[0m \u001b[0mmap_location\u001b[0m\u001b[0;34m=\u001b[0m\u001b[0;34m\"cpu\"\u001b[0m\u001b[0;34m)\u001b[0m\u001b[0;34m\u001b[0m\u001b[0;34m\u001b[0m\u001b[0m\n",
      "\u001b[0;32m~/Documents/MaestriaPUCP/Tesis/Código/main/adversarial_misspellings_master/defenses/scRNN/notebooks_examples/../utils.py\u001b[0m in \u001b[0;36mload_vocab_dicts\u001b[0;34m(wi_path, iw_path, cv_path)\u001b[0m\n\u001b[1;32m     70\u001b[0m \u001b[0;34m\u001b[0m\u001b[0m\n\u001b[1;32m     71\u001b[0m \u001b[0;32mdef\u001b[0m \u001b[0mload_vocab_dicts\u001b[0m\u001b[0;34m(\u001b[0m\u001b[0mwi_path\u001b[0m\u001b[0;34m,\u001b[0m \u001b[0miw_path\u001b[0m\u001b[0;34m,\u001b[0m \u001b[0mcv_path\u001b[0m\u001b[0;34m)\u001b[0m\u001b[0;34m:\u001b[0m\u001b[0;34m\u001b[0m\u001b[0;34m\u001b[0m\u001b[0m\n\u001b[0;32m---> 72\u001b[0;31m     \u001b[0mwi\u001b[0m \u001b[0;34m=\u001b[0m \u001b[0mpickle\u001b[0m\u001b[0;34m.\u001b[0m\u001b[0mload\u001b[0m\u001b[0;34m(\u001b[0m\u001b[0mopen\u001b[0m\u001b[0;34m(\u001b[0m\u001b[0mwi_path\u001b[0m\u001b[0;34m,\u001b[0m \u001b[0;34m\"rb\"\u001b[0m\u001b[0;34m)\u001b[0m\u001b[0;34m)\u001b[0m\u001b[0;34m\u001b[0m\u001b[0;34m\u001b[0m\u001b[0m\n\u001b[0m\u001b[1;32m     73\u001b[0m     \u001b[0miw\u001b[0m \u001b[0;34m=\u001b[0m \u001b[0mpickle\u001b[0m\u001b[0;34m.\u001b[0m\u001b[0mload\u001b[0m\u001b[0;34m(\u001b[0m\u001b[0mopen\u001b[0m\u001b[0;34m(\u001b[0m\u001b[0miw_path\u001b[0m\u001b[0;34m,\u001b[0m \u001b[0;34m\"rb\"\u001b[0m\u001b[0;34m)\u001b[0m\u001b[0;34m)\u001b[0m\u001b[0;34m\u001b[0m\u001b[0;34m\u001b[0m\u001b[0m\n\u001b[1;32m     74\u001b[0m     \u001b[0mcv\u001b[0m \u001b[0;34m=\u001b[0m \u001b[0mpickle\u001b[0m\u001b[0;34m.\u001b[0m\u001b[0mload\u001b[0m\u001b[0;34m(\u001b[0m\u001b[0mopen\u001b[0m\u001b[0;34m(\u001b[0m\u001b[0mcv_path\u001b[0m\u001b[0;34m,\u001b[0m \u001b[0;34m\"rb\"\u001b[0m\u001b[0;34m)\u001b[0m\u001b[0;34m)\u001b[0m\u001b[0;34m\u001b[0m\u001b[0;34m\u001b[0m\u001b[0m\n",
      "\u001b[0;31mFileNotFoundError\u001b[0m: [Errno 2] No such file or directory: '/Users/gerardo/Documents/MaestriaPUCP/Tesis/Código/main/adversarial_misspellings_master/defenses/scRNN/vocab/yi_random_teacher_general_w2i_2999.p'"
     ]
    }
   ],
   "metadata": {}
  },
  {
   "cell_type": "markdown",
   "source": [
    "# Proximidad de teclado + General → General"
   ],
   "metadata": {}
  },
  {
   "cell_type": "code",
   "execution_count": null,
   "source": [
    "checker = ScRNNChecker(language=\"yi\", task_name=\"keyprox_teacher_general\")\n",
    "\n",
    "sentence_with_errors = \"\"\n",
    "prediction = checker.correct_string(sentence_with_errors)\n",
    "reference = \"\"\n",
    "\n",
    "print(\"{text: <{padding}}: {sentence}\".format(text=\"Oración con errores ortográficos\", sentence=sentence_with_errors, padding=padding))\n",
    "print(\"{text: <{padding}}: {sentence}\".format(text=\"Predicción\", sentence=prediction, padding=padding))\n",
    "print(\"{text: <{padding}}: {sentence}\".format(text=\"Referencia\", sentence=reference, padding=padding))\n"
   ],
   "outputs": [],
   "metadata": {}
  },
  {
   "cell_type": "markdown",
   "source": [
    "# Similitud de sílaba + General → General"
   ],
   "metadata": {}
  },
  {
   "cell_type": "code",
   "execution_count": null,
   "source": [
    "checker = ScRNNChecker(language=\"yi\", task_name=\"sylsim_teacher_general\")\n",
    "\n",
    "sentence_with_errors = \"\"\n",
    "prediction = checker.correct_string(sentence_with_errors)\n",
    "reference = \"\"\n",
    "\n",
    "print(\"{text: <{padding}}: {sentence}\".format(text=\"Oración con errores ortográficos\", sentence=sentence_with_errors, padding=padding))\n",
    "print(\"{text: <{padding}}: {sentence}\".format(text=\"Predicción\", sentence=prediction, padding=padding))\n",
    "print(\"{text: <{padding}}: {sentence}\".format(text=\"Referencia\", sentence=reference, padding=padding))\n"
   ],
   "outputs": [],
   "metadata": {}
  },
  {
   "cell_type": "markdown",
   "source": [
    "# Desnormalización + General → General"
   ],
   "metadata": {}
  },
  {
   "cell_type": "code",
   "execution_count": null,
   "source": [
    "checker = ScRNNChecker(language=\"yi\", task_name=\"unnorm_teacher_general\")\n",
    "\n",
    "sentence_with_errors = \"\"\n",
    "prediction = checker.correct_string(sentence_with_errors)\n",
    "reference = \"\"\n",
    "\n",
    "print(\"{text: <{padding}}: {sentence}\".format(text=\"Oración con errores ortográficos\", sentence=sentence_with_errors, padding=padding))\n",
    "print(\"{text: <{padding}}: {sentence}\".format(text=\"Predicción\", sentence=prediction, padding=padding))\n",
    "print(\"{text: <{padding}}: {sentence}\".format(text=\"Referencia\", sentence=reference, padding=padding))\n"
   ],
   "outputs": [],
   "metadata": {}
  },
  {
   "cell_type": "markdown",
   "source": [
    "# Todos + General → General"
   ],
   "metadata": {}
  },
  {
   "cell_type": "code",
   "execution_count": null,
   "source": [
    "checker = ScRNNChecker(language=\"yi\", task_name=\"all_teacher_general\")\n",
    "\n",
    "sentence_with_errors = \"\"\n",
    "prediction = checker.correct_string(sentence_with_errors)\n",
    "reference = \"\"\n",
    "\n",
    "print(\"{text: <{padding}}: {sentence}\".format(text=\"Oración con errores ortográficos\", sentence=sentence_with_errors, padding=padding))\n",
    "print(\"{text: <{padding}}: {sentence}\".format(text=\"Predicción\", sentence=prediction, padding=padding))\n",
    "print(\"{text: <{padding}}: {sentence}\".format(text=\"Referencia\", sentence=reference, padding=padding))\n"
   ],
   "outputs": [],
   "metadata": {}
  },
  {
   "cell_type": "markdown",
   "source": [
    "# Error aleatorio + General → Normalización"
   ],
   "metadata": {}
  },
  {
   "cell_type": "code",
   "execution_count": null,
   "source": [
    "checker = ScRNNChecker(language=\"yi\", task_name=\"random_teacher_general\")\n",
    "\n",
    "sentence_with_errors = \"\"\n",
    "prediction = checker.correct_string(sentence_with_errors)\n",
    "reference = \"\"\n",
    "\n",
    "print(\"{text: <{padding}}: {sentence}\".format(text=\"Oración con errores ortográficos\", sentence=sentence_with_errors, padding=padding))\n",
    "print(\"{text: <{padding}}: {sentence}\".format(text=\"Predicción\", sentence=prediction, padding=padding))\n",
    "print(\"{text: <{padding}}: {sentence}\".format(text=\"Referencia\", sentence=reference, padding=padding))\n"
   ],
   "outputs": [],
   "metadata": {}
  },
  {
   "cell_type": "markdown",
   "source": [
    "# Proximidad de teclado + General → Normalización"
   ],
   "metadata": {}
  },
  {
   "cell_type": "code",
   "execution_count": null,
   "source": [
    "checker = ScRNNChecker(language=\"yi\", task_name=\"keyprox_teacher_general\")\n",
    "\n",
    "sentence_with_errors = \"\"\n",
    "prediction = checker.correct_string(sentence_with_errors)\n",
    "reference = \"\"\n",
    "\n",
    "print(\"{text: <{padding}}: {sentence}\".format(text=\"Oración con errores ortográficos\", sentence=sentence_with_errors, padding=padding))\n",
    "print(\"{text: <{padding}}: {sentence}\".format(text=\"Predicción\", sentence=prediction, padding=padding))\n",
    "print(\"{text: <{padding}}: {sentence}\".format(text=\"Referencia\", sentence=reference, padding=padding))\n"
   ],
   "outputs": [],
   "metadata": {}
  },
  {
   "cell_type": "markdown",
   "source": [
    "# Similitud de sílaba + General → Normalización"
   ],
   "metadata": {}
  },
  {
   "cell_type": "code",
   "execution_count": null,
   "source": [
    "checker = ScRNNChecker(language=\"yi\", task_name=\"sylsim_teacher_general\")\n",
    "\n",
    "sentence_with_errors = \"\"\n",
    "prediction = checker.correct_string(sentence_with_errors)\n",
    "reference = \"\"\n",
    "\n",
    "print(\"{text: <{padding}}: {sentence}\".format(text=\"Oración con errores ortográficos\", sentence=sentence_with_errors, padding=padding))\n",
    "print(\"{text: <{padding}}: {sentence}\".format(text=\"Predicción\", sentence=prediction, padding=padding))\n",
    "print(\"{text: <{padding}}: {sentence}\".format(text=\"Referencia\", sentence=reference, padding=padding))\n"
   ],
   "outputs": [],
   "metadata": {}
  },
  {
   "cell_type": "markdown",
   "source": [
    "# Desnormalización + General → Normalización"
   ],
   "metadata": {}
  },
  {
   "cell_type": "code",
   "execution_count": null,
   "source": [
    "checker = ScRNNChecker(language=\"yi\", task_name=\"unnorm_teacher_general\")\n",
    "\n",
    "sentence_with_errors = \"\"\n",
    "prediction = checker.correct_string(sentence_with_errors)\n",
    "reference = \"\"\n",
    "\n",
    "print(\"{text: <{padding}}: {sentence}\".format(text=\"Oración con errores ortográficos\", sentence=sentence_with_errors, padding=padding))\n",
    "print(\"{text: <{padding}}: {sentence}\".format(text=\"Predicción\", sentence=prediction, padding=padding))\n",
    "print(\"{text: <{padding}}: {sentence}\".format(text=\"Referencia\", sentence=reference, padding=padding))\n"
   ],
   "outputs": [],
   "metadata": {}
  },
  {
   "cell_type": "markdown",
   "source": [
    "# Todos + General → Normalización"
   ],
   "metadata": {}
  },
  {
   "cell_type": "code",
   "execution_count": null,
   "source": [
    "checker = ScRNNChecker(language=\"yi\", task_name=\"all_teacher_general\")\n",
    "\n",
    "sentence_with_errors = \"\"\n",
    "prediction = checker.correct_string(sentence_with_errors)\n",
    "reference = \"\"\n",
    "\n",
    "print(\"{text: <{padding}}: {sentence}\".format(text=\"Oración con errores ortográficos\", sentence=sentence_with_errors, padding=padding))\n",
    "print(\"{text: <{padding}}: {sentence}\".format(text=\"Predicción\", sentence=prediction, padding=padding))\n",
    "print(\"{text: <{padding}}: {sentence}\".format(text=\"Referencia\", sentence=reference, padding=padding))\n"
   ],
   "outputs": [],
   "metadata": {}
  }
 ],
 "metadata": {
  "orig_nbformat": 4,
  "language_info": {
   "name": "python",
   "version": "3.9.5",
   "mimetype": "text/x-python",
   "codemirror_mode": {
    "name": "ipython",
    "version": 3
   },
   "pygments_lexer": "ipython3",
   "nbconvert_exporter": "python",
   "file_extension": ".py"
  },
  "kernelspec": {
   "name": "python3",
   "display_name": "Python 3.9.5 64-bit"
  },
  "interpreter": {
   "hash": "397704579725e15f5c7cb49fe5f0341eb7531c82d19f2c29d197e8b64ab5776b"
  }
 },
 "nbformat": 4,
 "nbformat_minor": 2
}