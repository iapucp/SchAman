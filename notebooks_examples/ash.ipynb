{
 "cells": [
  {
   "cell_type": "code",
   "execution_count": 1,
   "source": [
    "import sys\n",
    "\n",
    "sys.path.append(\"..\")\n",
    "\n",
    "from corrector import ScRNNChecker"
   ],
   "outputs": [],
   "metadata": {}
  },
  {
   "cell_type": "code",
   "execution_count": 2,
   "source": [
    "padding = 35"
   ],
   "outputs": [],
   "metadata": {}
  },
  {
   "cell_type": "markdown",
   "source": [
    "# Error aleatorio (base)"
   ],
   "metadata": {}
  },
  {
   "cell_type": "code",
   "execution_count": 3,
   "source": [
    "checker = ScRNNChecker(language=\"ash\", task_name=\"random\")\n",
    "\n",
    "sentence_with_errors = \"iyotatrio timasi ankirentsi shokayretatsiri tsankeny aqtsimiyi oboshinikna kiptsi\"\n",
    "prediction = checker.correct_string(sentence_with_errors)\n",
    "reference = \"iyotatiro timatsi pankirentsi shokayetatsiri tsankeni atsimiyi oboshininka kipatsi\"\n",
    "\n",
    "print(\"{text: <{padding}}: {sentence}\".format(text=\"Oración con errores ortográficos\", sentence=sentence_with_errors, padding=padding))\n",
    "print(\"{text: <{padding}}: {sentence}\".format(text=\"Predicción\", sentence=prediction, padding=padding))\n",
    "print(\"{text: <{padding}}: {sentence}\".format(text=\"Referencia\", sentence=reference, padding=padding))\n"
   ],
   "outputs": [
    {
     "output_type": "stream",
     "name": "stdout",
     "text": [
      "/Users/gerardo/Documents/MaestriaPUCP/Tesis/Código/main/adversarial_misspellings_master/defenses/scRNN/models/ash_random_4999_100_32\n",
      "Oración con errores ortográficos   : iyotatrio timasi ankirentsi shokayretatsiri tsankeny aqtsimiyi oboshinikna kiptsi\n",
      "Predicción                         : iyotitaro timatsi pankirentsi shokayretatsiri tsankeny aqtsimiyi oboshinikna kipatsi\n",
      "Referencia                         : iyotatiro timatsi pankirentsi shokayetatsiri tsankeni atsimiyi oboshininka kipatsi\n"
     ]
    }
   ],
   "metadata": {}
  },
  {
   "cell_type": "markdown",
   "source": [
    "# Proximidad de teclado (base)"
   ],
   "metadata": {}
  },
  {
   "cell_type": "code",
   "execution_count": 4,
   "source": [
    "checker = ScRNNChecker(language=\"ash\", task_name=\"keyprox\")\n",
    "\n",
    "sentence_with_errors = \"yotanfsi ashitwrori pobametsagajero pamtabaere piysipatyari pjtsipamintsare euati obametompiri\"\n",
    "prediction = checker.correct_string(sentence_with_errors)\n",
    "reference = \"yotantsi ashitarori pobametsatajero pantabaere pitsipatyari pitsipamintsare ejati obametimpiri\"\n",
    "\n",
    "print(\"{text: <{padding}}: {sentence}\".format(text=\"Oración con errores ortográficos\", sentence=sentence_with_errors, padding=padding))\n",
    "print(\"{text: <{padding}}: {sentence}\".format(text=\"Predicción\", sentence=prediction, padding=padding))\n",
    "print(\"{text: <{padding}}: {sentence}\".format(text=\"Referencia\", sentence=reference, padding=padding))\n"
   ],
   "outputs": [
    {
     "output_type": "stream",
     "name": "stdout",
     "text": [
      "/Users/gerardo/Documents/MaestriaPUCP/Tesis/Código/main/adversarial_misspellings_master/defenses/scRNN/models/ash_keyprox_4999_100_32\n",
      "Oración con errores ortográficos   : yotanfsi ashitwrori pobametsagajero pamtabaere piysipatyari pjtsipamintsare euati obametompiri\n",
      "Predicción                         : yotantsi ashitarori pobametsatajero pantabaere pitsipatyari pitsipamintsare ejati obametimpiri\n",
      "Referencia                         : yotantsi ashitarori pobametsatajero pantabaere pitsipatyari pitsipamintsare ejati obametimpiri\n"
     ]
    }
   ],
   "metadata": {}
  },
  {
   "cell_type": "markdown",
   "source": [
    "# Confusión fonema-grafema (base)"
   ],
   "metadata": {}
  },
  {
   "cell_type": "code",
   "execution_count": 5,
   "source": [
    "checker = ScRNNChecker(language=\"ash\", task_name=\"phongrafamb\")\n",
    "\n",
    "sentence_with_errors = \"mija aashi añaantyarii timatsii ashitaroori añabentakoteroo awisayetatsiri\"\n",
    "prediction = checker.correct_string(sentence_with_errors)\n",
    "reference = \"nija ashi añaantyari timatsi ashitarori añabentakotero abisayetatsiri\"\n",
    "\n",
    "print(\"{text: <{padding}}: {sentence}\".format(text=\"Oración con errores ortográficos\", sentence=sentence_with_errors, padding=padding))\n",
    "print(\"{text: <{padding}}: {sentence}\".format(text=\"Predicción\", sentence=prediction, padding=padding))\n",
    "print(\"{text: <{padding}}: {sentence}\".format(text=\"Referencia\", sentence=reference, padding=padding))\n"
   ],
   "outputs": [
    {
     "output_type": "stream",
     "name": "stdout",
     "text": [
      "/Users/gerardo/Documents/MaestriaPUCP/Tesis/Código/main/adversarial_misspellings_master/defenses/scRNN/models/ash_phongrafamb_4999_100_32\n",
      "Oración con errores ortográficos   : mija aashi añaantyarii timatsii ashitaroori añabentakoteroo awisayetatsiri\n",
      "Predicción                         : nija ashi añaantyari timatsi ashitarori añabentakotero abisayetatsiri\n",
      "Referencia                         : nija ashi añaantyari timatsi ashitarori añabentakotero abisayetatsiri\n"
     ]
    }
   ],
   "metadata": {}
  },
  {
   "cell_type": "markdown",
   "source": [
    "# Similitud de sílaba (base)"
   ],
   "metadata": {}
  },
  {
   "cell_type": "code",
   "execution_count": 6,
   "source": [
    "checker = ScRNNChecker(language=\"ash\", task_name=\"sylsim\")\n",
    "\n",
    "sentence_with_errors = \"iyotatipo ttmatsi pankireetsi shokayetatsimi tsaekeni atsimiyo oboshijinka kipeatsi\"\n",
    "prediction = checker.correct_string(sentence_with_errors)\n",
    "reference = \"iyotatiro timatsi pankirentsi shokayetatsiri tsankeni atsimiyi oboshininka kipatsi\"\n",
    "\n",
    "print(\"{text: <{padding}}: {sentence}\".format(text=\"Oración con errores ortográficos\", sentence=sentence_with_errors, padding=padding))\n",
    "print(\"{text: <{padding}}: {sentence}\".format(text=\"Predicción\", sentence=prediction, padding=padding))\n",
    "print(\"{text: <{padding}}: {sentence}\".format(text=\"Referencia\", sentence=reference, padding=padding))\n"
   ],
   "outputs": [
    {
     "output_type": "stream",
     "name": "stdout",
     "text": [
      "/Users/gerardo/Documents/MaestriaPUCP/Tesis/Código/main/adversarial_misspellings_master/defenses/scRNN/models/ash_sylsim_4999_100_32\n",
      "Oración con errores ortográficos   : iyotatipo ttmatsi pankireetsi shokayetatsimi tsaekeni atsimiyo oboshijinka kipeatsi\n",
      "Predicción                         : iyotatipo timatsi pankireetsi shokayetatsimi tsaekeni atsimiyo oboshijinka kipatsi\n",
      "Referencia                         : iyotatiro timatsi pankirentsi shokayetatsiri tsankeni atsimiyi oboshininka kipatsi\n"
     ]
    }
   ],
   "metadata": {}
  },
  {
   "cell_type": "markdown",
   "source": [
    "# Desnormalización (base)"
   ],
   "metadata": {}
  },
  {
   "cell_type": "code",
   "execution_count": 7,
   "source": [
    "checker = ScRNNChecker(language=\"ash\", task_name=\"unnorm\")\n",
    "\n",
    "sentence_with_errors = \"tsiqua opaitaca pashini piyotiri eroca\"\n",
    "prediction = checker.correct_string(sentence_with_errors)\n",
    "reference = \"tsika opaitaka pashini piyotiri eroka\"\n",
    "\n",
    "print(\"{text: <{padding}}: {sentence}\".format(text=\"Oración con errores ortográficos\", sentence=sentence_with_errors, padding=padding))\n",
    "print(\"{text: <{padding}}: {sentence}\".format(text=\"Predicción\", sentence=prediction, padding=padding))\n",
    "print(\"{text: <{padding}}: {sentence}\".format(text=\"Referencia\", sentence=reference, padding=padding))\n"
   ],
   "outputs": [
    {
     "output_type": "stream",
     "name": "stdout",
     "text": [
      "/Users/gerardo/Documents/MaestriaPUCP/Tesis/Código/main/adversarial_misspellings_master/defenses/scRNN/models/ash_unnorm_4999_100_32\n",
      "Oración con errores ortográficos   : tsiqua opaitaca pashini piyotiri eroca\n",
      "Predicción                         : tsika opaitaka pashini piyotiri eroka\n",
      "Referencia                         : tsika opaitaka pashini piyotiri eroka\n"
     ]
    }
   ],
   "metadata": {}
  },
  {
   "cell_type": "markdown",
   "source": [
    "# Todos (base)"
   ],
   "metadata": {}
  },
  {
   "cell_type": "code",
   "execution_count": 8,
   "source": [
    "checker = ScRNNChecker(language=\"ash\", task_name=\"all\")\n",
    "\n",
    "sentence_with_errors = \"obetsikayetirj akole pimñotsotero jsnika oinijantqnankerori tejantsipw\"\n",
    "prediction = checker.correct_string(sentence_with_errors)\n",
    "reference = \"obetsikayetiri akope pimpotsotero janika oinijantanankerori tejantsipe\"\n",
    "\n",
    "print(\"{text: <{padding}}: {sentence}\".format(text=\"Oración con errores ortográficos\", sentence=sentence_with_errors, padding=padding))\n",
    "print(\"{text: <{padding}}: {sentence}\".format(text=\"Predicción\", sentence=prediction, padding=padding))\n",
    "print(\"{text: <{padding}}: {sentence}\".format(text=\"Referencia\", sentence=reference, padding=padding))\n"
   ],
   "outputs": [
    {
     "output_type": "stream",
     "name": "stdout",
     "text": [
      "/Users/gerardo/Documents/MaestriaPUCP/Tesis/Código/main/adversarial_misspellings_master/defenses/scRNN/models/ash_all_4999_100_32\n",
      "Oración con errores ortográficos   : obetsikayetirj akole pimñotsotero jsnika oinijantqnankerori tejantsipw\n",
      "Predicción                         : obetsikayetiri akope pimpotsotero janika oinijantanakerori tejantsipe\n",
      "Referencia                         : obetsikayetiri akope pimpotsotero janika oinijantanankerori tejantsipe\n"
     ]
    }
   ],
   "metadata": {}
  },
  {
   "cell_type": "markdown",
   "source": [
    "# Error aleatorio + General → General"
   ],
   "metadata": {}
  },
  {
   "cell_type": "code",
   "execution_count": 9,
   "source": [
    "checker = ScRNNChecker(language=\"ash\", task_name=\"random_teacher_general\")\n",
    "\n",
    "sentence_with_errors = \"aitake okantakerori ina shametyo eiro pijatajetsi pinampike\"\n",
    "prediction = checker.correct_string(sentence_with_errors)\n",
    "reference = \"aitake okantakerori ina shametyo eiro pijatajitsi pinanpiki\"\n",
    "\n",
    "print(\"{text: <{padding}}: {sentence}\".format(text=\"Oración con errores ortográficos\", sentence=sentence_with_errors, padding=padding))\n",
    "print(\"{text: <{padding}}: {sentence}\".format(text=\"Predicción\", sentence=prediction, padding=padding))\n",
    "print(\"{text: <{padding}}: {sentence}\".format(text=\"Referencia\", sentence=reference, padding=padding))\n"
   ],
   "outputs": [
    {
     "output_type": "stream",
     "name": "stdout",
     "text": [
      "/Users/gerardo/Documents/MaestriaPUCP/Tesis/Código/main/adversarial_misspellings_master/defenses/scRNN/models/ash_random_teacher_general_4999_100_32\n",
      "Oración con errores ortográficos   : aitake okantakerori ina shametyo eiro pijatajetsi pinampike\n",
      "Predicción                         : aitake okantakerori ina shametyo eiro pijatajetsi pinampiki\n",
      "Referencia                         : aitake okantakerori ina shametyo eiro pijatajitsi pinanpiki\n"
     ]
    }
   ],
   "metadata": {}
  },
  {
   "cell_type": "markdown",
   "source": [
    "# Proximidad de teclado + General → General"
   ],
   "metadata": {}
  },
  {
   "cell_type": "code",
   "execution_count": 10,
   "source": [
    "checker = ScRNNChecker(language=\"ash\", task_name=\"keyprox_teacher_general\")\n",
    "\n",
    "sentence_with_errors = \"aitake okantakerori ina shametyo eiro pijatajetsi pinampike\"\n",
    "prediction = checker.correct_string(sentence_with_errors)\n",
    "reference = \"aitake okantakerori ina shametyo eiro pijatajitsi pinanpiki\"\n",
    "\n",
    "print(\"{text: <{padding}}: {sentence}\".format(text=\"Oración con errores ortográficos\", sentence=sentence_with_errors, padding=padding))\n",
    "print(\"{text: <{padding}}: {sentence}\".format(text=\"Predicción\", sentence=prediction, padding=padding))\n",
    "print(\"{text: <{padding}}: {sentence}\".format(text=\"Referencia\", sentence=reference, padding=padding))\n"
   ],
   "outputs": [
    {
     "output_type": "stream",
     "name": "stdout",
     "text": [
      "/Users/gerardo/Documents/MaestriaPUCP/Tesis/Código/main/adversarial_misspellings_master/defenses/scRNN/models/ash_keyprox_teacher_general_4999_100_32\n",
      "Oración con errores ortográficos   : aitake okantakerori ina shametyo eiro pijatajetsi pinampike\n",
      "Predicción                         : aitake okantakerori ina shametyo eiro pijatajetsi pinampiki\n",
      "Referencia                         : aitake okantakerori ina shametyo eiro pijatajitsi pinanpiki\n"
     ]
    }
   ],
   "metadata": {}
  },
  {
   "cell_type": "markdown",
   "source": [
    "# Confusión fonema-grafema + General → General"
   ],
   "metadata": {}
  },
  {
   "cell_type": "code",
   "execution_count": 11,
   "source": [
    "checker = ScRNNChecker(language=\"ash\", task_name=\"phongrafamb_teacher_general\")\n",
    "\n",
    "sentence_with_errors = \"aitake okantakerori ina shametyo eiro pijatajetsi pinampike\"\n",
    "prediction = checker.correct_string(sentence_with_errors)\n",
    "reference = \"aitake okantakerori ina shametyo eiro pijatajitsi pinanpiki\"\n",
    "\n",
    "print(\"{text: <{padding}}: {sentence}\".format(text=\"Oración con errores ortográficos\", sentence=sentence_with_errors, padding=padding))\n",
    "print(\"{text: <{padding}}: {sentence}\".format(text=\"Predicción\", sentence=prediction, padding=padding))\n",
    "print(\"{text: <{padding}}: {sentence}\".format(text=\"Referencia\", sentence=reference, padding=padding))\n"
   ],
   "outputs": [
    {
     "output_type": "stream",
     "name": "stdout",
     "text": [
      "/Users/gerardo/Documents/MaestriaPUCP/Tesis/Código/main/adversarial_misspellings_master/defenses/scRNN/models/ash_phongrafamb_teacher_general_4999_100_32\n",
      "Oración con errores ortográficos   : aitake okantakerori ina shametyo eiro pijatajetsi pinampike\n",
      "Predicción                         : aitake okantakerori ina shametyo eiro pijatajetsi pinampiki\n",
      "Referencia                         : aitake okantakerori ina shametyo eiro pijatajitsi pinanpiki\n"
     ]
    }
   ],
   "metadata": {}
  },
  {
   "cell_type": "markdown",
   "source": [
    "# Similitud de sílaba + General → General"
   ],
   "metadata": {}
  },
  {
   "cell_type": "code",
   "execution_count": 12,
   "source": [
    "checker = ScRNNChecker(language=\"ash\", task_name=\"sylsim_teacher_general\")\n",
    "\n",
    "sentence_with_errors = \"aitake okantakerori ina shametyo eiro pijatajetsi pinampike\"\n",
    "prediction = checker.correct_string(sentence_with_errors)\n",
    "reference = \"aitake okantakerori ina shametyo eiro pijatajitsi pinanpiki\"\n",
    "\n",
    "print(\"{text: <{padding}}: {sentence}\".format(text=\"Oración con errores ortográficos\", sentence=sentence_with_errors, padding=padding))\n",
    "print(\"{text: <{padding}}: {sentence}\".format(text=\"Predicción\", sentence=prediction, padding=padding))\n",
    "print(\"{text: <{padding}}: {sentence}\".format(text=\"Referencia\", sentence=reference, padding=padding))\n"
   ],
   "outputs": [
    {
     "output_type": "stream",
     "name": "stdout",
     "text": [
      "/Users/gerardo/Documents/MaestriaPUCP/Tesis/Código/main/adversarial_misspellings_master/defenses/scRNN/models/ash_sylsim_teacher_general_4999_100_32\n",
      "Oración con errores ortográficos   : aitake okantakerori ina shametyo eiro pijatajetsi pinampike\n",
      "Predicción                         : aitake okantakerori ina shametyo eiro pijatajetsi pinampiki\n",
      "Referencia                         : aitake okantakerori ina shametyo eiro pijatajitsi pinanpiki\n"
     ]
    }
   ],
   "metadata": {}
  },
  {
   "cell_type": "markdown",
   "source": [
    "# Desnormalización + General → General"
   ],
   "metadata": {}
  },
  {
   "cell_type": "code",
   "execution_count": 13,
   "source": [
    "checker = ScRNNChecker(language=\"ash\", task_name=\"unnorm_teacher_general\")\n",
    "\n",
    "sentence_with_errors = \"aitake okantakerori ina shametyo eiro pijatajetsi pinampike\"\n",
    "prediction = checker.correct_string(sentence_with_errors)\n",
    "reference = \"aitake okantakerori ina shametyo eiro pijatajitsi pinanpiki\"\n",
    "\n",
    "print(\"{text: <{padding}}: {sentence}\".format(text=\"Oración con errores ortográficos\", sentence=sentence_with_errors, padding=padding))\n",
    "print(\"{text: <{padding}}: {sentence}\".format(text=\"Predicción\", sentence=prediction, padding=padding))\n",
    "print(\"{text: <{padding}}: {sentence}\".format(text=\"Referencia\", sentence=reference, padding=padding))\n"
   ],
   "outputs": [
    {
     "output_type": "stream",
     "name": "stdout",
     "text": [
      "/Users/gerardo/Documents/MaestriaPUCP/Tesis/Código/main/adversarial_misspellings_master/defenses/scRNN/models/ash_unnorm_teacher_general_4999_100_32\n",
      "Oración con errores ortográficos   : aitake okantakerori ina shametyo eiro pijatajetsi pinampike\n",
      "Predicción                         : aitake okantakerori ina shametyo eiro pijatajetsi pinampiki\n",
      "Referencia                         : aitake okantakerori ina shametyo eiro pijatajitsi pinanpiki\n"
     ]
    }
   ],
   "metadata": {}
  },
  {
   "cell_type": "markdown",
   "source": [
    "# Todos + General → General"
   ],
   "metadata": {}
  },
  {
   "cell_type": "code",
   "execution_count": 14,
   "source": [
    "checker = ScRNNChecker(language=\"ash\", task_name=\"all_teacher_general\")\n",
    "\n",
    "sentence_with_errors = \"aitake okantakerori ina shametyo eiro pijatajetsi pinampike\"\n",
    "prediction = checker.correct_string(sentence_with_errors)\n",
    "reference = \"aitake okantakerori ina shametyo eiro pijatajitsi pinanpiki\"\n",
    "\n",
    "print(\"{text: <{padding}}: {sentence}\".format(text=\"Oración con errores ortográficos\", sentence=sentence_with_errors, padding=padding))\n",
    "print(\"{text: <{padding}}: {sentence}\".format(text=\"Predicción\", sentence=prediction, padding=padding))\n",
    "print(\"{text: <{padding}}: {sentence}\".format(text=\"Referencia\", sentence=reference, padding=padding))\n"
   ],
   "outputs": [
    {
     "output_type": "stream",
     "name": "stdout",
     "text": [
      "/Users/gerardo/Documents/MaestriaPUCP/Tesis/Código/main/adversarial_misspellings_master/defenses/scRNN/models/ash_all_teacher_general_4999_100_32\n",
      "Oración con errores ortográficos   : aitake okantakerori ina shametyo eiro pijatajetsi pinampike\n",
      "Predicción                         : aitake okantakerori ina shametyo eiro pijatajetsi pinampiki\n",
      "Referencia                         : aitake okantakerori ina shametyo eiro pijatajitsi pinanpiki\n"
     ]
    }
   ],
   "metadata": {}
  },
  {
   "cell_type": "markdown",
   "source": [
    "# Error aleatorio + General → Normalización"
   ],
   "metadata": {}
  },
  {
   "cell_type": "code",
   "execution_count": 15,
   "source": [
    "checker = ScRNNChecker(language=\"ash\", task_name=\"random_teacher_general\")\n",
    "\n",
    "sentence_with_errors = \"ipesaquero iraco coqui ipesavetaro shivitsa avotsiqui\"\n",
    "prediction = checker.correct_string(sentence_with_errors)\n",
    "reference = \"ipesakero irako koki ipesabetaro shibitsa abotsiki\"\n",
    "\n",
    "print(\"{text: <{padding}}: {sentence}\".format(text=\"Oración con errores ortográficos\", sentence=sentence_with_errors, padding=padding))\n",
    "print(\"{text: <{padding}}: {sentence}\".format(text=\"Predicción\", sentence=prediction, padding=padding))\n",
    "print(\"{text: <{padding}}: {sentence}\".format(text=\"Referencia\", sentence=reference, padding=padding))\n"
   ],
   "outputs": [
    {
     "output_type": "stream",
     "name": "stdout",
     "text": [
      "/Users/gerardo/Documents/MaestriaPUCP/Tesis/Código/main/adversarial_misspellings_master/defenses/scRNN/models/ash_random_teacher_general_4999_100_32\n",
      "Oración con errores ortográficos   : ipesaquero iraco coqui ipesavetaro shivitsa avotsiqui\n",
      "Predicción                         : ipesaquero iro choki ipesavetaro shibitsa avotsiqui\n",
      "Referencia                         : ipesakero irako koki ipesabetaro shibitsa abotsiki\n"
     ]
    }
   ],
   "metadata": {}
  },
  {
   "cell_type": "markdown",
   "source": [
    "# Proximidad de teclado + General → Normalización"
   ],
   "metadata": {}
  },
  {
   "cell_type": "code",
   "execution_count": 16,
   "source": [
    "checker = ScRNNChecker(language=\"ash\", task_name=\"keyprox_teacher_general\")\n",
    "\n",
    "sentence_with_errors = \"ipesaquero iraco coqui ipesavetaro shivitsa avotsiqui\"\n",
    "prediction = checker.correct_string(sentence_with_errors)\n",
    "reference = \"ipesakero irako koki ipesabetaro shibitsa abotsiki\"\n",
    "\n",
    "print(\"{text: <{padding}}: {sentence}\".format(text=\"Oración con errores ortográficos\", sentence=sentence_with_errors, padding=padding))\n",
    "print(\"{text: <{padding}}: {sentence}\".format(text=\"Predicción\", sentence=prediction, padding=padding))\n",
    "print(\"{text: <{padding}}: {sentence}\".format(text=\"Referencia\", sentence=reference, padding=padding))\n"
   ],
   "outputs": [
    {
     "output_type": "stream",
     "name": "stdout",
     "text": [
      "/Users/gerardo/Documents/MaestriaPUCP/Tesis/Código/main/adversarial_misspellings_master/defenses/scRNN/models/ash_keyprox_teacher_general_4999_100_32\n",
      "Oración con errores ortográficos   : ipesaquero iraco coqui ipesavetaro shivitsa avotsiqui\n",
      "Predicción                         : ipesaquero inchato coqui ipesavetaro shibitsa avotsiqui\n",
      "Referencia                         : ipesakero irako koki ipesabetaro shibitsa abotsiki\n"
     ]
    }
   ],
   "metadata": {}
  },
  {
   "cell_type": "markdown",
   "source": [
    "# Confusión fonema-grafema + General → Normalización"
   ],
   "metadata": {}
  },
  {
   "cell_type": "code",
   "execution_count": 17,
   "source": [
    "checker = ScRNNChecker(language=\"ash\", task_name=\"phongrafamb_teacher_general\")\n",
    "\n",
    "sentence_with_errors = \"ipesaquero iraco coqui ipesavetaro shivitsa avotsiqui\"\n",
    "prediction = checker.correct_string(sentence_with_errors)\n",
    "reference = \"ipesakero irako koki ipesabetaro shibitsa abotsiki\"\n",
    "\n",
    "print(\"{text: <{padding}}: {sentence}\".format(text=\"Oración con errores ortográficos\", sentence=sentence_with_errors, padding=padding))\n",
    "print(\"{text: <{padding}}: {sentence}\".format(text=\"Predicción\", sentence=prediction, padding=padding))\n",
    "print(\"{text: <{padding}}: {sentence}\".format(text=\"Referencia\", sentence=reference, padding=padding))\n"
   ],
   "outputs": [
    {
     "output_type": "stream",
     "name": "stdout",
     "text": [
      "/Users/gerardo/Documents/MaestriaPUCP/Tesis/Código/main/adversarial_misspellings_master/defenses/scRNN/models/ash_phongrafamb_teacher_general_4999_100_32\n",
      "Oración con errores ortográficos   : ipesaquero iraco coqui ipesavetaro shivitsa avotsiqui\n",
      "Predicción                         : ipesaquero iraco koki ipesavetaro shibitsa avotsiqui\n",
      "Referencia                         : ipesakero irako koki ipesabetaro shibitsa abotsiki\n"
     ]
    }
   ],
   "metadata": {}
  },
  {
   "cell_type": "markdown",
   "source": [
    "# Similitud de sílaba + General → Normalización"
   ],
   "metadata": {}
  },
  {
   "cell_type": "code",
   "execution_count": 18,
   "source": [
    "checker = ScRNNChecker(language=\"ash\", task_name=\"sylsim_teacher_general\")\n",
    "\n",
    "sentence_with_errors = \"ipesaquero iraco coqui ipesavetaro shivitsa avotsiqui\"\n",
    "prediction = checker.correct_string(sentence_with_errors)\n",
    "reference = \"ipesakero irako koki ipesabetaro shibitsa abotsiki\"\n",
    "\n",
    "print(\"{text: <{padding}}: {sentence}\".format(text=\"Oración con errores ortográficos\", sentence=sentence_with_errors, padding=padding))\n",
    "print(\"{text: <{padding}}: {sentence}\".format(text=\"Predicción\", sentence=prediction, padding=padding))\n",
    "print(\"{text: <{padding}}: {sentence}\".format(text=\"Referencia\", sentence=reference, padding=padding))\n"
   ],
   "outputs": [
    {
     "output_type": "stream",
     "name": "stdout",
     "text": [
      "/Users/gerardo/Documents/MaestriaPUCP/Tesis/Código/main/adversarial_misspellings_master/defenses/scRNN/models/ash_sylsim_teacher_general_4999_100_32\n",
      "Oración con errores ortográficos   : ipesaquero iraco coqui ipesavetaro shivitsa avotsiqui\n",
      "Predicción                         : ipesaquero iraco coqui ipesavetaro shibitsa avotsiqui\n",
      "Referencia                         : ipesakero irako koki ipesabetaro shibitsa abotsiki\n"
     ]
    }
   ],
   "metadata": {}
  },
  {
   "cell_type": "markdown",
   "source": [
    "# Desnormalización + General → Normalización"
   ],
   "metadata": {}
  },
  {
   "cell_type": "code",
   "execution_count": 19,
   "source": [
    "checker = ScRNNChecker(language=\"ash\", task_name=\"unnorm_teacher_general\")\n",
    "\n",
    "sentence_with_errors = \"ipesaquero iraco coqui ipesavetaro shivitsa avotsiqui\"\n",
    "prediction = checker.correct_string(sentence_with_errors)\n",
    "reference = \"ipesakero irako koki ipesabetaro shibitsa abotsiki\"\n",
    "\n",
    "print(\"{text: <{padding}}: {sentence}\".format(text=\"Oración con errores ortográficos\", sentence=sentence_with_errors, padding=padding))\n",
    "print(\"{text: <{padding}}: {sentence}\".format(text=\"Predicción\", sentence=prediction, padding=padding))\n",
    "print(\"{text: <{padding}}: {sentence}\".format(text=\"Referencia\", sentence=reference, padding=padding))\n"
   ],
   "outputs": [
    {
     "output_type": "stream",
     "name": "stdout",
     "text": [
      "/Users/gerardo/Documents/MaestriaPUCP/Tesis/Código/main/adversarial_misspellings_master/defenses/scRNN/models/ash_unnorm_teacher_general_4999_100_32\n",
      "Oración con errores ortográficos   : ipesaquero iraco coqui ipesavetaro shivitsa avotsiqui\n",
      "Predicción                         : ipesaquero irako koki ipesavetaro shibitsa avotsiqui\n",
      "Referencia                         : ipesakero irako koki ipesabetaro shibitsa abotsiki\n"
     ]
    }
   ],
   "metadata": {}
  },
  {
   "cell_type": "markdown",
   "source": [
    "# Todos + General → Normalización"
   ],
   "metadata": {}
  },
  {
   "cell_type": "code",
   "execution_count": 20,
   "source": [
    "checker = ScRNNChecker(language=\"ash\", task_name=\"all_teacher_general\")\n",
    "\n",
    "sentence_with_errors = \"ipesaquero iraco coqui ipesavetaro shivitsa avotsiqui\"\n",
    "prediction = checker.correct_string(sentence_with_errors)\n",
    "reference = \"ipesakero irako koki ipesabetaro shibitsa abotsiki\"\n",
    "\n",
    "print(\"{text: <{padding}}: {sentence}\".format(text=\"Oración con errores ortográficos\", sentence=sentence_with_errors, padding=padding))\n",
    "print(\"{text: <{padding}}: {sentence}\".format(text=\"Predicción\", sentence=prediction, padding=padding))\n",
    "print(\"{text: <{padding}}: {sentence}\".format(text=\"Referencia\", sentence=reference, padding=padding))\n"
   ],
   "outputs": [
    {
     "output_type": "stream",
     "name": "stdout",
     "text": [
      "/Users/gerardo/Documents/MaestriaPUCP/Tesis/Código/main/adversarial_misspellings_master/defenses/scRNN/models/ash_all_teacher_general_4999_100_32\n",
      "Oración con errores ortográficos   : ipesaquero iraco coqui ipesavetaro shivitsa avotsiqui\n",
      "Predicción                         : ipesaquero iraco coqui ipesavetaro shibitsa avotsiqui\n",
      "Referencia                         : ipesakero irako koki ipesabetaro shibitsa abotsiki\n"
     ]
    }
   ],
   "metadata": {}
  }
 ],
 "metadata": {
  "orig_nbformat": 4,
  "language_info": {
   "name": "python",
   "version": "3.9.5",
   "mimetype": "text/x-python",
   "codemirror_mode": {
    "name": "ipython",
    "version": 3
   },
   "pygments_lexer": "ipython3",
   "nbconvert_exporter": "python",
   "file_extension": ".py"
  },
  "kernelspec": {
   "name": "python3",
   "display_name": "Python 3.9.5 64-bit"
  },
  "interpreter": {
   "hash": "397704579725e15f5c7cb49fe5f0341eb7531c82d19f2c29d197e8b64ab5776b"
  }
 },
 "nbformat": 4,
 "nbformat_minor": 2
}